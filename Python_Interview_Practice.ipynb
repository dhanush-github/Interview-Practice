{
  "nbformat": 4,
  "nbformat_minor": 0,
  "metadata": {
    "colab": {
      "provenance": []
    },
    "kernelspec": {
      "name": "python3",
      "display_name": "Python 3"
    },
    "language_info": {
      "name": "python"
    }
  },
  "cells": [
    {
      "cell_type": "code",
      "execution_count": null,
      "metadata": {
        "colab": {
          "base_uri": "https://localhost:8080/"
        },
        "id": "v2Z09S4ajVsa",
        "outputId": "fe4c9d61-6958-4cd7-e49f-16050b69e0ac"
      },
      "outputs": [
        {
          "output_type": "stream",
          "name": "stdout",
          "text": [
            "Enter the Number: 15\n",
            "Entered Number is  a Odd\n"
          ]
        }
      ],
      "source": [
        "# code to check if a number is even/odd\n",
        "\n",
        "num = int(input(\"Enter the Number: \"))\n",
        "\n",
        "if num % 2 == 0:\n",
        "    print(\"Entered number is a Even\")\n",
        "else:\n",
        "    print(\"Entered Number is  a Odd\")"
      ]
    },
    {
      "cell_type": "code",
      "source": [
        "user_input = input(\"Enter a string: \")\n",
        "\n",
        "if user_input:\n",
        "    print(\"You Entered:\", user_input)"
      ],
      "metadata": {
        "colab": {
          "base_uri": "https://localhost:8080/"
        },
        "id": "pLq-4npvl-DM",
        "outputId": "5fa1212e-d303-4760-ab2b-9850da75d5f2"
      },
      "execution_count": null,
      "outputs": [
        {
          "output_type": "stream",
          "name": "stdout",
          "text": [
            "Enter a string: HAT\n",
            "You Entered: HAT\n"
          ]
        }
      ]
    },
    {
      "cell_type": "code",
      "source": [
        "# PROGRAM TO CHECK WATER IS BOILIN OR NOT\n",
        "\n",
        "Temparature = float(input(\"Enter the temparature of water (in degree celsius): \"))\n",
        "\n",
        "if Temparature >= 100:\n",
        "    print(\"Water is at Boiling Point Temparature\")\n",
        "\n",
        "else:\n",
        "    print(\"Water is not at Boiling Point temparature\")"
      ],
      "metadata": {
        "colab": {
          "base_uri": "https://localhost:8080/"
        },
        "id": "N2Bk7KgkmkNR",
        "outputId": "cba56b30-cd86-46f7-9ab8-540d76e90f1d"
      },
      "execution_count": null,
      "outputs": [
        {
          "output_type": "stream",
          "name": "stdout",
          "text": [
            "Enter the temparature of water (in degree celsius): 123\n",
            "Water is at Boiling Point Temparature\n"
          ]
        }
      ]
    },
    {
      "cell_type": "code",
      "source": [
        "# assigning grades based on  the student's score\n",
        "\n",
        "student_test_score = float(input(\"Enter the Student's score (out of 100):\"))\n",
        "\n",
        "score = student_test_score\n",
        "\n",
        "if score >= 90:\n",
        "    print(\"Student has scored A grade\")\n",
        "elif score > 80 and score < 90:\n",
        "    print(\"Student has scored B Grade\")\n",
        "elif score >70 and score < 80:\n",
        "    print(\"Student has scored C Grade\")\n",
        "elif score < 70:\n",
        "    print(\"Student need ti improve \")\n"
      ],
      "metadata": {
        "colab": {
          "base_uri": "https://localhost:8080/"
        },
        "id": "2A8WNvHMnTE6",
        "outputId": "f2b8a45f-b331-4f8c-92c6-f59eacd12a8e"
      },
      "execution_count": null,
      "outputs": [
        {
          "output_type": "stream",
          "name": "stdout",
          "text": [
            "Enter the Student's score (out of 100):99\n",
            "Student has scored A grade\n"
          ]
        }
      ]
    },
    {
      "cell_type": "code",
      "source": [
        "temperature = 14\n",
        "\n",
        "if temperature > 30:\n",
        "    print(\"It's a hot day!\")\n",
        "elif 20 <= temperature <= 30:\n",
        "    print(\"The weather is just right.\")\n",
        "else:\n",
        "    print(\"It's a bit cold today.\")\n"
      ],
      "metadata": {
        "colab": {
          "base_uri": "https://localhost:8080/"
        },
        "id": "29KFOHm7owHk",
        "outputId": "751ed3c3-1d13-4872-b5d9-bda235d847b1"
      },
      "execution_count": null,
      "outputs": [
        {
          "output_type": "stream",
          "name": "stdout",
          "text": [
            "It's a bit cold today.\n"
          ]
        }
      ]
    },
    {
      "cell_type": "code",
      "source": [
        "age = float(input(\"Enter the Age: \"))\n",
        "\n",
        "if age < 5:\n",
        "    print(\"Free entry for kids under 5.\")\n",
        "elif 5 <= age <= 12:\n",
        "    print(\"Child ticket price.\")\n",
        "elif 13 <= age <= 18:\n",
        "    print(\"Teen ticket price.\")\n",
        "else:\n",
        "    print(\"Adult ticket price.\")"
      ],
      "metadata": {
        "colab": {
          "base_uri": "https://localhost:8080/"
        },
        "id": "ddyQrvv8pZBq",
        "outputId": "e34e5785-8d28-480c-dfb6-8d1c8c0f97ae"
      },
      "execution_count": null,
      "outputs": [
        {
          "output_type": "stream",
          "name": "stdout",
          "text": [
            "Enter the Age: 4.5\n",
            "Free entry for kids under 5.\n"
          ]
        }
      ]
    },
    {
      "cell_type": "code",
      "source": [
        "# nested if else statements\n",
        "\n",
        "correct_username = \"USER123\"\n",
        "correct_password = \"PASS123\"\n",
        "\n",
        "entered_username = input(\"Enter the username: \")\n",
        "entered_password = input(\"Enter the password: \")\n",
        "\n",
        "if entered_username == correct_username:\n",
        "    if entered_password == correct_password:\n",
        "        print(\"Login Sucessfull\")\n",
        "    else:\n",
        "        print(\"Incorrect Password\")\n",
        "else:\n",
        "    print(\"Incorrect Username\")"
      ],
      "metadata": {
        "colab": {
          "base_uri": "https://localhost:8080/"
        },
        "id": "1Jp1l3_dpixI",
        "outputId": "9a3b8653-f7a7-4a8a-9e7a-863539a64382"
      },
      "execution_count": null,
      "outputs": [
        {
          "output_type": "stream",
          "name": "stdout",
          "text": [
            "Enter the username: 635\n",
            "Enter the password: 369\n",
            "Incorrect Username\n"
          ]
        }
      ]
    },
    {
      "cell_type": "code",
      "source": [
        "# LEAP YEAR CHECK\n",
        "\n",
        "year_to_check = int(input(\"Enter the year, which needs to be checked for a leap yaer or not: \"))\n",
        "\n",
        "year = year_to_check\n",
        "\n",
        "\n",
        "if year % 4 == 0:\n",
        "    if year != 100 and year % 400 ==0:\n",
        "        print(\"It's a Leap year, as it satisfies all conditions for a leap year\")\n",
        "    else:\n",
        "        print(\"It's not a Leap year, even though divisible by 4\")\n",
        "\n",
        "else:\n",
        "    print(\"It's not divisible by 4, so its not a leap year\")"
      ],
      "metadata": {
        "colab": {
          "base_uri": "https://localhost:8080/"
        },
        "id": "jUE14-qNqqJK",
        "outputId": "5f79b39b-ac17-416b-f348-536fe4c33ac9"
      },
      "execution_count": null,
      "outputs": [
        {
          "output_type": "stream",
          "name": "stdout",
          "text": [
            "Enter the year, which needs to be checked for a leap yaer or not: 2000\n",
            "It's a Leap year, as it satisfies all conditions for a leap year\n"
          ]
        }
      ]
    },
    {
      "cell_type": "code",
      "source": [
        "# age\n",
        "\n",
        "age = int(input(\"Enter the Age: \"))\n",
        "\n",
        "if age > 18:\n",
        "    print(\"You are an Adult\")\n",
        "    if age > 60:\n",
        "        print(\"You are a Senior Citizen and Adult as well\")\n",
        "    else:\n",
        "        print(\"An Adult\")\n",
        "else:\n",
        "    print(\"You are a Minor\")"
      ],
      "metadata": {
        "colab": {
          "base_uri": "https://localhost:8080/"
        },
        "id": "tHVyd9S8sKEz",
        "outputId": "6c8862cb-0b8d-4e8d-de34-b2c7095ae1ce"
      },
      "execution_count": null,
      "outputs": [
        {
          "output_type": "stream",
          "name": "stdout",
          "text": [
            "Enter the Age: 45\n",
            "You are an Adult\n",
            "An Adult\n"
          ]
        }
      ]
    },
    {
      "cell_type": "code",
      "source": [
        "print(list(range(6)))"
      ],
      "metadata": {
        "colab": {
          "base_uri": "https://localhost:8080/"
        },
        "id": "8Xut3p0GtEJx",
        "outputId": "7752573b-00e3-4bf3-e80d-265fab15cc8d"
      },
      "execution_count": null,
      "outputs": [
        {
          "output_type": "stream",
          "name": "stdout",
          "text": [
            "[0, 1, 2, 3, 4, 5]\n"
          ]
        }
      ]
    },
    {
      "cell_type": "code",
      "source": [
        "list(range(1,10))"
      ],
      "metadata": {
        "colab": {
          "base_uri": "https://localhost:8080/"
        },
        "id": "OZrpmc3AHRva",
        "outputId": "d3622c64-df1b-4d7e-f165-b60ca97e051e"
      },
      "execution_count": null,
      "outputs": [
        {
          "output_type": "execute_result",
          "data": {
            "text/plain": [
              "[1, 2, 3, 4, 5, 6, 7, 8, 9]"
            ]
          },
          "metadata": {},
          "execution_count": 37
        }
      ]
    },
    {
      "cell_type": "code",
      "source": [
        "set(range(1,10))"
      ],
      "metadata": {
        "colab": {
          "base_uri": "https://localhost:8080/"
        },
        "id": "RwOMZgo0HeK5",
        "outputId": "6606f08f-9159-496e-f795-503f7f2fd106"
      },
      "execution_count": null,
      "outputs": [
        {
          "output_type": "execute_result",
          "data": {
            "text/plain": [
              "{1, 2, 3, 4, 5, 6, 7, 8, 9}"
            ]
          },
          "metadata": {},
          "execution_count": 38
        }
      ]
    },
    {
      "cell_type": "code",
      "source": [
        "tuple(range(1,10))"
      ],
      "metadata": {
        "colab": {
          "base_uri": "https://localhost:8080/"
        },
        "id": "B-QFFVxBHjgi",
        "outputId": "395dec4f-82a0-4301-ce2e-46a862505f11"
      },
      "execution_count": null,
      "outputs": [
        {
          "output_type": "execute_result",
          "data": {
            "text/plain": [
              "(1, 2, 3, 4, 5, 6, 7, 8, 9)"
            ]
          },
          "metadata": {},
          "execution_count": 39
        }
      ]
    },
    {
      "cell_type": "code",
      "source": [
        "list(range(1,10,2))"
      ],
      "metadata": {
        "colab": {
          "base_uri": "https://localhost:8080/"
        },
        "id": "yzI03456HlvR",
        "outputId": "9f44d754-0f02-41c6-8516-cd0d696ed79c"
      },
      "execution_count": null,
      "outputs": [
        {
          "output_type": "execute_result",
          "data": {
            "text/plain": [
              "[1, 3, 5, 7, 9]"
            ]
          },
          "metadata": {},
          "execution_count": 42
        }
      ]
    },
    {
      "cell_type": "code",
      "source": [
        "list(range(2,21,2))"
      ],
      "metadata": {
        "colab": {
          "base_uri": "https://localhost:8080/"
        },
        "id": "PI6TXZ9vHphp",
        "outputId": "95337136-6803-48a1-8934-26b115530823"
      },
      "execution_count": null,
      "outputs": [
        {
          "output_type": "execute_result",
          "data": {
            "text/plain": [
              "[2, 4, 6, 8, 10, 12, 14, 16, 18, 20]"
            ]
          },
          "metadata": {},
          "execution_count": 49
        }
      ]
    },
    {
      "cell_type": "code",
      "source": [
        "list(range(21,2,-3))"
      ],
      "metadata": {
        "colab": {
          "base_uri": "https://localhost:8080/"
        },
        "id": "X6k7tF7gH2Ny",
        "outputId": "ecf900b8-9698-4985-c36e-aee260e94011"
      },
      "execution_count": null,
      "outputs": [
        {
          "output_type": "execute_result",
          "data": {
            "text/plain": [
              "[21, 18, 15, 12, 9, 6, 3]"
            ]
          },
          "metadata": {},
          "execution_count": 54
        }
      ]
    },
    {
      "cell_type": "code",
      "source": [
        "# calculating total sales without using a loop\n",
        "\n",
        "sun = 20\n",
        "mon = 25\n",
        "tue = 30\n",
        "wed = 22\n",
        "thu = 25\n",
        "fri = 30\n",
        "sat = 32\n",
        "\n",
        "total = sun + mon + tue + wed + thu + fri + sat\n",
        "\n",
        "print(\"Total Sales amount for the week is: \", total)"
      ],
      "metadata": {
        "colab": {
          "base_uri": "https://localhost:8080/"
        },
        "id": "a7PnVPOkIKES",
        "outputId": "0392eedd-4616-4138-a2ae-ae96b43357c5"
      },
      "execution_count": null,
      "outputs": [
        {
          "output_type": "stream",
          "name": "stdout",
          "text": [
            "Total Sales amount for the week is:  184\n"
          ]
        }
      ]
    },
    {
      "cell_type": "code",
      "source": [
        "# with the use of loops (for loop)\n",
        "\n",
        "sales = [20,25,30,22,25,30,32]\n",
        "\n",
        "total_sales = 0\n",
        "\n",
        "for i in sales:\n",
        "    total_sales = total_sales + i\n",
        "    print(total_sales)\n",
        "\n",
        "print(\"total sales amount is: \", total_sales)"
      ],
      "metadata": {
        "colab": {
          "base_uri": "https://localhost:8080/"
        },
        "id": "CYoPvyO6JSOx",
        "outputId": "c877bda4-77ee-48a1-be01-245e3e2bb8bf"
      },
      "execution_count": null,
      "outputs": [
        {
          "output_type": "stream",
          "name": "stdout",
          "text": [
            "20\n",
            "45\n",
            "75\n",
            "97\n",
            "122\n",
            "152\n",
            "184\n",
            "total sales amount is:  184\n"
          ]
        }
      ]
    },
    {
      "cell_type": "code",
      "source": [
        "# using while loop\n",
        "\n",
        "sales = [20,25,30,22,25,30,32]\n",
        "\n",
        "total_sales = 0\n",
        "i=0\n",
        "\n",
        "while i < len(sales):\n",
        "    total_sales = total_sales + sales[i]\n",
        "    i = i + 1\n",
        "\n",
        "    print(total_sales)"
      ],
      "metadata": {
        "colab": {
          "base_uri": "https://localhost:8080/"
        },
        "id": "OI9bJAhvLSnz",
        "outputId": "3b2f8452-0565-48fe-ee00-00c551580213"
      },
      "execution_count": null,
      "outputs": [
        {
          "output_type": "stream",
          "name": "stdout",
          "text": [
            "20\n",
            "45\n",
            "75\n",
            "97\n",
            "122\n",
            "152\n",
            "184\n"
          ]
        }
      ]
    },
    {
      "cell_type": "code",
      "source": [
        "# printing 9 table\n",
        "\n",
        "i = 1 # initiated i as 1\n",
        "\n",
        "while i < 10:\n",
        "    print(i*9)\n",
        "    #i = i + 1\n",
        "    i += 1\n"
      ],
      "metadata": {
        "colab": {
          "base_uri": "https://localhost:8080/"
        },
        "id": "luB1goEWL5S8",
        "outputId": "26d71940-4178-4b49-cc33-7fb32d6ddf96"
      },
      "execution_count": null,
      "outputs": [
        {
          "output_type": "stream",
          "name": "stdout",
          "text": [
            "9\n",
            "18\n",
            "27\n",
            "36\n",
            "45\n",
            "54\n",
            "63\n",
            "72\n",
            "81\n"
          ]
        }
      ]
    },
    {
      "cell_type": "code",
      "source": [
        "user_input = ''\n",
        "while user_input != 'quit':\n",
        "    user_input = input(\"Enter a word (type 'quit' to exit): \")\n",
        "    print(\"You entered:\", user_input)"
      ],
      "metadata": {
        "colab": {
          "base_uri": "https://localhost:8080/"
        },
        "id": "jKsTbPINMmMD",
        "outputId": "4c564ac6-7af7-45da-a18f-115197ac2669"
      },
      "execution_count": null,
      "outputs": [
        {
          "output_type": "stream",
          "name": "stdout",
          "text": [
            "Enter a word (type 'quit' to exit): jf\n",
            "You entered: jf\n",
            "Enter a word (type 'quit' to exit): kdfy \n",
            "You entered: kdfy \n",
            "Enter a word (type 'quit' to exit): andshfui\n",
            "You entered: andshfui\n",
            "Enter a word (type 'quit' to exit): quit\n",
            "You entered: quit\n"
          ]
        }
      ]
    },
    {
      "cell_type": "code",
      "source": [
        "# sum of first 10 natural numbers (using a for loop)\n",
        "\n",
        "total =0\n",
        "\n",
        "for i in range(1,11):\n",
        "    total = total + i\n",
        "    #print(total)\n",
        "\n",
        "print(total)\n"
      ],
      "metadata": {
        "colab": {
          "base_uri": "https://localhost:8080/"
        },
        "id": "ffX0e2AdNhUk",
        "outputId": "a5f25e99-65ab-4d94-eb92-cd94305f1baf"
      },
      "execution_count": null,
      "outputs": [
        {
          "output_type": "stream",
          "name": "stdout",
          "text": [
            "55\n"
          ]
        }
      ]
    },
    {
      "cell_type": "code",
      "source": [
        "# sum of first 10 natural numbers (using a while loop)\n",
        "\n",
        "total = 0\n",
        "i = 1\n",
        "\n",
        "while i <= 100:\n",
        "    total = total + i\n",
        "    i = i + 1\n",
        "\n",
        "print(\"Sum of first 100 natural numbers is: \",total)"
      ],
      "metadata": {
        "colab": {
          "base_uri": "https://localhost:8080/"
        },
        "id": "7E_DfGgVNuT0",
        "outputId": "3651ff4c-4daf-4754-d5fa-de7ff6159606"
      },
      "execution_count": null,
      "outputs": [
        {
          "output_type": "stream",
          "name": "stdout",
          "text": [
            "Sum of first 100 natural numbers is:  5050\n"
          ]
        }
      ]
    },
    {
      "cell_type": "code",
      "source": [
        "for i in range(1,6):\n",
        "    print(i)"
      ],
      "metadata": {
        "colab": {
          "base_uri": "https://localhost:8080/"
        },
        "id": "Jz4aCdhDOboV",
        "outputId": "533ac9b7-4b0e-4f47-9450-913ace54bf2f"
      },
      "execution_count": null,
      "outputs": [
        {
          "output_type": "stream",
          "name": "stdout",
          "text": [
            "1\n",
            "2\n",
            "3\n",
            "4\n",
            "5\n"
          ]
        }
      ]
    },
    {
      "cell_type": "code",
      "source": [
        "for i in range(1,6):\n",
        "    print(\"Newton school\")"
      ],
      "metadata": {
        "colab": {
          "base_uri": "https://localhost:8080/"
        },
        "id": "eRsMXTqzPTHS",
        "outputId": "a5872c5d-b34c-475a-e54e-5bf627bda863"
      },
      "execution_count": null,
      "outputs": [
        {
          "output_type": "stream",
          "name": "stdout",
          "text": [
            "Newton school\n",
            "Newton school\n",
            "Newton school\n",
            "Newton school\n",
            "Newton school\n"
          ]
        }
      ]
    },
    {
      "cell_type": "code",
      "source": [
        "# Looping Through a List\n",
        "\n",
        "colors = ['Black', 'Red', 'Grey' ,'Blue']\n",
        "\n",
        "for colour in colors:\n",
        "    print(colour)\n"
      ],
      "metadata": {
        "colab": {
          "base_uri": "https://localhost:8080/"
        },
        "id": "KSoscyTNPaoN",
        "outputId": "ebd1ff67-4a22-4b31-a1d2-38af2c3b4f2b"
      },
      "execution_count": null,
      "outputs": [
        {
          "output_type": "stream",
          "name": "stdout",
          "text": [
            "Black\n",
            "Red\n",
            "Grey\n",
            "Blue\n"
          ]
        }
      ]
    },
    {
      "cell_type": "code",
      "source": [
        "# Factorial calculations\n",
        "\n",
        "factorial = 1\n",
        "\n",
        "for numbers in range(1,6):\n",
        "    #factorial = factorial * numbers\n",
        "    factorial *= numbers\n",
        "\n",
        "print(\"Factorial of 5 is: \" ,factorial)"
      ],
      "metadata": {
        "colab": {
          "base_uri": "https://localhost:8080/"
        },
        "id": "zzVXuY6xPohC",
        "outputId": "572f5bb6-7a38-4059-ce35-1d3dc3600c2b"
      },
      "execution_count": null,
      "outputs": [
        {
          "output_type": "stream",
          "name": "stdout",
          "text": [
            "Factorial of 5 is:  120\n"
          ]
        }
      ]
    },
    {
      "cell_type": "code",
      "source": [
        "# nested loop\n",
        "\n",
        "for i in range(1,6):\n",
        "    for j in range(1,6):\n",
        "        print(i*j, end = \"\\t\")\n",
        "    print()"
      ],
      "metadata": {
        "colab": {
          "base_uri": "https://localhost:8080/"
        },
        "id": "AIcXmkVyQA3N",
        "outputId": "a3688ad2-3a11-41b9-8ba6-1e42bb4bfcde"
      },
      "execution_count": null,
      "outputs": [
        {
          "output_type": "stream",
          "name": "stdout",
          "text": [
            "1\t2\t3\t4\t5\t\n",
            "2\t4\t6\t8\t10\t\n",
            "3\t6\t9\t12\t15\t\n",
            "4\t8\t12\t16\t20\t\n",
            "5\t10\t15\t20\t25\t\n"
          ]
        }
      ]
    },
    {
      "cell_type": "code",
      "source": [
        "# pattern printing (printng a half pyramid)\n",
        "\n",
        "for i in range(5):\n",
        "    for j in range(i + 1):\n",
        "        print('*', end = '\\t')\n",
        "    print()"
      ],
      "metadata": {
        "colab": {
          "base_uri": "https://localhost:8080/"
        },
        "id": "JVlHCz65QmDt",
        "outputId": "8474c827-eb59-4720-95d0-b10b7b67ee83"
      },
      "execution_count": null,
      "outputs": [
        {
          "output_type": "stream",
          "name": "stdout",
          "text": [
            "*\t\n",
            "*\t*\t\n",
            "*\t*\t*\t\n",
            "*\t*\t*\t*\t\n",
            "*\t*\t*\t*\t*\t\n"
          ]
        }
      ]
    },
    {
      "cell_type": "code",
      "source": [
        "# pattern printing (full pyramid)\n",
        "\n",
        "n = 5\n",
        "for i in range(n):\n",
        "        # Print spaces on the left side\n",
        "        for j in range(n - i - 1):\n",
        "            print(\" \", end=\"\")\n",
        "\n",
        "        # Print stars\n",
        "        for j in range(2 * i + 1):\n",
        "            print(\"*\", end=\"\")\n",
        "\n",
        "        # Move to the next line\n",
        "        print()"
      ],
      "metadata": {
        "colab": {
          "base_uri": "https://localhost:8080/"
        },
        "id": "TEzXOb5IRBim",
        "outputId": "79f779d0-e803-4eeb-9683-61bbfcb3ca17"
      },
      "execution_count": null,
      "outputs": [
        {
          "output_type": "stream",
          "name": "stdout",
          "text": [
            "    *\n",
            "   ***\n",
            "  *****\n",
            " *******\n",
            "*********\n"
          ]
        }
      ]
    },
    {
      "cell_type": "code",
      "source": [
        "# break in loop statements\n",
        "\n",
        "for i in range(11):\n",
        "    #print(i)\n",
        "    if i == 6 :\n",
        "        break\n",
        "    print(i)"
      ],
      "metadata": {
        "colab": {
          "base_uri": "https://localhost:8080/"
        },
        "id": "ohjcrLeZRff1",
        "outputId": "d22c03ca-246f-4031-e5e0-ca081432e7a1"
      },
      "execution_count": null,
      "outputs": [
        {
          "output_type": "stream",
          "name": "stdout",
          "text": [
            "0\n",
            "1\n",
            "2\n",
            "3\n",
            "4\n",
            "5\n"
          ]
        }
      ]
    },
    {
      "cell_type": "code",
      "source": [
        "# password game\n",
        "\n",
        "correct_password = \"secret\"\n",
        "max_attempts = 3\n",
        "\n",
        "for attempt in range(1, max_attempts + 1):\n",
        "    guess = input(\"Enter the Password: \")\n",
        "    if guess == correct_password:\n",
        "        print(\"Congragulations!, you have gat the correct password\")\n",
        "        break\n",
        "    else:\n",
        "        print(\"Incorrect Password!...Please try again\")\n",
        "else:\n",
        "    print(\"You have exceed the maximum number of attempts. Acess denied\")"
      ],
      "metadata": {
        "colab": {
          "base_uri": "https://localhost:8080/"
        },
        "id": "Nzi03z6-RsJd",
        "outputId": "68d61fd3-8885-4461-b735-0573598e4c13"
      },
      "execution_count": null,
      "outputs": [
        {
          "output_type": "stream",
          "name": "stdout",
          "text": [
            "Enter the Password: dgfredh\n",
            "Incorrect Password!...Please try again\n",
            "Enter the Password: t\n",
            "Incorrect Password!...Please try again\n",
            "Enter the Password: \n",
            "Incorrect Password!...Please try again\n",
            "You have exceed the maximum number of attempts. Acess denied\n"
          ]
        }
      ]
    },
    {
      "cell_type": "code",
      "source": [
        "# skipping even numbers\n",
        "\n",
        "for i in range(1,11):\n",
        "    if i % 2 == 0:\n",
        "        continue\n",
        "    print(i)"
      ],
      "metadata": {
        "colab": {
          "base_uri": "https://localhost:8080/"
        },
        "id": "xlSk7TZKTyr9",
        "outputId": "2b98ef03-e633-40a7-b950-4095e9cc5bdf"
      },
      "execution_count": null,
      "outputs": [
        {
          "output_type": "stream",
          "name": "stdout",
          "text": [
            "1\n",
            "3\n",
            "5\n",
            "7\n",
            "9\n"
          ]
        }
      ]
    },
    {
      "cell_type": "code",
      "source": [
        "for i in range(1,11):\n",
        "    if i == 5 or i == 6:\n",
        "        continue\n",
        "    print(i)"
      ],
      "metadata": {
        "colab": {
          "base_uri": "https://localhost:8080/"
        },
        "id": "kNKx6Me6Ubm3",
        "outputId": "826c8ce6-f310-4c02-9eb4-1c32430e2f61"
      },
      "execution_count": null,
      "outputs": [
        {
          "output_type": "stream",
          "name": "stdout",
          "text": [
            "1\n",
            "2\n",
            "3\n",
            "4\n",
            "7\n",
            "8\n",
            "9\n",
            "10\n"
          ]
        }
      ]
    },
    {
      "cell_type": "code",
      "source": [
        "total_sum = 0\n",
        "while True:\n",
        "    input_value = input(\"Enter a number (or 'exit' to end): \")\n",
        "    if input_value == 'exit':\n",
        "        break\n",
        "    number = int(input_value)\n",
        "    if number < 0:\n",
        "        continue\n",
        "    total_sum += number\n",
        "print(f\"The total sum of non-negative numbers is: {total_sum}\")"
      ],
      "metadata": {
        "colab": {
          "base_uri": "https://localhost:8080/"
        },
        "id": "kzvPLJhaUq1W",
        "outputId": "e7c1fdf5-4616-4932-f220-605ae7b88b74"
      },
      "execution_count": null,
      "outputs": [
        {
          "output_type": "stream",
          "name": "stdout",
          "text": [
            "Enter a number (or 'exit' to end): 2\n",
            "Enter a number (or 'exit' to end): 6\n",
            "Enter a number (or 'exit' to end): 9\n",
            "Enter a number (or 'exit' to end): exit\n",
            "The total sum of non-negative numbers is: 17\n"
          ]
        }
      ]
    },
    {
      "cell_type": "code",
      "source": [
        "# user defined functions\n",
        "\n",
        "def print_square():\n",
        "    for num in range(1, 6):\n",
        "        square = num ** 2\n",
        "        print(f\"The square of {num} is {square}\")\n",
        "\n",
        "# Call the function\n",
        "print_square()\n"
      ],
      "metadata": {
        "colab": {
          "base_uri": "https://localhost:8080/"
        },
        "id": "URUWPVAgkjW1",
        "outputId": "cb2763d1-dfd8-4a0f-eb71-36e7888c874e"
      },
      "execution_count": null,
      "outputs": [
        {
          "output_type": "stream",
          "name": "stdout",
          "text": [
            "The square of 1 is 1\n",
            "The square of 2 is 4\n",
            "The square of 3 is 9\n",
            "The square of 4 is 16\n",
            "The square of 5 is 25\n"
          ]
        }
      ]
    },
    {
      "cell_type": "code",
      "source": [
        "def even_or_odd(num):\n",
        "    if num % 2 == 0:\n",
        "        print(\"Even Number\")\n",
        "    else:\n",
        "        print(\"Odd Number\")\n",
        "\n"
      ],
      "metadata": {
        "id": "DTUumOhGk5rg"
      },
      "execution_count": null,
      "outputs": []
    },
    {
      "cell_type": "code",
      "source": [
        "even_or_odd(36)"
      ],
      "metadata": {
        "colab": {
          "base_uri": "https://localhost:8080/"
        },
        "id": "EJsXuSkjl2Rr",
        "outputId": "be29011a-badd-4833-8713-93cc53d44a20"
      },
      "execution_count": null,
      "outputs": [
        {
          "output_type": "stream",
          "name": "stdout",
          "text": [
            "Even Number\n"
          ]
        }
      ]
    },
    {
      "cell_type": "code",
      "source": [
        "even_or_odd(29)"
      ],
      "metadata": {
        "colab": {
          "base_uri": "https://localhost:8080/"
        },
        "id": "YTnYXa5Kl4MC",
        "outputId": "ede8fd79-1ef3-4708-ff65-72b83e39fc47"
      },
      "execution_count": null,
      "outputs": [
        {
          "output_type": "stream",
          "name": "stdout",
          "text": [
            "Odd Number\n"
          ]
        }
      ]
    },
    {
      "cell_type": "code",
      "source": [
        "# palindrome check\n",
        "\n",
        "def is_palindrome(num):\n",
        "    str_num = str(num)\n",
        "    return str_num == str_num[::-1]"
      ],
      "metadata": {
        "id": "752IWOPgl6uR"
      },
      "execution_count": null,
      "outputs": []
    },
    {
      "cell_type": "code",
      "source": [
        "res = is_palindrome(121)\n",
        "print(res)"
      ],
      "metadata": {
        "colab": {
          "base_uri": "https://localhost:8080/"
        },
        "id": "W_5vivW3mWLC",
        "outputId": "f720a34b-1d58-4cd1-b8ad-cbc0d90350b1"
      },
      "execution_count": null,
      "outputs": [
        {
          "output_type": "stream",
          "name": "stdout",
          "text": [
            "True\n"
          ]
        }
      ]
    },
    {
      "cell_type": "code",
      "source": [
        "res = is_palindrome(122)\n",
        "print(res)"
      ],
      "metadata": {
        "colab": {
          "base_uri": "https://localhost:8080/"
        },
        "id": "eLM_3oBUmbBK",
        "outputId": "d5f6ba03-af69-4678-f645-6adc06a67854"
      },
      "execution_count": null,
      "outputs": [
        {
          "output_type": "stream",
          "name": "stdout",
          "text": [
            "False\n"
          ]
        }
      ]
    },
    {
      "cell_type": "code",
      "source": [
        "# Lambda function\n",
        "\n",
        "\"\"\"\n",
        "Lambda Function is a small, anonymous function defined using the lambda keyword. unlike regular functionscreated with def, lambda functions are often used for short and specific tasks\n",
        "\n",
        "syntax:\n",
        "\n",
        "var_name = lambda arguments: expression\n",
        "\n",
        "\n",
        "Advantages:\n",
        " Lambda functions are handy for quick & temporary operations\n",
        " they are commonly used in functional programming constructs like map, filter & reduce\n",
        " Ideal for situations where a full functionn definition seems unnecessary\n",
        "\n",
        "\"\"\"\n",
        "max_of_two = lambda x,y : x if x > y else y\n",
        "\n",
        "response = max_of_two(-2,-1)\n",
        "print(response)"
      ],
      "metadata": {
        "colab": {
          "base_uri": "https://localhost:8080/"
        },
        "id": "a5Bm_jZNmeeS",
        "outputId": "fb150d1b-f196-448c-922a-1a959da710cf"
      },
      "execution_count": null,
      "outputs": [
        {
          "output_type": "stream",
          "name": "stdout",
          "text": [
            "-1\n"
          ]
        }
      ]
    },
    {
      "cell_type": "code",
      "source": [
        "numbers = list(range(1,11))\n",
        "\n",
        "even_numbers = list(filter(lambda x : x % 2 == 0, numbers))\n",
        "\n",
        "print(even_numbers)"
      ],
      "metadata": {
        "colab": {
          "base_uri": "https://localhost:8080/"
        },
        "id": "9j68lTyHprkk",
        "outputId": "030b1a6d-5530-4936-9e45-8999c2c8e487"
      },
      "execution_count": null,
      "outputs": [
        {
          "output_type": "stream",
          "name": "stdout",
          "text": [
            "[2, 4, 6, 8, 10]\n"
          ]
        }
      ]
    },
    {
      "cell_type": "code",
      "source": [
        "# Check if a word starts with a specific letter:\n",
        "\n",
        "starts_with_letter = lambda word, letter: word.startswith(letter)  # startswith() is a inbuilt function\n",
        "print(starts_with_letter(\"python\", \"p\"))  # Output: True\n",
        "print(starts_with_letter(\"java\", \"J\"))    # Output: False\n"
      ],
      "metadata": {
        "colab": {
          "base_uri": "https://localhost:8080/"
        },
        "id": "mMPL-cWgp5Nj",
        "outputId": "c0bb12a2-13a6-481e-8af8-12b8806c3c06"
      },
      "execution_count": null,
      "outputs": [
        {
          "output_type": "stream",
          "name": "stdout",
          "text": [
            "True\n",
            "False\n"
          ]
        }
      ]
    },
    {
      "cell_type": "code",
      "source": [
        "# strings and indexing\n",
        "\n",
        "a = 'hello'\n",
        "\n",
        "print(len(a))\n",
        "\n",
        "print(a[0])\n",
        "\n",
        "print(a[4])"
      ],
      "metadata": {
        "id": "jpzHqzRCqhBq",
        "colab": {
          "base_uri": "https://localhost:8080/"
        },
        "outputId": "db223fd4-1266-457c-faed-07fc3c25f511"
      },
      "execution_count": 3,
      "outputs": [
        {
          "output_type": "stream",
          "name": "stdout",
          "text": [
            "5\n",
            "h\n",
            "o\n"
          ]
        }
      ]
    },
    {
      "cell_type": "code",
      "source": [
        "print(a[2:5])"
      ],
      "metadata": {
        "colab": {
          "base_uri": "https://localhost:8080/"
        },
        "id": "9PzzVmdJGgOk",
        "outputId": "d4ebe5e7-fc2b-45a8-dc85-7f0d699bcc99"
      },
      "execution_count": 8,
      "outputs": [
        {
          "output_type": "stream",
          "name": "stdout",
          "text": [
            "llo\n"
          ]
        }
      ]
    },
    {
      "cell_type": "code",
      "source": [
        "print(a[::-1])"
      ],
      "metadata": {
        "colab": {
          "base_uri": "https://localhost:8080/"
        },
        "id": "bYTe327lGphA",
        "outputId": "b93f1a39-5e93-4c2a-879d-46f2d7864112"
      },
      "execution_count": 9,
      "outputs": [
        {
          "output_type": "stream",
          "name": "stdout",
          "text": [
            "olleh\n"
          ]
        }
      ]
    },
    {
      "cell_type": "code",
      "source": [
        "# string concatenation\n",
        "\n",
        "name = 'pal'\n",
        "\n",
        "greet = 'Good Day'\n",
        "\n",
        "greeting = greet + \"! \" + \"Mr.\" + name\n",
        "\n",
        "print(greeting)"
      ],
      "metadata": {
        "colab": {
          "base_uri": "https://localhost:8080/"
        },
        "id": "GqedVgy9GwUw",
        "outputId": "e8a49003-5bd8-4ce7-e46b-d7813f317d13"
      },
      "execution_count": 12,
      "outputs": [
        {
          "output_type": "stream",
          "name": "stdout",
          "text": [
            "Good Day! Mr.pal\n"
          ]
        }
      ]
    },
    {
      "cell_type": "code",
      "source": [
        "# string concatenation using .join() method\n",
        "\n",
        "lists = [\"python\",\"is\",\"beginer\",\"friendly\",\",\",\"isn't\",\"it\",\"?\"]\n",
        "\n",
        "sentence = \" \".join(lists)\n",
        "\n",
        "print(\"The entire Sentence is: \", sentence)"
      ],
      "metadata": {
        "colab": {
          "base_uri": "https://localhost:8080/"
        },
        "id": "ZgyDsqUlHKjf",
        "outputId": "56df5277-2a39-4b4d-8028-e6b3f3c48930"
      },
      "execution_count": 16,
      "outputs": [
        {
          "output_type": "stream",
          "name": "stdout",
          "text": [
            "The entire Sentence is:  python is beginer friendly , isn't it ?\n"
          ]
        }
      ]
    },
    {
      "cell_type": "code",
      "source": [
        "numbers = [\"one\", \"two\", \"three\"]  #List of strings\n",
        "\n",
        "concat_string = \" \"\n",
        "\n",
        "for string in numbers:\n",
        "    concat_string += string + \" \"\n",
        "    print(concat_string)\n",
        "\n",
        "print(\"Entire Concatenated string is: \", concat_string)"
      ],
      "metadata": {
        "colab": {
          "base_uri": "https://localhost:8080/"
        },
        "id": "HkSsqkHOIBC3",
        "outputId": "8083382b-9caa-4c82-a88e-1db314a0a904"
      },
      "execution_count": 20,
      "outputs": [
        {
          "output_type": "stream",
          "name": "stdout",
          "text": [
            " one \n",
            " one two \n",
            " one two three \n",
            "Entire Concatenated string is:   one two three \n"
          ]
        }
      ]
    },
    {
      "cell_type": "code",
      "source": [
        "# slicing strings with positive steps\n",
        "\n",
        "text = \"I am Persuing data science certification from Newton School\"\n",
        "\n",
        "sl1 = text[0:7]\n",
        "\n",
        "sl2 = text[::-1]\n",
        "\n",
        "sl3 = text[1:18:3]\n",
        "\n",
        "\n",
        "print(sl1)\n",
        "print(sl2)\n",
        "print(sl3)"
      ],
      "metadata": {
        "colab": {
          "base_uri": "https://localhost:8080/"
        },
        "id": "-tIxI2g5IoYg",
        "outputId": "7fa55eb8-cb51-4c18-9d7a-a785a957cb99"
      },
      "execution_count": 26,
      "outputs": [
        {
          "output_type": "stream",
          "name": "stdout",
          "text": [
            "I am Pe\n",
            "loohcS notweN morf noitacifitrec ecneics atad gniusreP ma I\n",
            "  ri t\n"
          ]
        }
      ]
    },
    {
      "cell_type": "code",
      "source": [
        "sl4 = text[::-1]\n",
        "print(sl4)"
      ],
      "metadata": {
        "colab": {
          "base_uri": "https://localhost:8080/"
        },
        "id": "8v5fCWUZJWlp",
        "outputId": "6afee996-9b7b-4cb3-82f7-90bf0cd72b57"
      },
      "execution_count": 32,
      "outputs": [
        {
          "output_type": "stream",
          "name": "stdout",
          "text": [
            "loohcS notweN morf noitacifitrec ecneics atad gniusreP ma I\n"
          ]
        }
      ]
    },
    {
      "cell_type": "code",
      "source": [
        "sl5 = text[:9]\n",
        "\n",
        "print(sl5)"
      ],
      "metadata": {
        "colab": {
          "base_uri": "https://localhost:8080/"
        },
        "id": "Tp0NTGNSJ1v6",
        "outputId": "889ac75a-c8a2-4607-aa2d-4e4af711db40"
      },
      "execution_count": 33,
      "outputs": [
        {
          "output_type": "stream",
          "name": "stdout",
          "text": [
            "I am Pers\n"
          ]
        }
      ]
    },
    {
      "cell_type": "code",
      "source": [
        "sl6 = text[9:]\n",
        "print(sl6)"
      ],
      "metadata": {
        "colab": {
          "base_uri": "https://localhost:8080/"
        },
        "id": "suFHaV18KLOS",
        "outputId": "e472d33e-5501-4241-c312-efbc2f5d7f95"
      },
      "execution_count": 34,
      "outputs": [
        {
          "output_type": "stream",
          "name": "stdout",
          "text": [
            "uing data science certification from Newton School\n"
          ]
        }
      ]
    },
    {
      "cell_type": "code",
      "source": [
        "sl7 = text[9:22]\n",
        "print(sl7)"
      ],
      "metadata": {
        "colab": {
          "base_uri": "https://localhost:8080/"
        },
        "id": "8tuZzWPXKRtq",
        "outputId": "5bb6c060-7f92-494e-f75e-fa1b516993ef"
      },
      "execution_count": 35,
      "outputs": [
        {
          "output_type": "stream",
          "name": "stdout",
          "text": [
            "uing data sci\n"
          ]
        }
      ]
    },
    {
      "cell_type": "code",
      "source": [
        "full_name =\"sai dhanush\"\n",
        "\n",
        "capitalized_name = full_name.upper()\n",
        "\n",
        "print(capitalized_name)"
      ],
      "metadata": {
        "colab": {
          "base_uri": "https://localhost:8080/"
        },
        "id": "sr75BcyQKWAa",
        "outputId": "fb5b4bcf-d114-4357-c0b9-7964a51d2c0c"
      },
      "execution_count": 36,
      "outputs": [
        {
          "output_type": "stream",
          "name": "stdout",
          "text": [
            "SAI DHANUSH\n"
          ]
        }
      ]
    },
    {
      "cell_type": "code",
      "source": [
        "email_id = \"SAIDHANUSH.NEWTONSCHOOL@GMAIL.COM\"\n",
        "\n",
        "lowered_email = email_id.lower()\n",
        "\n",
        "print(lowered_email)"
      ],
      "metadata": {
        "colab": {
          "base_uri": "https://localhost:8080/"
        },
        "id": "H2LIHzHJK9l6",
        "outputId": "f5e3e70d-6a08-4c57-8b2d-95888d84c00a"
      },
      "execution_count": 37,
      "outputs": [
        {
          "output_type": "stream",
          "name": "stdout",
          "text": [
            "saidhanush.newtonschool@gmail.com\n"
          ]
        }
      ]
    },
    {
      "cell_type": "code",
      "source": [
        "s = \"   hello world   \"\n",
        "\n",
        "trimmed_text = s.strip()\n",
        "\n",
        "print(trimmed_text)"
      ],
      "metadata": {
        "colab": {
          "base_uri": "https://localhost:8080/"
        },
        "id": "_vEXBd7pLPd6",
        "outputId": "c522078b-7c48-410c-bff9-d38530ecd995"
      },
      "execution_count": 38,
      "outputs": [
        {
          "output_type": "stream",
          "name": "stdout",
          "text": [
            "hello world\n"
          ]
        }
      ]
    },
    {
      "cell_type": "code",
      "source": [
        "# splitting text using .split method\n",
        "\n",
        "example = \"This Summer is gonna to be cooked!!\"\n",
        "\n",
        "splitted_text = example.split()\n",
        "\n",
        "print(splitted_text)"
      ],
      "metadata": {
        "colab": {
          "base_uri": "https://localhost:8080/"
        },
        "id": "b8HlfvfWLjiC",
        "outputId": "244a54c9-4738-42e7-8a6a-72caa3156c3e"
      },
      "execution_count": 39,
      "outputs": [
        {
          "output_type": "stream",
          "name": "stdout",
          "text": [
            "['This', 'Summer', 'is', 'gonna', 'to', 'be', 'cooked!!']\n"
          ]
        }
      ]
    },
    {
      "cell_type": "code",
      "source": [
        "# string formatting methods\n",
        "\n",
        "# using f-string method\n",
        "\n",
        "age = 10\n",
        "\n",
        "name = 'kiran'\n",
        "\n",
        "str1 = f\"name is {name} and he is {age} years old.\"\n",
        "\n",
        "print(str1)\n",
        "\n",
        "str2 = f\"name is {name} and he will be {age + 10} years in 10 years\"\n",
        "\n",
        "print(str2)"
      ],
      "metadata": {
        "colab": {
          "base_uri": "https://localhost:8080/"
        },
        "id": "RMrmIj8xL7TC",
        "outputId": "a39d7cdd-d323-43fb-f43f-7c5d9d2d7eb0"
      },
      "execution_count": 41,
      "outputs": [
        {
          "output_type": "stream",
          "name": "stdout",
          "text": [
            "name is kiran and he is 10 years old.\n",
            "name is kiran and he will be 20 years in 10 years\n"
          ]
        }
      ]
    },
    {
      "cell_type": "code",
      "source": [
        "# using .format() method\n",
        "\n",
        "strf1 = \"His name is {} and he is {} years old.\".format(name,age)\n",
        "\n",
        "print(strf1)"
      ],
      "metadata": {
        "colab": {
          "base_uri": "https://localhost:8080/"
        },
        "id": "4jvcAE1WM10c",
        "outputId": "83a9cff2-7f41-4053-a69f-cfeb3529d796"
      },
      "execution_count": 42,
      "outputs": [
        {
          "output_type": "stream",
          "name": "stdout",
          "text": [
            "His name is kiran and he is 10 years old.\n"
          ]
        }
      ]
    },
    {
      "cell_type": "code",
      "source": [
        "# strings in python are immutable\n"
      ],
      "metadata": {
        "id": "wMxDPTjlNZlW"
      },
      "execution_count": 43,
      "outputs": []
    },
    {
      "cell_type": "code",
      "source": [
        "# Lists in python are mutable..\n",
        "\n",
        "to_do_list = [\"buy groceries\",\"pay electricity bill\"]\n",
        "\n",
        "to_do_list.append(\"have a brunch\")\n",
        "\n",
        "print(to_do_list)"
      ],
      "metadata": {
        "colab": {
          "base_uri": "https://localhost:8080/"
        },
        "id": "ZLJLX0ofNf8M",
        "outputId": "9394ac4e-821a-470c-fa05-ae43e0dbed3e"
      },
      "execution_count": 44,
      "outputs": [
        {
          "output_type": "stream",
          "name": "stdout",
          "text": [
            "['buy groceries', 'pay electricity bill', 'have a brunch']\n"
          ]
        }
      ]
    },
    {
      "cell_type": "code",
      "source": [
        "# extend method\n",
        "\n",
        "primary_tasks = [\"Reply emails\", \"Prepare report\"]\n",
        "additional_tasks = [\"Schedule meeting\", \"Book flight\"]\n",
        "\n",
        "primary_tasks.extend(additional_tasks)\n",
        "\n",
        "print(primary_tasks)"
      ],
      "metadata": {
        "colab": {
          "base_uri": "https://localhost:8080/"
        },
        "id": "Ll1nyZ-EOG2s",
        "outputId": "357181f4-63f8-4290-ec5a-ff7614397678"
      },
      "execution_count": 45,
      "outputs": [
        {
          "output_type": "stream",
          "name": "stdout",
          "text": [
            "['Reply emails', 'Prepare report', 'Schedule meeting', 'Book flight']\n"
          ]
        }
      ]
    },
    {
      "cell_type": "code",
      "source": [
        "additional_tasks.extend(primary_tasks)\n",
        "\n",
        "print(additional_tasks)"
      ],
      "metadata": {
        "colab": {
          "base_uri": "https://localhost:8080/"
        },
        "id": "NXczBPV8OaM8",
        "outputId": "bc030ecc-7b78-4d72-9384-2ba37b80b9c0"
      },
      "execution_count": 46,
      "outputs": [
        {
          "output_type": "stream",
          "name": "stdout",
          "text": [
            "['Schedule meeting', 'Book flight', 'Reply emails', 'Prepare report', 'Schedule meeting', 'Book flight']\n"
          ]
        }
      ]
    },
    {
      "cell_type": "code",
      "source": [
        "tasks = [\"call sarah\", \"prepare dinner\"]\n",
        "tasks.insert(0,\"Create report\")\n",
        "\n",
        "print(tasks)"
      ],
      "metadata": {
        "colab": {
          "base_uri": "https://localhost:8080/"
        },
        "id": "E4kf94TnOgS1",
        "outputId": "78c2885d-3724-41ca-9918-e0ec538295e6"
      },
      "execution_count": 50,
      "outputs": [
        {
          "output_type": "stream",
          "name": "stdout",
          "text": [
            "['Create report', 'call sarah', 'prepare dinner']\n"
          ]
        }
      ]
    },
    {
      "cell_type": "code",
      "source": [
        "nums = [1,3,7,9,11]\n",
        "\n",
        "nums.insert(2,5)\n",
        "\n",
        "print(nums)"
      ],
      "metadata": {
        "colab": {
          "base_uri": "https://localhost:8080/"
        },
        "id": "ii2Fo2TdO9N7",
        "outputId": "94df96a7-4512-4429-f7e3-536411c4e84b"
      },
      "execution_count": 51,
      "outputs": [
        {
          "output_type": "stream",
          "name": "stdout",
          "text": [
            "[1, 3, 5, 7, 9, 11]\n"
          ]
        }
      ]
    },
    {
      "cell_type": "code",
      "source": [
        "tasks = [\"Read book\", \"Email client\", \"Attend meeting\"]\n",
        "tasks.remove(\"Email client\")\n",
        "print(tasks)  # Output: ['Read book', 'Attend meeting']"
      ],
      "metadata": {
        "colab": {
          "base_uri": "https://localhost:8080/"
        },
        "id": "JJ3DC2PwPJBd",
        "outputId": "9b8f0839-87b5-45d4-d148-eaa2a3714616"
      },
      "execution_count": 52,
      "outputs": [
        {
          "output_type": "stream",
          "name": "stdout",
          "text": [
            "['Read book', 'Attend meeting']\n"
          ]
        }
      ]
    },
    {
      "cell_type": "code",
      "source": [
        "# pop function --> used to remove the last element from the list and display it can be done by pop() function.\n",
        "\n",
        "tasks = [\"Read book\", \"Email client\", \"Attend meeting\", \"Bed Time\"]\n",
        "\n",
        "final_task = tasks.pop()\n",
        "\n",
        "print(tasks)\n",
        "\n",
        "print(final_task)\n"
      ],
      "metadata": {
        "colab": {
          "base_uri": "https://localhost:8080/"
        },
        "id": "1VBCBZUDPQKV",
        "outputId": "4038413c-0940-408d-a82d-0b09c35fdfd5"
      },
      "execution_count": 53,
      "outputs": [
        {
          "output_type": "stream",
          "name": "stdout",
          "text": [
            "['Read book', 'Email client', 'Attend meeting']\n",
            "Bed Time\n"
          ]
        }
      ]
    },
    {
      "cell_type": "code",
      "source": [
        "integers = list(range(1,7))\n",
        "\n",
        "print(integers)\n",
        "\n",
        "last_integer = integers.pop()\n",
        "\n",
        "print(last_integer)\n",
        "\n",
        "print(\"Integers after pooping out are:\", integers)"
      ],
      "metadata": {
        "colab": {
          "base_uri": "https://localhost:8080/"
        },
        "id": "oKAWxq7lPv29",
        "outputId": "e67df1ae-1dab-480b-8435-3fde2d6ab305"
      },
      "execution_count": 55,
      "outputs": [
        {
          "output_type": "stream",
          "name": "stdout",
          "text": [
            "[1, 2, 3, 4, 5, 6]\n",
            "6\n",
            "Integers after pooping out are: [1, 2, 3, 4, 5]\n"
          ]
        }
      ]
    },
    {
      "cell_type": "code",
      "source": [
        "tasks = [\"Read book\", \"Email client\", \"Attend meeting\", \"Bed Time\"]\n",
        "\n",
        "index_Position = tasks.index(\"Attend meeting\")\n",
        "\n",
        "print(index_Position)"
      ],
      "metadata": {
        "colab": {
          "base_uri": "https://localhost:8080/"
        },
        "id": "jcdVu1VrQA71",
        "outputId": "1f295f47-c12c-4d49-cacc-0142975787bb"
      },
      "execution_count": 56,
      "outputs": [
        {
          "output_type": "stream",
          "name": "stdout",
          "text": [
            "2\n"
          ]
        }
      ]
    },
    {
      "cell_type": "code",
      "source": [
        "numbers = [7,5,9,11,58,36,698]\n",
        "\n",
        "numbers.sort()\n",
        "\n",
        "print(numbers)"
      ],
      "metadata": {
        "colab": {
          "base_uri": "https://localhost:8080/"
        },
        "id": "I3VSh2moQwGO",
        "outputId": "713d4a05-7c7d-4164-8d44-82b83280f9e2"
      },
      "execution_count": 59,
      "outputs": [
        {
          "output_type": "stream",
          "name": "stdout",
          "text": [
            "[5, 7, 9, 11, 36, 58, 698]\n"
          ]
        }
      ]
    },
    {
      "cell_type": "code",
      "source": [],
      "metadata": {
        "id": "sNMJ9D04RFFm"
      },
      "execution_count": 60,
      "outputs": []
    },
    {
      "cell_type": "code",
      "source": [
        "# Tuples are immutable sequences, whereas lists are not\n",
        "\n",
        "#tuples are typically used to store heterogenous data and have fewer built in functions due to their immutability\n",
        "\n",
        "# have index and count built functons\n",
        "\n"
      ],
      "metadata": {
        "id": "tjCPWyx7ROe-"
      },
      "execution_count": 61,
      "outputs": []
    },
    {
      "cell_type": "code",
      "source": [
        "# Map, Reduce & Filter\n",
        "\n",
        "# map functon applies a given function to each of iterable and returns a map object\n",
        "\n",
        "#syntax: map(function, iterable)\n",
        "\n",
        "list1 = list(range(7))\n",
        "\n",
        "squared_list1 = map(lambda x : x**2,list1)\n",
        "\n",
        "print(list(squared_list1))"
      ],
      "metadata": {
        "colab": {
          "base_uri": "https://localhost:8080/"
        },
        "id": "5IaY4hUwSJBF",
        "outputId": "049e54a0-d2cf-480c-8ca3-3fe241336e65"
      },
      "execution_count": 63,
      "outputs": [
        {
          "output_type": "stream",
          "name": "stdout",
          "text": [
            "[0, 1, 4, 9, 16, 25, 36]\n"
          ]
        }
      ]
    },
    {
      "cell_type": "code",
      "source": [
        "temps = [0, 10, 20, 34.5]\n",
        "\n",
        "temp_in_fareinheit = map(lambda x : (9/5) * x + 32 , temps)\n",
        "\n",
        "print(list(temp_in_fareinheit))"
      ],
      "metadata": {
        "colab": {
          "base_uri": "https://localhost:8080/"
        },
        "id": "-MsVAyQCS98P",
        "outputId": "c52382be-7588-4d2d-91e1-b0ef43e1bca0"
      },
      "execution_count": 65,
      "outputs": [
        {
          "output_type": "stream",
          "name": "stdout",
          "text": [
            "[32.0, 50.0, 68.0, 94.1]\n"
          ]
        }
      ]
    },
    {
      "cell_type": "code",
      "source": [
        "# Reduce --> which is a part of functions module, repeatdely applies a function to the elements of iterable, reducing them to a single value\n",
        "\n",
        "# syntax: functools.reduce(function, iterable[,initializer])\n",
        "\n",
        "import functools\n",
        "\n",
        "lst1 = list(range(1,6))\n",
        "\n",
        "cumulative_sum = functools.reduce(lambda a,b : a+b, lst1)\n",
        "\n",
        "print(cumulative_sum)"
      ],
      "metadata": {
        "colab": {
          "base_uri": "https://localhost:8080/"
        },
        "id": "UTiAx_w2TYwu",
        "outputId": "071466f9-3690-4c75-af3d-4f167f38f9da"
      },
      "execution_count": 66,
      "outputs": [
        {
          "output_type": "stream",
          "name": "stdout",
          "text": [
            "15\n"
          ]
        }
      ]
    },
    {
      "cell_type": "code",
      "source": [
        "numbers = [47, 11, 42, 102, 13]\n",
        "max_num = functools.reduce(lambda a,b : a if a > b else b, numbers)\n",
        "\n",
        "print(max_num)"
      ],
      "metadata": {
        "colab": {
          "base_uri": "https://localhost:8080/"
        },
        "id": "-DTa3ooeUoPo",
        "outputId": "91ca1167-3c19-4610-d2b6-c3ea3111df77"
      },
      "execution_count": 67,
      "outputs": [
        {
          "output_type": "stream",
          "name": "stdout",
          "text": [
            "102\n"
          ]
        }
      ]
    },
    {
      "cell_type": "code",
      "source": [
        "# filter function is used to filter out elements  based on a function that specifies the filtering criteria\n",
        "\n",
        "#syntax : filter(function, iterable)\n",
        "\n",
        "number = list(range(10))\n",
        "\n",
        "even_nums = (filter(lambda x : x % 2 == 0, number))\n",
        "\n",
        "print(list(even_nums))"
      ],
      "metadata": {
        "colab": {
          "base_uri": "https://localhost:8080/"
        },
        "id": "LmBVQO7kU44R",
        "outputId": "026f60a2-1891-4cea-f0ed-9ddcc87e695b"
      },
      "execution_count": 69,
      "outputs": [
        {
          "output_type": "stream",
          "name": "stdout",
          "text": [
            "[0, 2, 4, 6, 8]\n"
          ]
        }
      ]
    },
    {
      "cell_type": "code",
      "source": [
        "# LIST COMPREHENSION --> It filter outs elements of a sequence based on a function  that specifies the filtering criteria.\n",
        "\n",
        "# syntax: [expression for item in iterable if condition]\n",
        "\n",
        "\"\"\"\n",
        "List comprehensions enable creating lists effeciently with a single readable line\n",
        "\n",
        "they use an expression for clause, with optional if clauses, for diverse list operations\n",
        "\n",
        "ideal for simple tasks, offering readability and efficiency\n",
        "\"\"\"\n",
        "\n",
        "nos = list(range(1,6))\n",
        "\n",
        "squared_tuples = [(x,x**2) for x in nos]\n",
        "\n",
        "print(squared_tuples)"
      ],
      "metadata": {
        "colab": {
          "base_uri": "https://localhost:8080/"
        },
        "id": "VCriOIQbboCf",
        "outputId": "c9e1634d-96bf-4358-e2fe-c5733e99634e"
      },
      "execution_count": 70,
      "outputs": [
        {
          "output_type": "stream",
          "name": "stdout",
          "text": [
            "[(1, 1), (2, 4), (3, 9), (4, 16), (5, 25)]\n"
          ]
        }
      ]
    },
    {
      "cell_type": "code",
      "source": [
        "words = [\"Hello\", \"WORLD\", \"Python\", \"List\"]\n",
        "\n",
        "uppercaesd_words = [word.upper() for word in words]\n",
        "\n",
        "print(uppercaesd_words)"
      ],
      "metadata": {
        "colab": {
          "base_uri": "https://localhost:8080/"
        },
        "id": "XAlXuOrkdBjw",
        "outputId": "dca8240a-18f9-45a1-a87c-30a742cdea2d"
      },
      "execution_count": 72,
      "outputs": [
        {
          "output_type": "stream",
          "name": "stdout",
          "text": [
            "['HELLO', 'WORLD', 'PYTHON', 'LIST']\n"
          ]
        }
      ]
    },
    {
      "cell_type": "code",
      "source": [
        "# sets\n",
        "\n",
        "\"\"\"\n",
        "sets are used to store unordered collection of unique elements.\n",
        "\n",
        "sets are mutable.\n",
        "each element in a set is unique, duplicates are not allowed.\n",
        "contains elements of different data types\n",
        "\n",
        "\"\"\"\n",
        "\n",
        "set1 = {1,\"home\",55.3}\n",
        "\n",
        "print(set1)"
      ],
      "metadata": {
        "colab": {
          "base_uri": "https://localhost:8080/"
        },
        "id": "cScvGgUPdUzw",
        "outputId": "bfc7a219-1609-464c-f826-7cf7d93ae186"
      },
      "execution_count": 1,
      "outputs": [
        {
          "output_type": "stream",
          "name": "stdout",
          "text": [
            "{1, 'home', 55.3}\n"
          ]
        }
      ]
    },
    {
      "cell_type": "code",
      "source": [
        "set2 = set(list([4,5,6]))\n",
        "\n",
        "print(set2)"
      ],
      "metadata": {
        "colab": {
          "base_uri": "https://localhost:8080/"
        },
        "id": "KRxjptF2KXL2",
        "outputId": "aba5009a-5465-4c01-c5ee-3d7653719525"
      },
      "execution_count": 2,
      "outputs": [
        {
          "output_type": "stream",
          "name": "stdout",
          "text": [
            "{4, 5, 6}\n"
          ]
        }
      ]
    },
    {
      "cell_type": "code",
      "source": [
        "icc_tournament_player_awardees = [\"Virat\",\"Smith\",\"Bumrah\",\"Rohit\",\"Virat\",\"Williamson\",\"Dhoni\",\"Dhoni\"]\n",
        "\n",
        "unique_icc_awardees = set(icc_tournament_player_awardees)\n",
        "\n",
        "print(unique_icc_awardees)"
      ],
      "metadata": {
        "colab": {
          "base_uri": "https://localhost:8080/"
        },
        "id": "6KPtgWWnKflZ",
        "outputId": "babfc816-7d7b-4c3a-8687-cbed85a2c416"
      },
      "execution_count": 3,
      "outputs": [
        {
          "output_type": "stream",
          "name": "stdout",
          "text": [
            "{'Rohit', 'Bumrah', 'Smith', 'Virat', 'Dhoni', 'Williamson'}\n"
          ]
        }
      ]
    },
    {
      "cell_type": "code",
      "source": [
        "my_set = {1,2,3}\n",
        "\n",
        "my_set.add(4)\n",
        "\n",
        "print(my_set)"
      ],
      "metadata": {
        "colab": {
          "base_uri": "https://localhost:8080/"
        },
        "id": "Sew8-bbUK3c2",
        "outputId": "d1c04c70-a0e8-43ff-b51e-372794082e3f"
      },
      "execution_count": 4,
      "outputs": [
        {
          "output_type": "stream",
          "name": "stdout",
          "text": [
            "{1, 2, 3, 4}\n"
          ]
        }
      ]
    },
    {
      "cell_type": "code",
      "source": [
        "my_set.remove(2)\n",
        "\n",
        "print(my_set)"
      ],
      "metadata": {
        "colab": {
          "base_uri": "https://localhost:8080/"
        },
        "id": "RwCiaTiyLCtV",
        "outputId": "60597c5e-5b59-4cb7-d62d-9f63fb2f5f42"
      },
      "execution_count": 5,
      "outputs": [
        {
          "output_type": "stream",
          "name": "stdout",
          "text": [
            "{1, 3, 4}\n"
          ]
        }
      ]
    },
    {
      "cell_type": "code",
      "source": [
        "# set operations\n",
        "\n",
        "s1 = {1,3,5,7}\n",
        "\n",
        "s2 = {2,4,5,6}\n",
        "\n",
        "union = (s1 | s2)\n",
        "print(union)\n",
        "\n",
        "intersection = (s1 & s2)\n",
        "print(intersection)\n",
        "\n",
        "diff = (s1 - s2)\n",
        "print(diff)\n",
        "\n",
        "sym_diff = (s1 ^ s2)\n",
        "print(sym_diff)"
      ],
      "metadata": {
        "colab": {
          "base_uri": "https://localhost:8080/"
        },
        "id": "L7bLzwp4LG8e",
        "outputId": "3991b73a-aa02-4330-f135-b5b92ed9b054"
      },
      "execution_count": 8,
      "outputs": [
        {
          "output_type": "stream",
          "name": "stdout",
          "text": [
            "{1, 2, 3, 4, 5, 6, 7}\n",
            "{5}\n",
            "{1, 3, 7}\n",
            "{1, 2, 3, 4, 6, 7}\n"
          ]
        }
      ]
    },
    {
      "cell_type": "code",
      "source": [
        "# DICTIONARIES\n",
        "\n",
        "\"\"\"\n",
        "Used for key - value storage\n",
        "Mutable\n",
        "Unordered\n",
        "Keys must be unique\n",
        "Keys must be immutable\n",
        "\n",
        "\"\"\"\n",
        "\n",
        "dict1 = {\"name\":\"Alice\", \"age\":25}\n",
        "print(dict1)"
      ],
      "metadata": {
        "colab": {
          "base_uri": "https://localhost:8080/"
        },
        "id": "G8wE8cUPLp7e",
        "outputId": "0f97779c-e511-4dc2-e77d-4b8e936e31ac"
      },
      "execution_count": 11,
      "outputs": [
        {
          "output_type": "stream",
          "name": "stdout",
          "text": [
            "{'name': 'Alice', 'age': 25}\n"
          ]
        }
      ]
    },
    {
      "cell_type": "code",
      "source": [
        "dict2 = dict(name=\"Alice\",age =25)\n",
        "print(dict2)"
      ],
      "metadata": {
        "colab": {
          "base_uri": "https://localhost:8080/"
        },
        "id": "lMj_CxzQWiR3",
        "outputId": "db5e42f0-c283-44c2-fa6e-cdea4fa2880f"
      },
      "execution_count": 12,
      "outputs": [
        {
          "output_type": "stream",
          "name": "stdout",
          "text": [
            "{'name': 'Alice', 'age': 25}\n"
          ]
        }
      ]
    },
    {
      "cell_type": "code",
      "source": [
        "my_dict = {\"Name\":\"Varun\", \"jersey_no\":44, \"player_type\":\"Spin Bowler\"}\n",
        "\n",
        "print(my_dict)"
      ],
      "metadata": {
        "colab": {
          "base_uri": "https://localhost:8080/"
        },
        "id": "QlQLw0Q_W2YY",
        "outputId": "ed9cf902-7a0c-441f-888d-d5081b2f2cfa"
      },
      "execution_count": 13,
      "outputs": [
        {
          "output_type": "stream",
          "name": "stdout",
          "text": [
            "{'Name': 'Varun', 'jersey_no': 44, 'player_type': 'Spin Bowler'}\n"
          ]
        }
      ]
    },
    {
      "cell_type": "code",
      "source": [
        "my_dict[\"Name\"]"
      ],
      "metadata": {
        "colab": {
          "base_uri": "https://localhost:8080/",
          "height": 35
        },
        "id": "nmuiZ42RXKnO",
        "outputId": "97b89a1f-a93f-4624-f232-7db225a5163f"
      },
      "execution_count": 16,
      "outputs": [
        {
          "output_type": "execute_result",
          "data": {
            "text/plain": [
              "'Varun'"
            ],
            "application/vnd.google.colaboratory.intrinsic+json": {
              "type": "string"
            }
          },
          "metadata": {},
          "execution_count": 16
        }
      ]
    },
    {
      "cell_type": "code",
      "source": [
        "my_dict[\"State\"] = \"Karnataka\"\n",
        "\n",
        "print(my_dict)"
      ],
      "metadata": {
        "colab": {
          "base_uri": "https://localhost:8080/"
        },
        "id": "GgsJrCngXMiZ",
        "outputId": "27623751-5577-4e51-fb1a-adab67e64051"
      },
      "execution_count": 17,
      "outputs": [
        {
          "output_type": "stream",
          "name": "stdout",
          "text": [
            "{'Name': 'Varun', 'jersey_no': 44, 'player_type': 'Spin Bowler', 'State': 'Karnataka'}\n"
          ]
        }
      ]
    },
    {
      "cell_type": "code",
      "source": [
        "my_dict[\"Franchise\"] = \"PBKS\"\n",
        "\n",
        "print(my_dict)"
      ],
      "metadata": {
        "colab": {
          "base_uri": "https://localhost:8080/"
        },
        "id": "4Xmb_fxAXeXB",
        "outputId": "7d295b65-815b-4a07-e85f-3031841726a0"
      },
      "execution_count": 18,
      "outputs": [
        {
          "output_type": "stream",
          "name": "stdout",
          "text": [
            "{'Name': 'Varun', 'jersey_no': 44, 'player_type': 'Spin Bowler', 'State': 'Karnataka', 'Franchise': 'PBKS'}\n"
          ]
        }
      ]
    },
    {
      "cell_type": "code",
      "source": [
        "my_dict.pop(\"Franchise\")"
      ],
      "metadata": {
        "colab": {
          "base_uri": "https://localhost:8080/",
          "height": 35
        },
        "id": "g2tU7_GFXkjJ",
        "outputId": "7c19dd6a-c224-465c-d28b-f8ebc5e5cc00"
      },
      "execution_count": 19,
      "outputs": [
        {
          "output_type": "execute_result",
          "data": {
            "text/plain": [
              "'PBKS'"
            ],
            "application/vnd.google.colaboratory.intrinsic+json": {
              "type": "string"
            }
          },
          "metadata": {},
          "execution_count": 19
        }
      ]
    },
    {
      "cell_type": "code",
      "source": [
        "print(my_dict)"
      ],
      "metadata": {
        "colab": {
          "base_uri": "https://localhost:8080/"
        },
        "id": "AP2vpiz_XuSv",
        "outputId": "46158add-c67a-48cc-d2d0-92fcc70638dc"
      },
      "execution_count": 20,
      "outputs": [
        {
          "output_type": "stream",
          "name": "stdout",
          "text": [
            "{'Name': 'Varun', 'jersey_no': 44, 'player_type': 'Spin Bowler', 'State': 'Karnataka'}\n"
          ]
        }
      ]
    },
    {
      "cell_type": "code",
      "source": [
        "print(len(my_dict))"
      ],
      "metadata": {
        "colab": {
          "base_uri": "https://localhost:8080/"
        },
        "id": "53zbUu-8XwrB",
        "outputId": "a9b3e04f-12e7-4f7d-cf11-42e688c3b218"
      },
      "execution_count": 21,
      "outputs": [
        {
          "output_type": "stream",
          "name": "stdout",
          "text": [
            "4\n"
          ]
        }
      ]
    },
    {
      "cell_type": "code",
      "source": [
        "print(\"Franchise\" in my_dict)\n",
        "print(\"Name\" in my_dict)\n"
      ],
      "metadata": {
        "colab": {
          "base_uri": "https://localhost:8080/"
        },
        "id": "71wDNHDYXz-B",
        "outputId": "19c9410d-b6b3-4121-d63d-d58a6333d27c"
      },
      "execution_count": 22,
      "outputs": [
        {
          "output_type": "stream",
          "name": "stdout",
          "text": [
            "False\n",
            "True\n"
          ]
        }
      ]
    },
    {
      "cell_type": "code",
      "source": [
        "# Iterating through Dictionary\n",
        "\n",
        "\"\"\"\n",
        "we can iterate through dictionary using\n",
        "    1. key\n",
        "    2. value\n",
        "    3. key - value pairs\n",
        "\n",
        "\"\"\"\n",
        "print(my_dict)\n",
        "\n",
        "\n",
        "# 1. iterating using keys\n",
        "\n",
        "for key in my_dict.keys():\n",
        "    print(key)\n",
        "print('\\n')\n",
        "\n",
        "# 2. iterating using values\n",
        "for values in my_dict.values():\n",
        "    print(values)\n",
        "print('\\n')\n",
        "\n",
        "# 3. iterating through key value pairs\n",
        "\n",
        "for key, value in my_dict.items():\n",
        "    print(key, value)\n",
        "print('\\n')"
      ],
      "metadata": {
        "colab": {
          "base_uri": "https://localhost:8080/"
        },
        "id": "XAm3YrCLYBPR",
        "outputId": "a5ddaa4a-361f-46e8-ee79-fb1fba391c44"
      },
      "execution_count": 25,
      "outputs": [
        {
          "output_type": "stream",
          "name": "stdout",
          "text": [
            "{'Name': 'Varun', 'jersey_no': 44, 'player_type': 'Spin Bowler', 'State': 'Karnataka'}\n",
            "Name\n",
            "jersey_no\n",
            "player_type\n",
            "State\n",
            "\n",
            "\n",
            "Varun\n",
            "44\n",
            "Spin Bowler\n",
            "Karnataka\n",
            "\n",
            "\n",
            "Name Varun\n",
            "jersey_no 44\n",
            "player_type Spin Bowler\n",
            "State Karnataka\n",
            "\n",
            "\n"
          ]
        }
      ]
    },
    {
      "cell_type": "code",
      "source": [
        "# copying a dictionary\n",
        "\n",
        "original_dict = my_dict\n",
        "\n",
        "# print(original_dict)\n",
        "\n",
        "copy_dict = original_dict\n",
        "\n",
        "# print(copy_dict)\n",
        "\n",
        "print(\"Original dictionary is: \", original_dict)\n",
        "print('\\n')\n",
        "print(\"Duplicate dictionary is: \", copy_dict)"
      ],
      "metadata": {
        "colab": {
          "base_uri": "https://localhost:8080/"
        },
        "id": "iNwI_bUIYdoQ",
        "outputId": "98a2d6d8-9542-4b98-cf65-3242246406a9"
      },
      "execution_count": 29,
      "outputs": [
        {
          "output_type": "stream",
          "name": "stdout",
          "text": [
            "Original dictionary is:  {'Name': 'Varun', 'jersey_no': 44, 'player_type': 'Spin Bowler', 'State': 'Karnataka'}\n",
            "\n",
            "\n",
            "Duplicate dictionary is:  {'Name': 'Varun', 'jersey_no': 44, 'player_type': 'Spin Bowler', 'State': 'Karnataka'}\n"
          ]
        }
      ]
    },
    {
      "cell_type": "code",
      "source": [
        "\n",
        "print(id(my_dict),id(original_dict),id(copy_dict))"
      ],
      "metadata": {
        "colab": {
          "base_uri": "https://localhost:8080/"
        },
        "id": "3hszEN_EZS5i",
        "outputId": "e3efec96-68a1-438c-c3ba-09d70312fe71"
      },
      "execution_count": 30,
      "outputs": [
        {
          "output_type": "stream",
          "name": "stdout",
          "text": [
            "133374950907136 133374950907136 133374950907136\n"
          ]
        }
      ]
    },
    {
      "cell_type": "code",
      "source": [
        "# dictionary comprehensions are similar to list and set comprehensions, they allow us to create dictionaries dynamically\n",
        "\n",
        "squares = {x: x**2 for x in range(6)}\n",
        "\n",
        "print(squares)"
      ],
      "metadata": {
        "colab": {
          "base_uri": "https://localhost:8080/"
        },
        "id": "OfDCrNH8aOcS",
        "outputId": "29261892-8466-4e3f-ad8a-c20bbf7eba65"
      },
      "execution_count": 31,
      "outputs": [
        {
          "output_type": "stream",
          "name": "stdout",
          "text": [
            "{0: 0, 1: 1, 2: 4, 3: 9, 4: 16, 5: 25}\n"
          ]
        }
      ]
    },
    {
      "cell_type": "code",
      "source": [
        "# nested dictionaries can store other dictionaries, allowing for nested data structures\n",
        "\n",
        "nested_dict1 = {\n",
        "    'person1': {'name':'manish','age':22},\n",
        "    'person2': {'name':'kashyap','age':28},\n",
        "    'person3': {'name':'ravi','age':25}\n",
        "                }\n",
        "\n",
        "print(nested_dict1)"
      ],
      "metadata": {
        "colab": {
          "base_uri": "https://localhost:8080/"
        },
        "id": "hyAUGMsparEV",
        "outputId": "f7443e3c-d7c2-413c-9d03-b6900d0c2f05"
      },
      "execution_count": 34,
      "outputs": [
        {
          "output_type": "stream",
          "name": "stdout",
          "text": [
            "{'person1': {'name': 'manish', 'age': 22}, 'person2': {'name': 'kashyap', 'age': 28}, 'person3': {'name': 'ravi', 'age': 25}}\n"
          ]
        }
      ]
    },
    {
      "cell_type": "code",
      "source": [
        "# complex example of an nested dictionary\n",
        "\n",
        "company = {\n",
        "    \"Sales\": {\n",
        "        \"Raj\": {\"ID\": 101, \"Title\": \"Sales Manager\"},\n",
        "        \"Akash\": {\"ID\": 102, \"Title\": \"Sales Representative\"}\n",
        "    },\n",
        "    \"IT\": {\n",
        "        \"Ranveer\": {\"ID\": 201, \"Title\": \"IT Manager\"},\n",
        "        \"Setty\": {\"ID\": 202, \"Title\": \"Software Developer\"}\n",
        "    }\n",
        "}\n",
        "\n",
        "company"
      ],
      "metadata": {
        "colab": {
          "base_uri": "https://localhost:8080/"
        },
        "id": "_YeAe5ABbUw2",
        "outputId": "6e006cd1-22a9-4c48-bfe9-a8ba50885459"
      },
      "execution_count": 35,
      "outputs": [
        {
          "output_type": "execute_result",
          "data": {
            "text/plain": [
              "{'Sales': {'Raj': {'ID': 101, 'Title': 'Sales Manager'},\n",
              "  'Akash': {'ID': 102, 'Title': 'Sales Representative'}},\n",
              " 'IT': {'Ranveer': {'ID': 201, 'Title': 'IT Manager'},\n",
              "  'Setty': {'ID': 202, 'Title': 'Software Developer'}}}"
            ]
          },
          "metadata": {},
          "execution_count": 35
        }
      ]
    },
    {
      "cell_type": "code",
      "source": [
        "print(len(company))"
      ],
      "metadata": {
        "colab": {
          "base_uri": "https://localhost:8080/"
        },
        "id": "WThL8VTlbk0k",
        "outputId": "e72860f4-6f38-4020-af03-20def63c4680"
      },
      "execution_count": 39,
      "outputs": [
        {
          "output_type": "stream",
          "name": "stdout",
          "text": [
            "2\n"
          ]
        }
      ]
    },
    {
      "cell_type": "code",
      "source": [
        "print(company['IT']['Setty'])"
      ],
      "metadata": {
        "colab": {
          "base_uri": "https://localhost:8080/"
        },
        "id": "UTHAk1eNbmwE",
        "outputId": "1b78e29c-ca2f-4d55-a478-f3df60fba990"
      },
      "execution_count": 50,
      "outputs": [
        {
          "output_type": "stream",
          "name": "stdout",
          "text": [
            "{'ID': 202, 'Title': 'Software Developer'}\n"
          ]
        }
      ]
    },
    {
      "cell_type": "code",
      "source": [
        "# ex 2\n",
        "\n",
        "students = {\n",
        "    \"John\": {\n",
        "        \"Math\": 90,\n",
        "        \"Science\": 85,\n",
        "        \"History\": 75\n",
        "    },\n",
        "    \"Emma\": {\n",
        "        \"Math\": 82,\n",
        "        \"Science\": 95,\n",
        "        \"History\": 80\n",
        "    }\n",
        "}\n"
      ],
      "metadata": {
        "id": "GeCRw_NXbuHD"
      },
      "execution_count": 51,
      "outputs": []
    },
    {
      "cell_type": "code",
      "source": [
        "students"
      ],
      "metadata": {
        "colab": {
          "base_uri": "https://localhost:8080/"
        },
        "id": "ehcwMJjEcJlH",
        "outputId": "cc799095-d77f-4141-ce98-4e236cf3945f"
      },
      "execution_count": 53,
      "outputs": [
        {
          "output_type": "execute_result",
          "data": {
            "text/plain": [
              "{'John': {'Math': 90, 'Science': 85, 'History': 75},\n",
              " 'Emma': {'Math': 82, 'Science': 95, 'History': 80}}"
            ]
          },
          "metadata": {},
          "execution_count": 53
        }
      ]
    },
    {
      "cell_type": "code",
      "source": [
        "print(students['Emma']['Math'])"
      ],
      "metadata": {
        "colab": {
          "base_uri": "https://localhost:8080/"
        },
        "id": "M7CQIKpncKus",
        "outputId": "b2382f8b-ee36-463e-edde-47c25ef87596"
      },
      "execution_count": 57,
      "outputs": [
        {
          "output_type": "stream",
          "name": "stdout",
          "text": [
            "82\n"
          ]
        }
      ]
    },
    {
      "cell_type": "code",
      "source": [
        "# ex 3\n",
        "\n",
        "product_catalog = {\n",
        "    \"Electronics\": {\n",
        "        \"Laptop\": {\"Price\": 800, \"Stock\": 10},\n",
        "        \"Smartphone\": {\"Price\": 500, \"Stock\": 15}\n",
        "    },\n",
        "    \"Books\": {\n",
        "        \"Fiction\": {\"Price\": 12, \"Stock\": 20},\n",
        "        \"Non-Fiction\": {\"Price\": 15, \"Stock\": 18}\n",
        "    }\n",
        "}"
      ],
      "metadata": {
        "id": "lK_Rd4XzcRuM"
      },
      "execution_count": 58,
      "outputs": []
    },
    {
      "cell_type": "code",
      "source": [
        "product_catalog"
      ],
      "metadata": {
        "colab": {
          "base_uri": "https://localhost:8080/"
        },
        "id": "FtZkm-8vcebi",
        "outputId": "ae3b8030-0f5b-47d1-bfde-4a628a97a991"
      },
      "execution_count": 59,
      "outputs": [
        {
          "output_type": "execute_result",
          "data": {
            "text/plain": [
              "{'Electronics': {'Laptop': {'Price': 800, 'Stock': 10},\n",
              "  'Smartphone': {'Price': 500, 'Stock': 15}},\n",
              " 'Books': {'Fiction': {'Price': 12, 'Stock': 20},\n",
              "  'Non-Fiction': {'Price': 15, 'Stock': 18}}}"
            ]
          },
          "metadata": {},
          "execution_count": 59
        }
      ]
    },
    {
      "cell_type": "code",
      "source": [
        "product_catalog['Electronics']['Laptop']['Stock']"
      ],
      "metadata": {
        "colab": {
          "base_uri": "https://localhost:8080/"
        },
        "id": "0qWE41Slcfsk",
        "outputId": "32b98bbb-b6c2-4dc8-e40e-3b999d20b434"
      },
      "execution_count": 66,
      "outputs": [
        {
          "output_type": "execute_result",
          "data": {
            "text/plain": [
              "10"
            ]
          },
          "metadata": {},
          "execution_count": 66
        }
      ]
    },
    {
      "cell_type": "code",
      "source": [
        "product_catalog['Books']['Fiction']"
      ],
      "metadata": {
        "colab": {
          "base_uri": "https://localhost:8080/"
        },
        "id": "w-Ovcrhwciss",
        "outputId": "54951a4c-96d7-4488-8e0b-f4670fb26844"
      },
      "execution_count": 64,
      "outputs": [
        {
          "output_type": "execute_result",
          "data": {
            "text/plain": [
              "{'Price': 12, 'Stock': 20}"
            ]
          },
          "metadata": {},
          "execution_count": 64
        }
      ]
    },
    {
      "cell_type": "code",
      "source": [
        "#e1\n",
        "original_dict = {'a': 1, 'b': 2, 'c': 3, 'd': 4, 'e': 5}\n",
        "\n",
        "filtered_dict = {key:value for key, value in original_dict.items() if value % 2 == 0}"
      ],
      "metadata": {
        "id": "NxL-jkeucojr"
      },
      "execution_count": 73,
      "outputs": []
    },
    {
      "cell_type": "code",
      "source": [
        "print(filtered_dict)"
      ],
      "metadata": {
        "colab": {
          "base_uri": "https://localhost:8080/"
        },
        "id": "X8Er2vnldMpt",
        "outputId": "bce59ae5-b0fc-4db7-a9a3-c8f37bc05d19"
      },
      "execution_count": 74,
      "outputs": [
        {
          "output_type": "stream",
          "name": "stdout",
          "text": [
            "{'b': 2, 'd': 4}\n"
          ]
        }
      ]
    },
    {
      "cell_type": "code",
      "source": [
        "#e3\n",
        "\n",
        "items = [(\"apple\", \"fruit\"), (\"carrot\", \"vegetable\"), (\"banana\", \"fruit\"), (\"broccoli\", \"vegetable\")]\n",
        "\n",
        "category_dict = {}\n",
        "\n",
        "# for item, category in items:\n",
        "#     if category in category_dict:\n",
        "#         category_dict[category].append(item)\n",
        "#     else:\n",
        "#         category_dict[category] = item\n",
        "\n",
        "for item, category in items:\n",
        "    if category in category_dict:\n",
        "        category_dict[category].append(item)\n",
        "    else:\n",
        "        category_dict[category] = [item]\n",
        "\n",
        "print(category_dict)"
      ],
      "metadata": {
        "colab": {
          "base_uri": "https://localhost:8080/"
        },
        "id": "Sutuj_zsdYHF",
        "outputId": "be50a3a6-78f8-4fa4-e652-b22b4b65fdd3"
      },
      "execution_count": 78,
      "outputs": [
        {
          "output_type": "stream",
          "name": "stdout",
          "text": [
            "{'fruit': ['apple', 'banana'], 'vegetable': ['carrot', 'broccoli']}\n"
          ]
        }
      ]
    },
    {
      "cell_type": "code",
      "source": [
        "# RECURSION\n",
        "\n",
        "\"\"\"\n",
        "\n",
        "Recursion is a process that helps to break the bigger problem into smaller ones\n",
        "\n",
        "Technical Definition: Recursion is a process in which a function calls itself multiple times, untill the desired problem gets solved.\n",
        "\n",
        "Recursion consists of two major components:\n",
        "    1. Recursive steps (function calls)\n",
        "    2. Base case (terminating condition)\n",
        "\n",
        "1. Recursive Steps:\n",
        "    the recursive steps breaks the larger problem into smaller ones\n",
        "    once the deepest level is resolved (base case), the process concludes by unwinding back through the previous recursive layers.\n",
        "2. Base Case:\n",
        "    the base case is a condition that stops recursion by providing a simple, direct solution without further recursive calls\n",
        "    it prevents infinite recursion by specifying when the function should stop calling itself and start returning values.\n",
        "\n",
        "\"\"\"\n",
        "\n",
        "# Ex: Factorial Calculation\n",
        "\n",
        "# calculates factorial of a number, where base case is factorial of 0\n",
        "\n",
        "def factorial(n):\n",
        "    if n == 0 or n == 1:\n",
        "        return 1\n",
        "    else:\n",
        "        return n * factorial(n-1)\n",
        "\n",
        "print(factorial(6))"
      ],
      "metadata": {
        "colab": {
          "base_uri": "https://localhost:8080/"
        },
        "id": "hWwCssZ1d_HO",
        "outputId": "378fea20-40f6-4b98-8d91-0aa2fc20eab4"
      },
      "execution_count": 1,
      "outputs": [
        {
          "output_type": "stream",
          "name": "stdout",
          "text": [
            "720\n"
          ]
        }
      ]
    },
    {
      "cell_type": "code",
      "source": [
        "# Fibonacci sequence\n",
        "\n",
        "# description: finds nth number in the fibonacci series\n",
        "\n",
        "# hint: f(n) = f(n-1) + f(n-2), with base cases for n = 0 and n = 1\n",
        "\n",
        "def fibonacci(n):\n",
        "    if n <= 1:\n",
        "        return n\n",
        "    else:\n",
        "        return fibonacci (n-1) + fibonacci(n-2)\n",
        "\n",
        "print(fibonacci(9))"
      ],
      "metadata": {
        "colab": {
          "base_uri": "https://localhost:8080/"
        },
        "id": "YWIUjaQLMX3A",
        "outputId": "ecc55a92-3449-4e51-9ea6-e3cda1ad3e8c"
      },
      "execution_count": 3,
      "outputs": [
        {
          "output_type": "stream",
          "name": "stdout",
          "text": [
            "34\n"
          ]
        }
      ]
    },
    {
      "cell_type": "code",
      "source": [
        "# power of a number\n",
        "\"\"\"\n",
        "calculates the power of a number\n",
        "\n",
        "power(base, exp) = base * power(base, exp - 1), with base case being power(base,0) = 1\n",
        "\n",
        "\"\"\"\n",
        "\n",
        "def power(base, exp):\n",
        "    if exp == 0:\n",
        "        return 1\n",
        "    else:\n",
        "        return base * power(base, exp -1)\n",
        "\n",
        "print(power(5,3))\n"
      ],
      "metadata": {
        "colab": {
          "base_uri": "https://localhost:8080/"
        },
        "id": "XBFZY2Q5Ndm0",
        "outputId": "549e067d-6ba2-491e-caa2-7090784de9d8"
      },
      "execution_count": 4,
      "outputs": [
        {
          "output_type": "stream",
          "name": "stdout",
          "text": [
            "125\n"
          ]
        }
      ]
    },
    {
      "cell_type": "code",
      "source": [
        "# Greatet Common Divisor\n",
        "\n",
        "\"\"\"\n",
        "calculates GCD for given two numbers\n",
        "\n",
        "gcd(a,b) is gcd(b, a%b), with the base case being gcd(a,0) = a\n",
        "\n",
        "\"\"\"\n",
        "\n",
        "def gcd(a,b):\n",
        "    if b == 0:\n",
        "        return a\n",
        "    else:\n",
        "        return gcd(b, a % b)\n",
        "\n",
        "print(gcd(1086,42))"
      ],
      "metadata": {
        "colab": {
          "base_uri": "https://localhost:8080/"
        },
        "id": "0A1cuEFnPP6i",
        "outputId": "50437322-2334-4b8b-f1d0-a1bde9b8456e"
      },
      "execution_count": 8,
      "outputs": [
        {
          "output_type": "stream",
          "name": "stdout",
          "text": [
            "6\n",
            "6\n"
          ]
        }
      ]
    },
    {
      "cell_type": "code",
      "source": [
        "def gcd(a,b):\n",
        "    if b == 0:\n",
        "        return a\n",
        "    else:\n",
        "        return gcd(b, a % b)\n",
        "\n",
        "print(gcd(1086,42))"
      ],
      "metadata": {
        "colab": {
          "base_uri": "https://localhost:8080/"
        },
        "id": "3slE3z6hQgQB",
        "outputId": "62906219-9f02-4ab7-9173-a712ed294af6"
      },
      "execution_count": 9,
      "outputs": [
        {
          "output_type": "stream",
          "name": "stdout",
          "text": [
            "6\n"
          ]
        }
      ]
    },
    {
      "cell_type": "code",
      "source": [
        "# palindrome check\n",
        "\n",
        "\"\"\"\n",
        "checks if a string is a palindrome\n",
        "\n",
        "compare the first and last charecters, then recursively check the substrings excluding these charecters\n",
        "\n",
        "\"\"\"\n",
        "\n",
        "def is_palindrome(s):\n",
        "    if len(s) < 2 :\n",
        "        return True\n",
        "    if s[0] != s[-1]:\n",
        "        return False\n",
        "    return is_palindrome(s[1:-1])\n",
        "\n",
        "print(is_palindrome(\"malayalam\"))\n"
      ],
      "metadata": {
        "colab": {
          "base_uri": "https://localhost:8080/"
        },
        "id": "U44T5wK8RdYC",
        "outputId": "f13800f6-bd24-4916-ee2a-ab7192e14e76"
      },
      "execution_count": 14,
      "outputs": [
        {
          "output_type": "stream",
          "name": "stdout",
          "text": [
            "True\n"
          ]
        }
      ]
    },
    {
      "cell_type": "code",
      "source": [
        "# reverse a string\n",
        "\n",
        "\"\"\"\n",
        "\n",
        "reverse a given string\n",
        "\n",
        "concatenate the reverse of substring (excluding the first charecter) with that first charecter.\n",
        "\n",
        "\"\"\"\n",
        "\n",
        "def reverse_string(s):\n",
        "    if len(s) == 0:\n",
        "        return s\n",
        "    else:\n",
        "        return reverse_string(s[1:]) + s[0]\n",
        "\n",
        "print(reverse_string(\"Malayalam\"))"
      ],
      "metadata": {
        "colab": {
          "base_uri": "https://localhost:8080/"
        },
        "id": "miTUccEHSQKr",
        "outputId": "ab072c35-288d-4ccd-e621-34d83bcd3d78"
      },
      "execution_count": 15,
      "outputs": [
        {
          "output_type": "stream",
          "name": "stdout",
          "text": [
            "malayalaM\n"
          ]
        }
      ]
    },
    {
      "cell_type": "code",
      "source": [
        "# sum of array elements\n",
        "\n",
        "\"\"\"\n",
        "\n",
        "calculates the sum of elements in an array\n",
        "\n",
        "sum_array(arr) = arr[0] + sum_array(arr[1:]), with base case being an empty array\n",
        "\n",
        "\"\"\"\n",
        "\n",
        "def sum_array(arr):\n",
        "    if len(arr) == 0:\n",
        "        return 0\n",
        "    else:\n",
        "        return arr[0] + sum_array(arr[1:])\n",
        "\n",
        "print(sum_array(list(range(1,20,3))))"
      ],
      "metadata": {
        "colab": {
          "base_uri": "https://localhost:8080/"
        },
        "id": "SEOO6lZdTP_7",
        "outputId": "ba2c2f67-09c2-4adc-a4fb-f3a5ceb7990a"
      },
      "execution_count": 16,
      "outputs": [
        {
          "output_type": "stream",
          "name": "stdout",
          "text": [
            "70\n"
          ]
        }
      ]
    },
    {
      "cell_type": "code",
      "source": [
        "# tower of hanoi\n",
        "\n",
        "\"\"\"\n",
        "solve sthe tower of hanoi puzzle\n",
        "\n",
        "move n-1 disks to the auxillary tower, then move the nth disk and finally move n-1 disks from auxillary to target\n",
        "\n",
        "\"\"\"\n",
        "\n",
        "def tower_of_hanoi(n, source, auxiliary, target):\n",
        "    if n == 1:\n",
        "        print(f\"Move disk 1 from {source} to {target}\")\n",
        "        return\n",
        "    tower_of_hanoi(n - 1, source, target, auxiliary)\n",
        "    print(f\"Move disk {n} from {source} to {target}\")\n",
        "    tower_of_hanoi(n - 1, auxiliary, source, target)\n",
        "\n",
        "tower_of_hanoi(3, 'A', 'B', 'C')\n",
        "print(\"\\n\\nPuzzle solved !!\")\n"
      ],
      "metadata": {
        "colab": {
          "base_uri": "https://localhost:8080/"
        },
        "id": "N0rxME_PUQEo",
        "outputId": "0c6b4bda-2095-40e5-91e5-015549fb13ad"
      },
      "execution_count": 17,
      "outputs": [
        {
          "output_type": "stream",
          "name": "stdout",
          "text": [
            "Move disk 1 from A to C\n",
            "Move disk 2 from A to B\n",
            "Move disk 1 from C to B\n",
            "Move disk 3 from A to C\n",
            "Move disk 1 from B to A\n",
            "Move disk 2 from B to C\n",
            "Move disk 1 from A to C\n",
            "\n",
            "\n",
            "Puzzle solved !!\n"
          ]
        }
      ]
    },
    {
      "cell_type": "code",
      "source": [
        "# Exception Handling\n",
        "\n",
        "\"\"\"\n",
        "\n",
        "Exception handling in programming, much like real worl, is about foreseeing potential problems and planning for them to avoid disaster\n",
        "\n",
        "Exception handling will have 3 components:\n",
        "    1. TRY: the code that might generate an exception is placed inside a try block.\n",
        "    if any ststement within the try block raises an exception, the rest of the block's code is skipped and the control moves to except batch.\n",
        "\n",
        "    2. EXCEPT: this block is used to handle theexception. you can specify different types of exceptions to catch and handle them appropriately.\n",
        "\n",
        "    3. FINALLY: it contains the code that is always executed, regardless of an exception has occured or not. this isoften used for clean up activities\n",
        "    (like closing a file)\n",
        "\n",
        "    4. RAISING EXCEPTION: we can raise exceptions manually in your code using raise keyword. this is useful for signalling certain conditions in the program\n",
        "    that are not met.\n",
        "\n",
        "\n",
        "Here are few python in built exceptions, that needs to be handled using exception handling:\n",
        "    1. ZeroDivison Error: raised when the denominator is provided as zero\n",
        "    2. ValueError: raised when there is a wrong value in specified data type\n",
        "    3. TypeError: raised when two different types are combined\n",
        "    etc..,\n",
        "\n",
        "\n",
        "\"\"\"\n",
        "\n",
        "\n"
      ],
      "metadata": {
        "colab": {
          "base_uri": "https://localhost:8080/",
          "height": 140
        },
        "id": "2yMHuIR54Uxq",
        "outputId": "090ea0e9-edd8-47ba-c293-101c459d60f1"
      },
      "execution_count": 1,
      "outputs": [
        {
          "output_type": "execute_result",
          "data": {
            "text/plain": [
              "\"\\n\\nException handling in programming, much like real worl, is about foreseeing potential problems and planning for them to avoid disaster\\n\\nException handling will have 3 components:\\n    1. TRY: the code that might generate an exception is placed inside a try block. \\n    if any ststement within the try block raises an exception, the rest of the block's code is skipped and the control moves to except batch.\\n\\n    2. EXCEPT: this block is used to handle theexception. you can specify different types of exceptions to catch and handle them appropriately.\\n\\n    3. FINALLY: it contains the code that is always executed, regardless of an exception has occured or not. this isoften used for clean up activities \\n    (like closing a file)\\n\\n    4. RAISING EXCEPTION: we can raise exceptions manually in your code using raise keyword. this is useful for signalling certain conditions in the program\\n    that are not met.\\n\\n\\nHere are few python in built exceptions, that needs to be handled using exception handling:\\n    1. ZeroDivison Error: raised when the denominator is provided as zero\\n    2. ValueError: raised when there is a wrong value in specified data type\\n    3. TypeError: raised when two different types are combined\\n    etc..,\\n\\n    \\n\""
            ],
            "application/vnd.google.colaboratory.intrinsic+json": {
              "type": "string"
            }
          },
          "metadata": {},
          "execution_count": 1
        }
      ]
    },
    {
      "cell_type": "code",
      "source": [
        "#ex 1: file not found error\n",
        "\n",
        "try:\n",
        "    with open('nonexistent.txt','r') as file:\n",
        "        content = file.read()\n",
        "    print(content)\n",
        "\n",
        "except FileNotFoundError:\n",
        "    print(\"Error!: The file doesn't exist\")"
      ],
      "metadata": {
        "colab": {
          "base_uri": "https://localhost:8080/"
        },
        "id": "pA75ywlz-yQZ",
        "outputId": "41d6806a-0e4d-439c-9504-f3e9c8308b0f"
      },
      "execution_count": 2,
      "outputs": [
        {
          "output_type": "stream",
          "name": "stdout",
          "text": [
            "Error!: The file doesn't exist\n"
          ]
        }
      ]
    },
    {
      "cell_type": "code",
      "source": [
        "# ex2: file handling\n",
        "\n",
        "try:\n",
        "    file = open('testfile.txt','w')\n",
        "    file.write(\"Hello World\")\n",
        "except IOError:\n",
        "    print(\"Error in writing to the file\")"
      ],
      "metadata": {
        "colab": {
          "base_uri": "https://localhost:8080/"
        },
        "id": "fTz_Z1k7_UEd",
        "outputId": "821b01a9-34e2-4ba7-a071-914f86009690"
      },
      "execution_count": 6,
      "outputs": [
        {
          "output_type": "stream",
          "name": "stdout",
          "text": [
            "File closed sucessfully\n"
          ]
        }
      ]
    },
    {
      "cell_type": "code",
      "source": [
        "# ex 3: Multiple exceptions\n",
        "\n",
        "\"\"\"\n",
        "\n",
        "Note that when you have multiple except clauses, program will run only the firstone that triggers and ignores the rest.\n",
        "\n",
        "\"\"\"\n",
        "\n",
        "try:\n",
        "    num1 = int(input(\"Enter the Numerator value: \"))\n",
        "    num2 = int(input(\"Enter the denominator value: \"))\n",
        "    result = num1 / num2\n",
        "    print(\"Result is: \",result)\n",
        "    with open('nonexistent.txt',\"r\") as file:\n",
        "        content = file.read()\n",
        "    print(content)\n",
        "\n",
        "except ZeroDivisionError:\n",
        "    print(\"Error: make sure denominator value is not zero\")\n",
        "except FileNotFoundError:\n",
        "    print(\"File not found!!\")"
      ],
      "metadata": {
        "colab": {
          "base_uri": "https://localhost:8080/"
        },
        "id": "jC43UqnH_5QW",
        "outputId": "e9da0525-ee3a-46a5-9b67-66395b7a5ee9"
      },
      "execution_count": 11,
      "outputs": [
        {
          "output_type": "stream",
          "name": "stdout",
          "text": [
            "Enter the Numerator value: 4\n",
            "Enter the denominator value: 0\n",
            "Error: make sure denominator value is not zero\n"
          ]
        }
      ]
    },
    {
      "cell_type": "code",
      "source": [
        "# Key Error Handling\n",
        "\n",
        "my_dict = {\"name\":\"jacob\", \"age\":20}\n",
        "\n",
        "try:\n",
        "    print(my_dict[\"address\"])\n",
        "except KeyError:\n",
        "    print(\"Key not found in the dictionary\")\n",
        "\n",
        "finally:\n",
        "    print(\"Execution of try -except block is complete\")\n",
        "\n"
      ],
      "metadata": {
        "colab": {
          "base_uri": "https://localhost:8080/"
        },
        "id": "6wO0Q-LBBE9i",
        "outputId": "ee6bbbf3-becb-4e77-e56e-f09b675aff1d"
      },
      "execution_count": 15,
      "outputs": [
        {
          "output_type": "stream",
          "name": "stdout",
          "text": [
            "Key not found in the dictionary\n",
            "Execution of try -except block is complete\n"
          ]
        }
      ]
    },
    {
      "cell_type": "code",
      "source": [
        "# index out of range\n",
        "\n",
        "my_list = list(range(7))\n",
        "\n",
        "print(my_list)\n",
        "\n",
        "print(len(my_list))\n",
        "\n",
        "try:\n",
        "    print(my_list[151])\n",
        "except IndexError:\n",
        "    print(\"Index provided is out of range\")"
      ],
      "metadata": {
        "colab": {
          "base_uri": "https://localhost:8080/"
        },
        "id": "JaaocmSIB0Cg",
        "outputId": "4016983f-0ed7-4c37-96cb-0857be4cfca1"
      },
      "execution_count": 19,
      "outputs": [
        {
          "output_type": "stream",
          "name": "stdout",
          "text": [
            "[0, 1, 2, 3, 4, 5, 6]\n",
            "7\n",
            "Index provided is out of range\n"
          ]
        }
      ]
    },
    {
      "cell_type": "code",
      "source": [
        "# value error handling\n",
        "\n",
        "try:\n",
        "    num = int(input(\"Enter a number: \"))\n",
        "    print(\"you entered: \", num)\n",
        "\n",
        "except ValueError:\n",
        "    print(\"Pleae enter an integer value\")"
      ],
      "metadata": {
        "colab": {
          "base_uri": "https://localhost:8080/"
        },
        "id": "sTtSSFtECtZl",
        "outputId": "c71d2c21-2fec-442f-d21c-cf0088df5839"
      },
      "execution_count": 22,
      "outputs": [
        {
          "output_type": "stream",
          "name": "stdout",
          "text": [
            "Enter a number: jbtc\n",
            "Pleae enter an integer value\n"
          ]
        }
      ]
    },
    {
      "cell_type": "code",
      "source": [
        "# OBJECT ORIENTED PROGRAMMING (OOP)\n",
        "\n",
        "\"\"\"\n",
        "\n",
        "Concepts in OOP:\n",
        "    1. Class & Objects\n",
        "    2. Methods & Constructors\n",
        "    3. Encapsulation\n",
        "    4. Data Abastraction\n",
        "\n",
        "\"\"\"\n"
      ],
      "metadata": {
        "colab": {
          "base_uri": "https://localhost:8080/",
          "height": 35
        },
        "id": "rzPMR-jrDI18",
        "outputId": "36b58ca1-70bb-40f2-a8c6-1e84e389571e"
      },
      "execution_count": 1,
      "outputs": [
        {
          "output_type": "execute_result",
          "data": {
            "text/plain": [
              "'\\n\\nConcepts in OOP:\\n    1. Class & Objects\\n    2. Methods & Constructors\\n    3. Encapsulation\\n    4. Data Abastraction\\n\\n'"
            ],
            "application/vnd.google.colaboratory.intrinsic+json": {
              "type": "string"
            }
          },
          "metadata": {},
          "execution_count": 1
        }
      ]
    },
    {
      "cell_type": "code",
      "source": [
        "# Examples of constructor\n",
        "\n",
        "# Basic Constructor\n",
        "\n",
        "class Car:\n",
        "    def __init__(self,brand,model):\n",
        "        self.brand = brand\n",
        "        self.model = model\n",
        "\n",
        "\n",
        "# creating an object of the car class\n",
        "my_car = Car(\"Honda\",\"Amaze 3rd Gen\")\n",
        "print(f\"my car is {my_car.brand} {my_car.model}\")\n"
      ],
      "metadata": {
        "colab": {
          "base_uri": "https://localhost:8080/"
        },
        "id": "o3_Bpz_7_Utl",
        "outputId": "4ad2c190-c930-43dd-eedc-76536629ae94"
      },
      "execution_count": 4,
      "outputs": [
        {
          "output_type": "stream",
          "name": "stdout",
          "text": [
            "my car is Honda Amaze 3rd Gen\n"
          ]
        }
      ]
    },
    {
      "cell_type": "code",
      "source": [
        "# EX 2: Constructor with default values\n",
        "\n",
        "class Book:\n",
        "    def __init__(self, title, author = \"Unknown\"):\n",
        "        self.title = title\n",
        "        self.author = author\n",
        "\n",
        "# creating objects of book class\n",
        "\n",
        "book1 = Book(\"Theory of Relativity\",\"Albert Einstein\")\n",
        "book2 = Book(\"The Alchemist\")\n",
        "\n",
        "print(f\"Book1 name is {book1.title} authored by {book1.author}\")\n",
        "print(\"\\n\")\n",
        "print(f\"Book2 name is {book2.title} and authored by {book2.author}\")\n"
      ],
      "metadata": {
        "colab": {
          "base_uri": "https://localhost:8080/"
        },
        "id": "WjRRWHLiAhk6",
        "outputId": "9246e6fc-cc9b-4bcf-8614-f967000c5e8e"
      },
      "execution_count": 5,
      "outputs": [
        {
          "output_type": "stream",
          "name": "stdout",
          "text": [
            "Book1 name is Theory of Relativity authored by Albert Einstein\n",
            "\n",
            "\n",
            "Book2 name is The Alchemist and authored by Unknown\n"
          ]
        }
      ]
    },
    {
      "cell_type": "code",
      "source": [
        "# ex: constructor with more complex logic\n",
        "\n",
        "class Rectangle:\n",
        "    def __init__(self,length,width):\n",
        "        self.length = length\n",
        "        self.width = width\n",
        "    def area_of_rectangle(self):\n",
        "        return self.length * self.width\n",
        "\n",
        "# creating objects for above class.\n",
        "\n",
        "rect = Rectangle(10,8)\n",
        "\n",
        "print(f\"Length of recatngle is {rect.length} and breadth is {rect.width}\")\n",
        "\n",
        "print(f\"Area of rectanle is {rect.area_of_rectangle()}\")\n",
        ""
      ],
      "metadata": {
        "colab": {
          "base_uri": "https://localhost:8080/"
        },
        "id": "WKdE4ZAMB5gA",
        "outputId": "c7034c31-5f6c-49c5-a7d5-36a12222e447"
      },
      "execution_count": 12,
      "outputs": [
        {
          "output_type": "stream",
          "name": "stdout",
          "text": [
            "Length of recatngle is 10 and breadth is 8\n",
            "Area of rectanle is 80\n"
          ]
        }
      ]
    },
    {
      "cell_type": "code",
      "source": [
        "# ENCAPSULATION\n",
        "\n",
        "\"\"\"\n",
        "Its about keeping the data and the code that manipulates together in one unit, which is a class.\n",
        "\n",
        "it also allows us to control the access to data by making it private or public\n",
        "\n",
        "Concept: Imagine a class as a container  that holds its data tightly packed inside, not letting outsidde elements freely access it.\n",
        "\n",
        "Benifits: Safeguards data from being accessed or modified directly, enhancing security and integrity.\n",
        "\n",
        "\"\"\"\n",
        "\n"
      ],
      "metadata": {
        "colab": {
          "base_uri": "https://localhost:8080/",
          "height": 70
        },
        "id": "Z0B0Hbh2C0vz",
        "outputId": "2cdd51f9-cf1b-4cef-c653-ea592ea1e4f1"
      },
      "execution_count": 1,
      "outputs": [
        {
          "output_type": "execute_result",
          "data": {
            "text/plain": [
              "'\\nIts about keeping the data and the code that manipulates together in one unit, which is a class.\\n\\nit also allows us to control the access to data by making it private or public\\n\\nConcept: Imagine a class as a container  that holds its data tightly packed inside, not letting outsidde elements freely access it.\\n\\nBenifits: Safeguards data from being accessed or modified directly, enhancing security and integrity.\\n\\n'"
            ],
            "application/vnd.google.colaboratory.intrinsic+json": {
              "type": "string"
            }
          },
          "metadata": {},
          "execution_count": 1
        }
      ]
    },
    {
      "cell_type": "code",
      "source": [
        "# ex: basic class with private variable\n",
        "\n",
        "class Amount:\n",
        "    def __init__(self):\n",
        "        self.__balance = 0\n",
        "    def deposit(self,amount):\n",
        "        self.__balance += amount\n",
        "    def get_balance(self,isloggedin):\n",
        "        if isloggedin:\n",
        "            return self.__balance\n",
        "        else:\n",
        "            return \"User not logged in\"\n",
        "\n",
        ""
      ],
      "metadata": {
        "id": "aTmdKJ_pcozZ"
      },
      "execution_count": 2,
      "outputs": []
    },
    {
      "cell_type": "code",
      "source": [
        "# using property decorators for getter and setter\n",
        "\n",
        "class Person:\n",
        "    def __init__(self,name):\n",
        "        self.__name = name\n",
        "    @property\n",
        "    def name(self):\n",
        "        return self.__name\n",
        "    @name.setter\n",
        "    def name(self,value):\n",
        "        self.__name = value\n",
        ""
      ],
      "metadata": {
        "id": "poYjzIxodb2H"
      },
      "execution_count": 3,
      "outputs": []
    },
    {
      "cell_type": "code",
      "source": [
        "# ABSTRACTION.\n",
        "\n",
        "\"\"\"\n",
        "\n",
        "Abstraction involves hiding the complex reality while exposing only the necessasry parts. its about focusing on what an object does instead of how it does.\n",
        "\n",
        "Concept: Similar to how a car dashboard hides the complex engine parts, abstraction in oop hides the complex code and shows only whats necessary.\n",
        "\n",
        "Benifits: Simplifies the interface reduces the cognitive load\n",
        "\n",
        "\"\"\""
      ],
      "metadata": {
        "colab": {
          "base_uri": "https://localhost:8080/",
          "height": 70
        },
        "id": "o_3NzA0Qhcv0",
        "outputId": "65b5da26-4760-4c42-d6fe-caf81e5300ff"
      },
      "execution_count": 4,
      "outputs": [
        {
          "output_type": "execute_result",
          "data": {
            "text/plain": [
              "'\\n\\nAbstraction involves hiding the complex reality while exposing only the necessasry parts. its about focusing on what an object does instead of how it does.\\n\\nConcept: Similar to how a car dashboard hides the complex engine parts, abstraction in oop hides the complex code and shows only whats necessary.\\n\\nBenifits: Simplifies the interface reduces the cognitive load \\n\\n'"
            ],
            "application/vnd.google.colaboratory.intrinsic+json": {
              "type": "string"
            }
          },
          "metadata": {},
          "execution_count": 4
        }
      ]
    },
    {
      "cell_type": "code",
      "source": [
        "# ex 1: Abstract class\n",
        "\n",
        "from abc import ABC, abstractmethod\n",
        "\n",
        "class Shape(ABC):\n",
        "    @abstractmethod\n",
        "    def area(self):\n",
        "        pass\n",
        "\n",
        "class Rectangle:\n",
        "    def area(self, length, width):\n",
        "        return length * width\n",
        "\n",
        "# creating an object of concrete class\n",
        "\n",
        "my_rectangle = Rectangle()\n",
        "print(my_rectangle.area(10,5))\n"
      ],
      "metadata": {
        "colab": {
          "base_uri": "https://localhost:8080/"
        },
        "id": "n18SPWzYjnLx",
        "outputId": "0d0b25c0-eb09-408c-a293-a2be7a4adcff"
      },
      "execution_count": 6,
      "outputs": [
        {
          "output_type": "stream",
          "name": "stdout",
          "text": [
            "50\n"
          ]
        }
      ]
    },
    {
      "cell_type": "code",
      "source": [
        "# ex 2: Hiding Complexity\n",
        "\n",
        "class Smartphone:\n",
        "    def make_call(self):\n",
        "        return \"Calling..!\"\n",
        "\n",
        "    def complex_internal_logic(self):\n",
        "        pass\n",
        "\n",
        "# creating an object using its public method\n",
        "\n",
        "myphone = Smartphone()\n",
        "print(myphone.make_call())"
      ],
      "metadata": {
        "colab": {
          "base_uri": "https://localhost:8080/"
        },
        "id": "MjChMIcGkT6a",
        "outputId": "551bdf02-2a71-4c3c-c3e4-c3ea8a7e5a10"
      },
      "execution_count": 8,
      "outputs": [
        {
          "output_type": "stream",
          "name": "stdout",
          "text": [
            "Calling..!\n"
          ]
        }
      ]
    },
    {
      "cell_type": "code",
      "source": [
        "# ex 3: interface with abstract methods\n",
        "\n",
        "class StorageDevice:\n",
        "    @abstractmethod\n",
        "    def store_data(self, data):\n",
        "        pass\n",
        "class HardDrive(StorageDevice):\n",
        "    def store_data(self, data):\n",
        "        return \"Data stored in Hard Drive\"\n",
        "\n",
        "\n",
        "# creating an object of a concrete class\n",
        "\n",
        "my_hard_drive = HardDrive()\n",
        "print(my_hard_drive.store_data(\"My Data\"))\n"
      ],
      "metadata": {
        "colab": {
          "base_uri": "https://localhost:8080/"
        },
        "id": "Je3h-BzOk2vd",
        "outputId": "f68bd35b-8147-4ac0-98dc-f451fd4d22a4"
      },
      "execution_count": 9,
      "outputs": [
        {
          "output_type": "stream",
          "name": "stdout",
          "text": [
            "Data stored in Hard Drive\n"
          ]
        }
      ]
    },
    {
      "cell_type": "code",
      "source": [
        "# INHERITANCE\n",
        "\n",
        "\"\"\"\n",
        "\n",
        "Inheritance is a fundamental principle in object oriented programming.\n",
        "\n",
        "Enables using existing codes in new classes.\n",
        "\n",
        "creates a class hierarchy for organized structure.\n",
        "\n",
        "subclasses gains superclass featuresreduces redundancy and enhances extensibility\n",
        "\n",
        "Different types of inheritances are:\n",
        "    1. Single inheritance\n",
        "    2. Multiple inheritance\n",
        "    3. Multi Level Inheritance\n",
        "    4. Hierarchial Inheritance\n",
        "    5. Hybrid Inheritance\n",
        "\n",
        "\"\"\"\n"
      ],
      "metadata": {
        "colab": {
          "base_uri": "https://localhost:8080/",
          "height": 70
        },
        "id": "UJc2tRUul4a7",
        "outputId": "8980ff3c-a25d-4ea3-a5b3-cc3a19d8b1e1"
      },
      "execution_count": 11,
      "outputs": [
        {
          "output_type": "execute_result",
          "data": {
            "text/plain": [
              "'\\n\\nInheritance is a fundamental principle in object oriented programming.\\n\\nEnables using existing codes in new classes.\\n\\ncreates a class hierarchy for organized structure.\\n\\nsubclasses gains superclass featuresreduces redundancy and enhances extensibility\\n\\nDifferent types of inheritances are:\\n    1. Single inheritance\\n    2. Multiple inheritance\\n    3. Multi Level Inheritance\\n    4. Hierarchial Inheritance\\n    5. Hybrid Inheritance\\n\\n'"
            ],
            "application/vnd.google.colaboratory.intrinsic+json": {
              "type": "string"
            }
          },
          "metadata": {},
          "execution_count": 11
        }
      ]
    },
    {
      "cell_type": "code",
      "source": [
        "# SINGLE INHERITANCE\n",
        "\n",
        "\"\"\"\n",
        "\n",
        "In single inheritance, a subclass inherits from only one super class.\n",
        "\n",
        "This is the simplest form of inheritance, where there is direct parent - child relationship.\n",
        "\n",
        "Just like child inherits traits from their parents. in simple inheritance a sub class inherits attributes and methods from a single super class\n",
        "\n",
        "\n",
        "\"\"\"\n",
        "\n",
        "# Example syntax\n",
        "\n",
        "class Parent:\n",
        "    def speak(self):\n",
        "        print(\"Parent Speaks\")\n",
        "\n",
        "class Child(Parent):\n",
        "    pass\n",
        "\n",
        "# creating objects\n",
        "\n",
        "child = Child()\n",
        "child.speak()"
      ],
      "metadata": {
        "colab": {
          "base_uri": "https://localhost:8080/"
        },
        "id": "jcHk1dpYnBYP",
        "outputId": "32631647-fb24-4111-da1c-b9da3e944d46"
      },
      "execution_count": 1,
      "outputs": [
        {
          "output_type": "stream",
          "name": "stdout",
          "text": [
            "Parent Speaks\n"
          ]
        }
      ]
    },
    {
      "cell_type": "code",
      "source": [
        "# ex 1:\n",
        "\n",
        "class Animal:\n",
        "    def __init__(self, name):\n",
        "        self.name = name\n",
        "\n",
        "    def spaek(self):\n",
        "        pass\n",
        "\n",
        "class Dog(Animal):\n",
        "    def speak(self):\n",
        "        return \"Woof..!\"\n",
        "\n",
        "# creating objects\n",
        "\n",
        "dog = Dog(\"Von\")\n",
        "print(f\" dog name is {dog.name} and it shouts dog.speak()\")"
      ],
      "metadata": {
        "colab": {
          "base_uri": "https://localhost:8080/"
        },
        "id": "s4r19yFXSM1U",
        "outputId": "61dd3b5e-bf64-4622-f1ee-9ae0d623aec5"
      },
      "execution_count": 5,
      "outputs": [
        {
          "output_type": "stream",
          "name": "stdout",
          "text": [
            " dog name is Von and it shouts dog.speak()\n"
          ]
        }
      ]
    },
    {
      "cell_type": "code",
      "source": [
        "from os import terminal_size\n",
        "# ex 2:\n",
        "\n",
        "class Employee:\n",
        "    def __init__(self, name, department):\n",
        "        self.name  = name\n",
        "        self.department = department\n",
        "\n",
        "    def show_details(self):\n",
        "        return f\"Employee name is {self.name} and department is {self.department}\"\n",
        "\n",
        "class Manager(Employee):\n",
        "    def __init__(self, name, department, team_size, years_of_experience):\n",
        "        # self.name = name\n",
        "        # self.department = department\n",
        "        super().__init__(name, department)\n",
        "        self.team_size = team_size\n",
        "        self.years_of_experience = years_of_experience\n",
        "\n",
        "    def show_details(self):\n",
        "        details = super().show_details()\n",
        "        return f\"{details}, manages {self.team_size} people, with an exceptional {self.years_of_experience} of Experience managing a team\"\n",
        "\n",
        "\n",
        "# creating objects\n",
        "\n",
        "manager  = Manager(\"Almas Abbas\",\"HR\", \"15\", \"6\")\n",
        "\n",
        "print(manager.show_details())\n",
        "\n",
        "\n",
        "\n",
        "\n",
        "\n",
        "\n",
        "\n",
        "\n"
      ],
      "metadata": {
        "colab": {
          "base_uri": "https://localhost:8080/"
        },
        "id": "yyex4f1-Szue",
        "outputId": "029d4fd4-797a-486d-87fe-6b5a4c108b01"
      },
      "execution_count": 9,
      "outputs": [
        {
          "output_type": "stream",
          "name": "stdout",
          "text": [
            "Employee name is Almas Abbas and department is HR, manages 15 people, with an exceptional 6 of Experience managing a team\n"
          ]
        }
      ]
    },
    {
      "cell_type": "code",
      "source": [
        "# ex 3\n",
        "\n",
        "class Shape:\n",
        "    def area(self):\n",
        "        pass\n",
        "    def perimeter(self):\n",
        "        pass\n",
        "\n",
        "class Circle(Shape):\n",
        "    def __init__(self, radius, pi):\n",
        "        self.radius = radius\n",
        "        self.pi = 3.14\n",
        "\n",
        "    def area(self):\n",
        "        return self.pi * self.radius ** 2\n",
        "\n",
        "    def perimeter(self):\n",
        "        return 2 * self.pi * self.radius\n",
        "\n",
        "circle = Circle(10,pi = 3.14)\n",
        "\n",
        "print(f\"Circle radius is {circle.radius} and area is {circle.area()} meter square  with a perimeter of {round(circle.perimeter(),2)} meter\")"
      ],
      "metadata": {
        "colab": {
          "base_uri": "https://localhost:8080/"
        },
        "id": "s3cMCRcYVj6H",
        "outputId": "a21fc5c0-9349-4ee1-d78e-f992e0979be1"
      },
      "execution_count": 18,
      "outputs": [
        {
          "output_type": "stream",
          "name": "stdout",
          "text": [
            "Circle radius is 10 and area is 314.0 meter square  with a perimeter of 62.8 meter\n"
          ]
        }
      ]
    },
    {
      "cell_type": "code",
      "source": [
        "# MULTIPLE INHERITANCE\n",
        "\n",
        "# ex 1:\n",
        "\n",
        "class Grandparent:\n",
        "    def heritage(self):\n",
        "        return \"Family Heritage\"\n",
        "\n",
        "class Parent(Grandparent):  # Inherits from Grandparent\n",
        "    pass\n",
        "\n",
        "class Child(Parent):  # Inherits from Parent\n",
        "    pass\n",
        "\n",
        "child = Child()\n",
        "print(child.heritage())  # Output: Family Heritage\n",
        "\n",
        "\n",
        "\n",
        "# ex 2:\n",
        "\n",
        "class MusicalInstrument:\n",
        "    def play(self):\n",
        "        return \"Playing instrument\"\n",
        "\n",
        "class StringInstrument(MusicalInstrument):\n",
        "    def has_strings(self):\n",
        "        return True\n",
        "\n",
        "class Guitar(StringInstrument):\n",
        "    def type(self):\n",
        "        return \"Guitar\"\n",
        "\n",
        "guitar = Guitar()\n",
        "print(guitar.play())\n",
        "print(guitar.has_strings())\n",
        "print(guitar.type())\n",
        "\n",
        "\n",
        "# ex 3:\n",
        "\n",
        "class OperatingSystem:\n",
        "    def multitasking(self):\n",
        "        return \"Supports multitasking\"\n",
        "\n",
        "class Windows(OperatingSystem):\n",
        "    def gui(self):\n",
        "        return \"Has GUI\"\n",
        "\n",
        "class Windows10(Windows):\n",
        "    def latest_features(self):\n",
        "        return \"Latest Windows features\"\n",
        "\n",
        "windows10 = Windows10()\n",
        "print(windows10.multitasking())\n",
        "print(windows10.gui())\n",
        "print(windows10.latest_features())"
      ],
      "metadata": {
        "colab": {
          "base_uri": "https://localhost:8080/"
        },
        "id": "vLX-DL8HXOWY",
        "outputId": "da1ec64e-8a7e-48d3-a37d-9bde8f5e4c68"
      },
      "execution_count": 2,
      "outputs": [
        {
          "output_type": "stream",
          "name": "stdout",
          "text": [
            "Family Heritage\n",
            "Playing instrument\n",
            "True\n",
            "Guitar\n",
            "Supports multitasking\n",
            "Has GUI\n",
            "Latest Windows features\n"
          ]
        }
      ]
    },
    {
      "cell_type": "code",
      "source": [
        "# HIERARCHIAL INHERITANCE\n",
        "\n",
        "# ex 1:\n",
        "\n",
        "class Company:\n",
        "    def company_policy(self):\n",
        "        print(\"Company policy\")\n",
        "\n",
        "class HR(Company):\n",
        "    pass\n",
        "\n",
        "class Finance(Company):\n",
        "    pass\n",
        "\n",
        "hr_department = HR()\n",
        "finance_department = Finance()\n",
        "hr_department.company_policy()  # Output: Company policy\n",
        "finance_department.company_policy()  # Output: Company policy\n",
        "\n",
        "\n",
        "# ex 2:\n",
        "\n",
        "class Employee:\n",
        "    def __init__(self, name, employee_id):\n",
        "        self.name = name\n",
        "        self.employee_id = employee_id\n",
        "\n",
        "    def introduce(self):\n",
        "        return f\"I am {self.name}, Employee ID: {self.employee_id}\"\n",
        "\n",
        "class Manager(Employee):\n",
        "    def manage_team(self):\n",
        "        return f\"{self.name} is managing a team\"\n",
        "\n",
        "class Programmer(Employee):\n",
        "    def write_code(self):\n",
        "        return f\"{self.name} is writing code\"\n",
        "\n",
        "manager = Manager(\"Alice\", \"M001\")\n",
        "programmer = Programmer(\"Bob\", \"P002\")\n",
        "\n",
        "print(manager.introduce())      # Output: I am Alice, Employee ID: M001\n",
        "print(manager.manage_team())    # Output: Alice is managing a team\n",
        "\n",
        "print(programmer.introduce())   # Output: I am Bob, Employee ID: P002\n",
        "print(programmer.write_code())\n",
        "\n",
        "\n",
        "# ex 3:\n",
        "\n",
        "class Appliance:\n",
        "    def __init__(self, name, brand):\n",
        "        self.name = name\n",
        "        self.brand = brand\n",
        "\n",
        "    def turn_on(self):\n",
        "        return f\"{self.brand} {self.name} is turned on\"\n",
        "\n",
        "class Refrigerator(Appliance):\n",
        "    def cool(self):\n",
        "        return f\"{self.name} is cooling\"\n",
        "\n",
        "class Television(Appliance):\n",
        "    def watch_tv(self):\n",
        "        return f\"{self.name} is showing your favorite show\"\n",
        "\n",
        "fridge = Refrigerator(\"Fridge\", \"CoolTech\")\n",
        "tv = Television(\"TV\", \"ScreenMaster\")\n",
        "\n",
        "print(fridge.turn_on())      # Output: CoolTech Fridge is turned on\n",
        "print(fridge.cool())         # Output: Fridge is cooling\n",
        "\n",
        "print(tv.turn_on())          # Output: ScreenMaster TV is turned on\n",
        "print(tv.watch_tv())         # Output: TV is showing your favorite show\n",
        "\n",
        "\n",
        "# ex 4:\n",
        "\n",
        "class Vehicle:\n",
        "    def __init__(self, name):\n",
        "        self.name = name\n",
        "\n",
        "    def start(self):\n",
        "        return f\"{self.name} is starting\"\n",
        "\n",
        "class Car(Vehicle):\n",
        "    def drive(self):\n",
        "        return f\"{self.name} is driving on the road\"\n",
        "\n",
        "class Boat(Vehicle):\n",
        "    def sail(self):\n",
        "        return f\"{self.name} is sailing on the water\"\n",
        "\n",
        "car = Car(\"Sedan\")\n",
        "boat = Boat(\"Speedboat\")\n",
        "\n",
        "print(car.start())        # Output: Sedan is starting\n",
        "print(car.drive())        # Output: Sedan is driving on the road\n",
        "\n",
        "print(boat.start())       # Output: Speedboat is starting\n",
        "print(boat.sail())"
      ],
      "metadata": {
        "colab": {
          "base_uri": "https://localhost:8080/"
        },
        "id": "LD79ne4t2C4o",
        "outputId": "ad27cd23-c0fe-42da-f2e0-219837cbf8d5"
      },
      "execution_count": 3,
      "outputs": [
        {
          "output_type": "stream",
          "name": "stdout",
          "text": [
            "Company policy\n",
            "Company policy\n",
            "I am Alice, Employee ID: M001\n",
            "Alice is managing a team\n",
            "I am Bob, Employee ID: P002\n",
            "Bob is writing code\n",
            "CoolTech Fridge is turned on\n",
            "Fridge is cooling\n",
            "ScreenMaster TV is turned on\n",
            "TV is showing your favorite show\n",
            "Sedan is starting\n",
            "Sedan is driving on the road\n",
            "Speedboat is starting\n",
            "Speedboat is sailing on the water\n"
          ]
        }
      ]
    },
    {
      "cell_type": "code",
      "source": [
        "# HYBRID INHERITANCE\n",
        "\n",
        "# ex 1:\n",
        "\n",
        "class Grandparent:\n",
        "    def method_GP(self):\n",
        "        return \"Method from Grandparent\"\n",
        "\n",
        "class Parent(Grandparent):\n",
        "    def method_P(self):\n",
        "        return \"Method from Parent\"\n",
        "\n",
        "class Child(Parent):\n",
        "    def method_C(self):\n",
        "        return \"Method from Child\"\n",
        "\n",
        "class OtherParent:\n",
        "    def method_OP(self):\n",
        "        return \"Method from OtherParent\"\n",
        "\n",
        "class Grandchild(Child, OtherParent):\n",
        "    def method_GC(self):\n",
        "        return \"Method from Grandchild\"\n",
        "\n",
        "gc = Grandchild()\n",
        "print(gc.method_GP())  # Output: Method from Grandparent\n",
        "print(gc.method_P())   # Output: Method from Parent\n",
        "print(gc.method_OP())  # Output: Method from OtherParent\n",
        "print(gc.method_C())   # Output: Method from Child\n",
        "print(gc.method_GC())\n",
        "\n",
        "# ex 2:\n",
        "\n",
        "class Animal:\n",
        "    def method_animal(self):\n",
        "        return \"Method from Animal\"\n",
        "\n",
        "class Mammal(Animal):\n",
        "    def method_mammal(self):\n",
        "        return \"Method from Mammal\"\n",
        "\n",
        "class Bird(Animal):\n",
        "    def method_bird(self):\n",
        "        return \"Method from Bird\"\n",
        "\n",
        "class Bat(Mammal, Bird):\n",
        "    def method_bat(self):\n",
        "        return \"Method from Bat\"\n",
        "\n",
        "bat = Bat()\n",
        "print(bat.method_animal())  # Output: Method from Animal\n",
        "print(bat.method_mammal())  # Output: Method from Mammal\n",
        "print(bat.method_bird())    # Output: Method from Bird\n",
        "print(bat.method_bat())     # Output: Method from Bat\n",
        "\n"
      ],
      "metadata": {
        "colab": {
          "base_uri": "https://localhost:8080/"
        },
        "id": "ch0tyBnf2C1k",
        "outputId": "0e1c094e-f534-4394-a1b9-0070799d7931"
      },
      "execution_count": 4,
      "outputs": [
        {
          "output_type": "stream",
          "name": "stdout",
          "text": [
            "Method from Grandparent\n",
            "Method from Parent\n",
            "Method from OtherParent\n",
            "Method from Child\n",
            "Method from Grandchild\n",
            "Method from Animal\n",
            "Method from Mammal\n",
            "Method from Bird\n",
            "Method from Bat\n"
          ]
        }
      ]
    },
    {
      "cell_type": "code",
      "source": [
        "# SUPER FUNCTION\n",
        "\n",
        "#ex:\n",
        "\n",
        "class Person:\n",
        "    def __init__(self, name):\n",
        "        self.name = name\n",
        "        print(f\"Person {self.name} created\")\n",
        "\n",
        "class Employee(Person):\n",
        "    def __init__(self, name, employee_id):\n",
        "        super().__init__(name)  # Call the __init__ of Person\n",
        "        self.employee_id = employee_id\n",
        "        print(f\"Employee {self.name}, ID: {self.employee_id} created\")\n",
        "\n",
        "# Create an Employee instance\n",
        "emp = Employee(\"John\", 1234)"
      ],
      "metadata": {
        "colab": {
          "base_uri": "https://localhost:8080/"
        },
        "id": "g8hJDM452CyS",
        "outputId": "6e118a61-3aef-4240-c8a3-ab4278d93309"
      },
      "execution_count": 5,
      "outputs": [
        {
          "output_type": "stream",
          "name": "stdout",
          "text": [
            "Person John created\n",
            "Employee John, ID: 1234 created\n"
          ]
        }
      ]
    },
    {
      "cell_type": "code",
      "source": [
        "class Vehicle:\n",
        "    def start(self):\n",
        "        print(\"Vehicle engine started\")\n",
        "\n",
        "class Car(Vehicle):\n",
        "    def start(self):\n",
        "        super().start()  # Call start method of Vehicle\n",
        "        print(\"Car engine started\")\n",
        "\n",
        "# Create a Car instance\n",
        "car = Car()\n",
        "car.start()  # Outputs: Vehicle engine started, then Car engine started"
      ],
      "metadata": {
        "colab": {
          "base_uri": "https://localhost:8080/"
        },
        "id": "rkEkpzWD2CvR",
        "outputId": "a6749f09-7298-4cbf-fbfc-264b5983a1f4"
      },
      "execution_count": 6,
      "outputs": [
        {
          "output_type": "stream",
          "name": "stdout",
          "text": [
            "Vehicle engine started\n",
            "Car engine started\n"
          ]
        }
      ]
    },
    {
      "cell_type": "code",
      "source": [
        "class Father:\n",
        "    def hobby(self):\n",
        "        print(\"Gardening is my hobby\")\n",
        "\n",
        "class Mother:\n",
        "    def hobby(self):\n",
        "        print(\"Painting is my hobby\")\n",
        "\n",
        "class Child(Father, Mother):\n",
        "    def hobby(self):\n",
        "        super().hobby()  # Calls the Father's hobby method\n",
        "\n",
        "# Create a Child instance\n",
        "child = Child()\n",
        "child.hobby()  # Outputs: Gardening is my hobby\n"
      ],
      "metadata": {
        "colab": {
          "base_uri": "https://localhost:8080/"
        },
        "id": "qC1GrkPt2Crs",
        "outputId": "e1d602bb-cb5b-47bd-ddd3-ebd511e21ea3"
      },
      "execution_count": 7,
      "outputs": [
        {
          "output_type": "stream",
          "name": "stdout",
          "text": [
            "Gardening is my hobby\n"
          ]
        }
      ]
    },
    {
      "cell_type": "code",
      "source": [
        "# POLYMORPHISM\n",
        "\n",
        "\"\"\"\n",
        "\n",
        "Polymorphism in OOP enables different classes to share a common interface.\n",
        "\n",
        "treats objects of various classes as instances of single class.\n",
        "\n",
        "types of polymorphism:\n",
        "    1. Compile time: example is method over loading\n",
        "    2. Run time: example is method over riding\n",
        "\n",
        "Different classes implement the  same method in unique ways.\n",
        "\n",
        "\"\"\"\n",
        "\n",
        "# Examples of real world\n",
        "\n",
        "\"\"\"\n",
        "\n",
        "Imagine a program dealing with different shapes such as circle, square and triangles\n",
        "\n",
        "Shape (Base Class): this class defines a method draw(). however, the way you draw each shape is different.\n",
        "\n",
        "Circle, Square, Triangle (Sub classes): each of the classes extends shape and overrides the draw() method to implement their specific drawing logic.\n",
        "\n",
        "\"\"\"\n"
      ],
      "metadata": {
        "colab": {
          "base_uri": "https://localhost:8080/",
          "height": 70
        },
        "id": "zd7KYqGh2Cbp",
        "outputId": "4dd6252b-f1e5-4e24-aa94-1130430c88b5"
      },
      "execution_count": 1,
      "outputs": [
        {
          "output_type": "execute_result",
          "data": {
            "text/plain": [
              "'\\n\\nImagine a program dealing with different shapes such as circle, square and triangles\\n\\nShape (Base Class): this class defines a method draw(). however, the way you draw each shape is different.\\n\\nCircle, Square, Triangle (Sub classes): each of the classes extends shape and overrides the draw() method to implement their specific drawing logic.\\n\\n'"
            ],
            "application/vnd.google.colaboratory.intrinsic+json": {
              "type": "string"
            }
          },
          "metadata": {},
          "execution_count": 1
        }
      ]
    },
    {
      "cell_type": "code",
      "source": [
        "# example code for above logic\n",
        "\n",
        "class Shape:\n",
        "    def draw(self):\n",
        "        pass\n",
        "\n",
        "class Circle(Shape):\n",
        "    def draaw(self):\n",
        "        print(\"Drawing a circle\")\n",
        "\n",
        "class Square(Shape):\n",
        "    def draw(self):\n",
        "        print(\"Drawing a Square\")\n",
        "\n",
        "class Triangle(Shape):\n",
        "    def draw(self):\n",
        "        print(\"Drawing a triangle\")\n",
        "\n",
        "\n",
        "# polymorphism in action\n",
        "# creating objects for all sub classes --> looping them instead of calling one by one\n",
        "\n",
        "shapes = [Circle(), Square(), Triangle()]\n",
        "\n",
        "for shape in shapes:\n",
        "    shape.draw()"
      ],
      "metadata": {
        "colab": {
          "base_uri": "https://localhost:8080/"
        },
        "id": "hcO4VZ2W3zXR",
        "outputId": "86bca5d0-dead-446b-a95d-d604a2048555"
      },
      "execution_count": 2,
      "outputs": [
        {
          "output_type": "stream",
          "name": "stdout",
          "text": [
            "Drawing a Square\n",
            "Drawing a triangle\n"
          ]
        }
      ]
    },
    {
      "cell_type": "code",
      "source": [
        "# ex 1: Using inheritance\n",
        "\n",
        "\"\"\"\n",
        "\n",
        "polymorphism is often used with inheritance, where subclasses can have methods with same name as the methods in super class\n",
        "\n",
        "This allows for over riding and extending the functionality of the base class methods.\n",
        "\n",
        "\n",
        "\"\"\"\n",
        "\n",
        "class Animal:\n",
        "    def speak(self):\n",
        "        return \"I'm an Animal\"\n",
        "\n",
        "class Dog(Animal):\n",
        "    def speak(self):\n",
        "        return \"woof..!\"\n",
        "\n",
        "class Cat(Animal):\n",
        "    def speak(self):\n",
        "        return \"Meow..Meow\"\n",
        "\n",
        "# creating objects for sub classes\n",
        "\n",
        "cat = Cat()\n",
        "dog = Dog()\n",
        "\n",
        "# polymorphic behaviour\n",
        "\n",
        "print(cat.speak())\n",
        "\n",
        "print(dog.speak())\n",
        "\n"
      ],
      "metadata": {
        "colab": {
          "base_uri": "https://localhost:8080/"
        },
        "id": "XmDTbS434v2z",
        "outputId": "bac313d0-c216-4dc8-8596-1a2d1a24eec0"
      },
      "execution_count": 3,
      "outputs": [
        {
          "output_type": "stream",
          "name": "stdout",
          "text": [
            "Meow..Meow\n",
            "woof..!\n"
          ]
        }
      ]
    },
    {
      "cell_type": "code",
      "source": [
        "# ex 2: using duck typing\n",
        "\n",
        "\"\"\"\n",
        "\n",
        "python is also known for its duck typing approach, which is a type of polymorphism where the type or class of an object or class of an object is less important than the methodss it define\n",
        "\n",
        "when use duck typing, you don't check the type of the object  but rather check if it has  the method or behaviour you need\n",
        "\n",
        "\"\"\"\n",
        "\n",
        "\n",
        "# ex:\n",
        "\n",
        "class Duck:\n",
        "    def quack(self):\n",
        "        return \"Quack\"\n",
        "\n",
        "class Person:\n",
        "    def quack(self):\n",
        "        return \"I'm pretending to be a duck\"\n",
        "\n",
        "def make_it_quack(duckline):\n",
        "    print(duckline.quack())\n",
        "\n",
        "\n",
        "# creating objects\n",
        "\n",
        "duck = Duck()\n",
        "\n",
        "person = Person()\n",
        "\n",
        "#polymorphic behaviour\n",
        "\n",
        "print(make_it_quack(duck))\n",
        "\n",
        "print(make_it_quack(person))"
      ],
      "metadata": {
        "colab": {
          "base_uri": "https://localhost:8080/"
        },
        "id": "eqzL480K52kj",
        "outputId": "60e0f14d-33e5-4e1a-9d87-8413a3405e38"
      },
      "execution_count": 4,
      "outputs": [
        {
          "output_type": "stream",
          "name": "stdout",
          "text": [
            "Quack\n",
            "None\n",
            "I'm pretending to be a duck\n",
            "None\n"
          ]
        }
      ]
    },
    {
      "cell_type": "code",
      "source": [
        "# Using operator overloading\n",
        "\n",
        "\"\"\"\n",
        "\n",
        "operator overloading is another form of polymorphism in python where operators can behave differently based on their operands.\n",
        "\n",
        "for example: the + operator performs addition when used with numbers and concatenation with strings.\n",
        "\n",
        "\n",
        "\"\"\"\n",
        "\n",
        "# example code:\n",
        "\n",
        "class Point:\n",
        "    def __init__(self, x, y):\n",
        "        self.x = x\n",
        "        self.y = y\n",
        "\n",
        "    def __add__(self, other):\n",
        "        return Point(self.x + other.x, self.y + other.y)\n",
        "\n",
        "    def __str__(self):\n",
        "        return f\"Point({self.x}, {self.y})\"\n",
        "\n",
        "point1 = Point(1, 2)\n",
        "point2 = Point(3, 4)\n",
        "\n",
        "# Polymorphic behavior with + operator\n",
        "result = point1 + point2\n",
        "print(result)  # Outputs: Point(4, 6)\n"
      ],
      "metadata": {
        "colab": {
          "base_uri": "https://localhost:8080/"
        },
        "id": "bP_fFjCk7Q6L",
        "outputId": "89a2de4d-aaec-4f0f-ad50-a17e9c7a3afb"
      },
      "execution_count": 7,
      "outputs": [
        {
          "output_type": "stream",
          "name": "stdout",
          "text": [
            "Point(4, 6)\n"
          ]
        }
      ]
    },
    {
      "cell_type": "code",
      "source": [
        "# Key points in polymorphism\n",
        "\n",
        "\"\"\"\n",
        "\n",
        "Common interface: different classes implement the same method in different ways.\n",
        "\n",
        "Runtime Behaviour: the exact method that gets called is determined at runtime.\n",
        "\n",
        "Flexibility and Scalabillity: code is more flexible  and can be extended to new classes without modyfing existing code.\n",
        "\n",
        "Enhances code reusability: common interfaces allows for writing  more generic and reuasble code.\n",
        "\n",
        "\n",
        "\"\"\""
      ],
      "metadata": {
        "colab": {
          "base_uri": "https://localhost:8080/",
          "height": 70
        },
        "id": "bhJRdWQ980md",
        "outputId": "e0f225d7-ee39-4037-b892-4041123444df"
      },
      "execution_count": 8,
      "outputs": [
        {
          "output_type": "execute_result",
          "data": {
            "text/plain": [
              "'\\n\\nCommon interface: different classes implement the same method in different ways.\\n\\nRuntime Behaviour: the exact method that gets called is determined at runtime.\\n\\nFlexibility and Scalabillity: code is more flexible  and can be extended to new classes without modyfing existing code.\\n\\nEnhances code reusability: common interfaces allows for writing  more generic and reuasble code.\\n\\n\\n'"
            ],
            "application/vnd.google.colaboratory.intrinsic+json": {
              "type": "string"
            }
          },
          "metadata": {},
          "execution_count": 8
        }
      ]
    },
    {
      "cell_type": "code",
      "source": [],
      "metadata": {
        "id": "AaL-O-ET-B43"
      },
      "execution_count": null,
      "outputs": []
    }
  ]
}