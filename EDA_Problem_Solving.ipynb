{
  "nbformat": 4,
  "nbformat_minor": 0,
  "metadata": {
    "colab": {
      "provenance": []
    },
    "kernelspec": {
      "name": "python3",
      "display_name": "Python 3"
    },
    "language_info": {
      "name": "python"
    }
  },
  "cells": [
    {
      "cell_type": "code",
      "execution_count": 1,
      "metadata": {
        "id": "qVeVKlLZcMMR"
      },
      "outputs": [],
      "source": [
        "import numpy as np\n",
        "import pandas as pd\n",
        "import matplotlib.pyplot as plt\n",
        "import seaborn as sns"
      ]
    },
    {
      "cell_type": "markdown",
      "source": [
        "Q1: HANDLING MISSING VALUES IN LOAN APPLICATION DATA"
      ],
      "metadata": {
        "id": "4Hqvvt4ZccjO"
      }
    },
    {
      "cell_type": "markdown",
      "source": [
        "In this scenario, you are tasked with cleaning loan application data by handling missing values. The dataset contains:\n",
        "\n",
        "LoanID: Unique identifier for each loan.\n",
        "\n",
        "ApplicantIncome: Applicant's income.\n",
        "\n",
        "LoanAmount: The loan amount requested.\n",
        "\n",
        "CreditHistory: Categorical value indicating good (1) or bad (0) credit history.\n",
        "\n",
        "Techniques used:\n",
        "\n",
        "Mean Imputation: Replace missing values with the mean for continuous variables without outliers.\n",
        "\n",
        "Median Imputation: Use median when outliers are present.\n",
        "\n",
        "Mode Imputation: Replace missing categorical values with the most frequent value.\n",
        "\n",
        "Forward and Backward Fill: Propagate previous/next valid observation.\n",
        "\n",
        "Interpolation: Estimate missing values by creating a linear trend.\n",
        "\n"
      ],
      "metadata": {
        "id": "AncyNEvvcos5"
      }
    },
    {
      "cell_type": "code",
      "source": [
        "# Load dataset\n",
        "loan_data = pd.read_csv('loan_data.csv')\n",
        "\n",
        "# Check for missing values\n",
        "print(\"Missing values before imputation:\")\n",
        "print(loan_data.isnull().sum())"
      ],
      "metadata": {
        "colab": {
          "base_uri": "https://localhost:8080/"
        },
        "id": "xAchzgIHcbzi",
        "outputId": "4caff3cd-23c8-45c8-f330-a89082f1963b"
      },
      "execution_count": 2,
      "outputs": [
        {
          "output_type": "stream",
          "name": "stdout",
          "text": [
            "Missing values before imputation:\n",
            "LoanID              0\n",
            "ApplicantIncome    10\n",
            "LoanAmount          6\n",
            "CreditHistory      20\n",
            "dtype: int64\n"
          ]
        }
      ]
    },
    {
      "cell_type": "code",
      "source": [
        "# Imputation techniques\n",
        "loan_data['ApplicantIncome'].fillna(loan_data['ApplicantIncome'].mean(), inplace=True)\n",
        "loan_data['LoanAmount'].fillna(loan_data['LoanAmount'].mean(), inplace=True)\n",
        "loan_data['CreditHistory'].fillna(loan_data['CreditHistory'].mode()[0], inplace=True)\n"
      ],
      "metadata": {
        "colab": {
          "base_uri": "https://localhost:8080/"
        },
        "id": "7qerV2_Zc6sB",
        "outputId": "28cfd00a-acfb-49ae-b2d3-b93668b7f9d3"
      },
      "execution_count": 3,
      "outputs": [
        {
          "output_type": "stream",
          "name": "stderr",
          "text": [
            "<ipython-input-3-daa7d3f0710a>:2: FutureWarning: A value is trying to be set on a copy of a DataFrame or Series through chained assignment using an inplace method.\n",
            "The behavior will change in pandas 3.0. This inplace method will never work because the intermediate object on which we are setting values always behaves as a copy.\n",
            "\n",
            "For example, when doing 'df[col].method(value, inplace=True)', try using 'df.method({col: value}, inplace=True)' or df[col] = df[col].method(value) instead, to perform the operation inplace on the original object.\n",
            "\n",
            "\n",
            "  loan_data['ApplicantIncome'].fillna(loan_data['ApplicantIncome'].mean(), inplace=True)\n",
            "<ipython-input-3-daa7d3f0710a>:3: FutureWarning: A value is trying to be set on a copy of a DataFrame or Series through chained assignment using an inplace method.\n",
            "The behavior will change in pandas 3.0. This inplace method will never work because the intermediate object on which we are setting values always behaves as a copy.\n",
            "\n",
            "For example, when doing 'df[col].method(value, inplace=True)', try using 'df.method({col: value}, inplace=True)' or df[col] = df[col].method(value) instead, to perform the operation inplace on the original object.\n",
            "\n",
            "\n",
            "  loan_data['LoanAmount'].fillna(loan_data['LoanAmount'].mean(), inplace=True)\n",
            "<ipython-input-3-daa7d3f0710a>:4: FutureWarning: A value is trying to be set on a copy of a DataFrame or Series through chained assignment using an inplace method.\n",
            "The behavior will change in pandas 3.0. This inplace method will never work because the intermediate object on which we are setting values always behaves as a copy.\n",
            "\n",
            "For example, when doing 'df[col].method(value, inplace=True)', try using 'df.method({col: value}, inplace=True)' or df[col] = df[col].method(value) instead, to perform the operation inplace on the original object.\n",
            "\n",
            "\n",
            "  loan_data['CreditHistory'].fillna(loan_data['CreditHistory'].mode()[0], inplace=True)\n"
          ]
        }
      ]
    },
    {
      "cell_type": "code",
      "source": [
        "# Visualization\n",
        "fig, axes = plt.subplots(1, 3, figsize=(15, 5))\n",
        "\n",
        "loan_data['ApplicantIncome'].hist(ax=axes[0], color='skyblue')\n",
        "axes[0].set_title('Applicant Income Distribution')\n",
        "\n",
        "loan_data['LoanAmount'].hist(ax=axes[1], color='lightgreen')\n",
        "axes[1].set_title('Loan Amount Distribution')\n",
        "\n",
        "loan_data['CreditHistory'].value_counts().plot(kind='bar', ax=axes[2], color='coral')\n",
        "axes[2].set_title('Credit History')\n",
        "\n",
        "plt.tight_layout()\n",
        "plt.show()"
      ],
      "metadata": {
        "colab": {
          "base_uri": "https://localhost:8080/",
          "height": 426
        },
        "id": "gPgVfnoUc6ph",
        "outputId": "bd3088fc-29cd-4ef9-9aa9-7d051554a29a"
      },
      "execution_count": 4,
      "outputs": [
        {
          "output_type": "display_data",
          "data": {
            "text/plain": [
              "<Figure size 1500x500 with 3 Axes>"
            ],
            "image/png": "[encoded data removed]"
          },
          "metadata": {}
        }
      ]
    },
    {
      "cell_type": "code",
      "source": [
        "# Output cleaned dataset\n",
        "print(\"\\nMissing values after imputation:\")\n",
        "print(loan_data.isnull().sum())"
      ],
      "metadata": {
        "colab": {
          "base_uri": "https://localhost:8080/"
        },
        "id": "U6mo-nQHc6m_",
        "outputId": "d060788f-ff93-46b4-9b05-6030e2eb8b6b"
      },
      "execution_count": 5,
      "outputs": [
        {
          "output_type": "stream",
          "name": "stdout",
          "text": [
            "\n",
            "Missing values after imputation:\n",
            "LoanID             0\n",
            "ApplicantIncome    0\n",
            "LoanAmount         0\n",
            "CreditHistory      0\n",
            "dtype: int64\n"
          ]
        }
      ]
    },
    {
      "cell_type": "markdown",
      "source": [
        "Q2: CUSTOMER CHURN RATE ANALYSIS FOR CHURNFLIX"
      ],
      "metadata": {
        "id": "Wwb3v5eEdJ4N"
      }
    },
    {
      "cell_type": "markdown",
      "source": [
        "This scenario involves analyzing customer churn in a subscription-based streaming service. The dataset contains:\n",
        "\n",
        "CustomerID: Unique identifier.\n",
        "\n",
        "StartDate: Subscription start date.\n",
        "\n",
        "EndDate: Subscription end date (NaN indicates active subscription).\n",
        "\n",
        "SubscriptionPlan: Type of plan (Premium, Basic).\n",
        "\n",
        "Objective:\n",
        "\n",
        "Calculate monthly churn rate.\n",
        "\n",
        "Use a pivot table to analyze churn by subscription plan."
      ],
      "metadata": {
        "id": "PoiDWtXidUvC"
      }
    },
    {
      "cell_type": "code",
      "source": [
        "import pandas as pd\n",
        "import numpy as np\n",
        "\n",
        "# Load dataset\n",
        "customers = pd.read_csv('customer_info.csv')\n",
        "\n",
        "# Convert dates to datetime format\n",
        "customers['StartDate'] = pd.to_datetime(customers['StartDate'], format='%d-%m-%Y')\n",
        "customers['EndDate'] = pd.to_datetime(customers['EndDate'], format='%d-%m-%Y', errors='coerce')\n",
        "\n",
        "# Calculate churn status\n",
        "customers['Churned'] = customers['EndDate'].notnull()\n",
        "\n",
        "# Monthly churn rate calculation\n",
        "customers['ChurnMonth'] = customers['EndDate'].dt.to_period('M')\n",
        "churn_rate = customers.groupby('ChurnMonth')['CustomerID'].nunique() / len(customers) * 100\n",
        "\n",
        "# Pivot table for subscription plans\n",
        "pivot = customers.pivot_table(index=customers['StartDate'].dt.to_period('M'),\n",
        "                              columns='SubscriptionPlan',\n",
        "                              values='CustomerID',\n",
        "                              aggfunc='count')\n",
        "\n",
        "print(\"\\nMonthly Churn Rate:\")\n",
        "print(churn_rate)\n",
        "print(\"\\nSubscription Plan Pivot Table:\")\n",
        "print(pivot)\n"
      ],
      "metadata": {
        "id": "TeTjMv9Hc6kJ"
      },
      "execution_count": 7,
      "outputs": []
    },
    {
      "cell_type": "markdown",
      "source": [
        "Q3: FITNESS MEMBERSHIP PRO RETENTION ANALYSIS"
      ],
      "metadata": {
        "id": "yNr7EX8zeCEh"
      }
    },
    {
      "cell_type": "markdown",
      "source": [
        "You are analyzing membership retention for FitnessPro, a fitness company. The dataset includes:\n",
        "\n",
        "MemberID: Unique identifier.\n",
        "\n",
        "JoinDate: Date of membership.\n",
        "\n",
        "ActivityDate: Dates of activities performed.\n",
        "\n",
        "Objective:\n",
        "\n",
        "Identify members active for 6 consecutive months.\n",
        "\n",
        "Calculate retention rates."
      ],
      "metadata": {
        "id": "gWklDfoeeeEi"
      }
    },
    {
      "cell_type": "code",
      "source": [
        "# Load datasets\n",
        "members = pd.read_csv('member_info.csv')\n",
        "activity = pd.read_csv('activity_info.csv')\n",
        "\n",
        "# Convert dates to datetime\n",
        "members['JoinDate'] = pd.to_datetime(members['JoinDate'], format='%d-%m-%Y')\n",
        "activity['ActivityDate'] = pd.to_datetime(activity['ActivityDate'], format='%d-%m-%Y')\n",
        "\n",
        "# Extract month-year\n",
        "members['JoinMonth'] = members['JoinDate'].dt.to_period('M')\n",
        "activity['ActivityMonth'] = activity['ActivityDate'].dt.to_period('M')\n",
        "\n",
        "# Merge datasets\n",
        "data = pd.merge(activity, members, on='MemberID')\n",
        "\n",
        "# Filter activity within 6 months of joining\n",
        "data = data[(data['ActivityMonth'] >= data['JoinMonth']) &\n",
        "            (data['ActivityMonth'] <= data['JoinMonth'] + 5)]\n",
        "\n",
        "# Calculate retention\n",
        "retention = data.groupby('MemberID')['ActivityMonth'].nunique() == 6\n",
        "retention_rate = retention.mean() * 100\n",
        "\n",
        "print(f\"\\nFitnessPro Membership Retention Rate: {retention_rate:.2f}%\")\n"
      ],
      "metadata": {
        "id": "AeHht6jVdv1N"
      },
      "execution_count": null,
      "outputs": []
    },
    {
      "cell_type": "markdown",
      "source": [
        "Q4: CRYPTO CURRENCY MARKET ANALYSIS"
      ],
      "metadata": {
        "id": "ThuzxthqeT6F"
      }
    },
    {
      "cell_type": "markdown",
      "source": [
        "You are analyzing the cryptocurrency market, focusing on Bitcoin. The dataset includes:\n",
        "\n",
        "Date: Date of the record.\n",
        "\n",
        "Cryptocurrency: Name of the crypto (e.g., Bitcoin).\n",
        "\n",
        "MarketCap: Market capitalization.\n",
        "\n",
        "Volume24h: Trading volume in 24 hours.\n",
        "\n",
        "PriceUSD: Price in USD.\n",
        "\n",
        "Objective:\n",
        "\n",
        "Clean data by removing invalid rows.\n",
        "\n",
        "Calculate Bitcoin's daily percentage market cap change.\n",
        "\n",
        "Correlation between Bitcoin's market cap and volume.\n",
        "\n",
        "Rolling average of Bitcoin's price."
      ],
      "metadata": {
        "id": "_ydXPjn0ecAk"
      }
    },
    {
      "cell_type": "code",
      "source": [
        "# Load datasets\n",
        "members = pd.read_csv('member_info.csv')\n",
        "activity = pd.read_csv('activity_info.csv')\n",
        "\n",
        "# Convert dates to datetime\n",
        "members['JoinDate'] = pd.to_datetime(members['JoinDate'], format='%d-%m-%Y')\n",
        "activity['ActivityDate'] = pd.to_datetime(activity['ActivityDate'], format='%d-%m-%Y')\n",
        "\n",
        "# Extract month-year\n",
        "members['JoinMonth'] = members['JoinDate'].dt.to_period('M')\n",
        "activity['ActivityMonth'] = activity['ActivityDate'].dt.to_period('M')\n",
        "\n",
        "# Merge datasets\n",
        "data = pd.merge(activity, members, on='MemberID')\n",
        "\n",
        "# Filter activity within 6 months of joining\n",
        "data = data[(data['ActivityMonth'] >= data['JoinMonth']) &\n",
        "            (data['ActivityMonth'] <= data['JoinMonth'] + 5)]\n",
        "\n",
        "# Calculate retention\n",
        "retention = data.groupby('MemberID')['ActivityMonth'].nunique() == 6\n",
        "retention_rate = retention.mean() * 100\n",
        "\n",
        "print(f\"\\nFitnessPro Membership Retention Rate: {retention_rate:.2f}%\")\n"
      ],
      "metadata": {
        "id": "vkq3AOI3eY8M"
      },
      "execution_count": null,
      "outputs": []
    }
  ]
}