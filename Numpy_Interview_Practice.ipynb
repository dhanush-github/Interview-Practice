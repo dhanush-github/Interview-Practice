{
  "nbformat": 4,
  "nbformat_minor": 0,
  "metadata": {
    "colab": {
      "provenance": []
    },
    "kernelspec": {
      "name": "python3",
      "display_name": "Python 3"
    },
    "language_info": {
      "name": "python"
    }
  },
  "cells": [
    {
      "cell_type": "code",
      "execution_count": 266,
      "metadata": {
        "id": "JiMs5fs2ukXs"
      },
      "outputs": [],
      "source": [
        "import numpy as np"
      ]
    },
    {
      "cell_type": "code",
      "source": [
        "# NUMPY LIBRARAY\n",
        "\n",
        "\"\"\"\n",
        "\n",
        "Numpy is a powerful python library used for numerical computations and working with arrays.\n",
        "\n",
        "Numpy stands for numerical python.\n",
        "\n",
        "\"\"\"\n",
        "\n",
        "# how to install numpy.?\n",
        "\n",
        "!pip install numpy\n",
        "\n",
        "# importing numpy library\n",
        "import numpy as np\n",
        "\n",
        "# how to check numpy version\n",
        "np.__version__\n",
        "\n"
      ],
      "metadata": {
        "id": "2BBtttolurQj",
        "colab": {
          "base_uri": "https://localhost:8080/",
          "height": 53
        },
        "outputId": "4d206a52-15e4-4528-f021-5cf0b2ce4449"
      },
      "execution_count": 267,
      "outputs": [
        {
          "output_type": "stream",
          "name": "stdout",
          "text": [
            "Requirement already satisfied: numpy in /usr/local/lib/python3.11/dist-packages (1.26.4)\n"
          ]
        },
        {
          "output_type": "execute_result",
          "data": {
            "text/plain": [
              "'1.26.4'"
            ],
            "application/vnd.google.colaboratory.intrinsic+json": {
              "type": "string"
            }
          },
          "metadata": {},
          "execution_count": 267
        }
      ]
    },
    {
      "cell_type": "code",
      "source": [
        "# NUMPY ARRAY\n",
        "\n",
        "\"\"\"\n",
        "\n",
        "The basic data structure of numpy is array.\n",
        "\n",
        "A Numpy is a collection of values with some data types stored together, which is similar to a list.\n",
        "\n",
        "There are many types of numpy arrays: (similar to a matrix)\n",
        "    1. 1D Array\n",
        "    2. 2D Array\n",
        "        ...\n",
        "\n",
        "        ....\n",
        "      N-Dimensional Array\n",
        "\n",
        "\n",
        "Benifits of Numpy Arrays:\n",
        "\n",
        "    1. Easy and Clean syntax for Element wise operations.(ie: Most of the computations in linear algebra and ML can be done through the aid of numpy arrays,\n",
        "        especially in tensorflow)\n",
        "\n",
        "    2. when you replace a for loop with a numpy function and see the speed improvement.\n",
        "\n",
        "\n",
        "Major reasons behind numpy's faster computation:\n",
        "\n",
        "    1. Numpy array is densely packed in memory due to its homogenous type.\n",
        "    2. Numpy is able to divide a task into multiple sub tasks and process them paralelly.\n",
        "    3. Numpy functions are implemented in C Language, which again makes it faster compared to python lists.\n",
        "\n",
        "\n",
        "\"\"\"\n",
        "\n",
        "# observe the speed of numpy when compared to python lists\n",
        "\n",
        "l1 = range(1000000)\n",
        "\n",
        "%timeit [i**2 for i in l1]\n",
        "\n",
        "l2 = np.array(range(1000000))\n",
        "\n",
        "%timeit [l2**2]\n",
        "\n",
        "\n",
        "\n",
        "\n",
        "\n"
      ],
      "metadata": {
        "colab": {
          "base_uri": "https://localhost:8080/"
        },
        "id": "W3tM16DMoP9m",
        "outputId": "bcd1873a-1f9f-4901-9533-104dfbb371bd"
      },
      "execution_count": 268,
      "outputs": [
        {
          "output_type": "stream",
          "name": "stdout",
          "text": [
            "The slowest run took 4.89 times longer than the fastest. This could mean that an intermediate result is being cached.\n",
            "179 ms ± 98.4 ms per loop (mean ± std. dev. of 7 runs, 10 loops each)\n",
            "861 µs ± 65.4 µs per loop (mean ± std. dev. of 7 runs, 1000 loops each)\n"
          ]
        }
      ]
    },
    {
      "cell_type": "markdown",
      "source": [
        "### from the above results, its evident that numpy computations are much faster compared to lists"
      ],
      "metadata": {
        "id": "qKlxJwONrSJE"
      }
    },
    {
      "cell_type": "code",
      "source": [
        "# examples:\n",
        "\n",
        "gadget_list = [\"smartphone\", \"laptop\", \"headphones\", \"smartwatch\", \"tablet\", \"camera\", \"power bank\",\n",
        "               \"gaming console\", \"Bluetooth speaker\", \"fitness tracker\"]\n",
        "\n",
        "sales_list =  [600,569,544,520,490,446,420,300,275,100 ]\n",
        "\n",
        "production_list = [450,650,580,480,500,460,300,500,590,450 ]\n",
        "\n",
        "len(gadget_list) == len(sales_list) == len(production_list)\n",
        "\n"
      ],
      "metadata": {
        "colab": {
          "base_uri": "https://localhost:8080/"
        },
        "id": "dE_BanWkqdg8",
        "outputId": "d01f2315-f8f7-4db5-fc2a-73fcfd987bc3"
      },
      "execution_count": 269,
      "outputs": [
        {
          "output_type": "execute_result",
          "data": {
            "text/plain": [
              "True"
            ]
          },
          "metadata": {},
          "execution_count": 269
        }
      ]
    },
    {
      "cell_type": "code",
      "source": [
        "# create 1 dimensional arrays from lists.\n",
        "\n",
        "gadgets = np.array(gadget_list)\n",
        "\n",
        "sales  = np.array(sales_list)\n",
        "\n",
        "production = np.array(production_list)\n",
        "\n",
        "\n",
        "# printing data types of lists\n",
        "\n",
        "print(type(gadget_list))\n",
        "print(type(gadget_list))\n",
        "print(type(gadget_list))\n",
        "\n",
        "# printing data types of created numpy arrays\n",
        "\n",
        "print(type(gadgets))\n",
        "print(type(sales))\n",
        "print(type(production))"
      ],
      "metadata": {
        "colab": {
          "base_uri": "https://localhost:8080/"
        },
        "id": "uARp1Tm-r_Lv",
        "outputId": "6320d9d0-3240-4e6b-9e19-fa368163d78e"
      },
      "execution_count": 270,
      "outputs": [
        {
          "output_type": "stream",
          "name": "stdout",
          "text": [
            "<class 'list'>\n",
            "<class 'list'>\n",
            "<class 'list'>\n",
            "<class 'numpy.ndarray'>\n",
            "<class 'numpy.ndarray'>\n",
            "<class 'numpy.ndarray'>\n"
          ]
        }
      ]
    },
    {
      "cell_type": "code",
      "source": [
        "# finding data types of numpy arrays\n",
        "\n",
        "print(gadgets.dtype)\n",
        "print(sales.dtype)\n",
        "print(production.dtype)\n",
        "print('\\n')\n",
        "\n",
        "# finding shape of numpy array\n",
        "\n",
        "print(gadgets.shape)\n",
        "print(sales.shape)\n",
        "print(production.shape)\n",
        "print('\\n')\n",
        "\n",
        "# finding dimensions of arrays\n",
        "\n",
        "print(gadgets.ndim)\n",
        "print(sales.ndim)\n",
        "print(production.ndim)"
      ],
      "metadata": {
        "colab": {
          "base_uri": "https://localhost:8080/"
        },
        "id": "eDUkXbhCsjSY",
        "outputId": "7f88a66b-baa2-4aca-c67a-2c2a028d4095"
      },
      "execution_count": 271,
      "outputs": [
        {
          "output_type": "stream",
          "name": "stdout",
          "text": [
            "<U17\n",
            "int64\n",
            "int64\n",
            "\n",
            "\n",
            "(10,)\n",
            "(10,)\n",
            "(10,)\n",
            "\n",
            "\n",
            "1\n",
            "1\n",
            "1\n"
          ]
        }
      ]
    },
    {
      "cell_type": "code",
      "source": [
        "# accessing and slicing elements in numpy arrays\n",
        "\n",
        "\"\"\"\n",
        "\n",
        "similar to python data types, numpy also follows same convention for indexing and slicing elements.\n",
        "\n",
        "\"\"\"\n",
        "\n",
        "print(gadgets[0])\n",
        "\n",
        "print(gadgets[1:6])\n",
        "\n",
        "print(gadgets[::-1])\n",
        "\n",
        "print(gadgets[6:-1])\n",
        "\n",
        "print(len(gadgets))"
      ],
      "metadata": {
        "colab": {
          "base_uri": "https://localhost:8080/"
        },
        "id": "e3By2XvQtT2o",
        "outputId": "25d1f4b8-fb8a-4a7a-d8d6-965c4f33cc16"
      },
      "execution_count": 272,
      "outputs": [
        {
          "output_type": "stream",
          "name": "stdout",
          "text": [
            "smartphone\n",
            "['laptop' 'headphones' 'smartwatch' 'tablet' 'camera']\n",
            "['fitness tracker' 'Bluetooth speaker' 'gaming console' 'power bank'\n",
            " 'camera' 'tablet' 'smartwatch' 'headphones' 'laptop' 'smartphone']\n",
            "['power bank' 'gaming console' 'Bluetooth speaker']\n",
            "10\n"
          ]
        }
      ]
    },
    {
      "cell_type": "code",
      "source": [
        "# finding max and minimum values in a numpy array.\n",
        "\n",
        "\"\"\"\n",
        "argmax returns the index or position of value in an array.\n",
        "\n",
        "similarly, argmin returns the index or position of value in an array.\n",
        "\n",
        "\"\"\"\n",
        "# finding item/goods with highest sales\n",
        "best_selling_gadget_index = np.argmax(sales)\n",
        "\n",
        "best_selling_gadget = gadgets[best_selling_gadget_index]\n",
        "\n",
        "print(\"Best Selling Gadget is: \", best_selling_gadget)\n",
        "\n",
        "print(\"\\n\")\n",
        "\n",
        "# finding item/goods with lowest sales\n",
        "least_selling_gadget_index = np.argmin(sales)\n",
        "\n",
        "least_selling_gadget = gadgets[least_selling_gadget_index]\n",
        "\n",
        "print(\"Least Selling Gadget is: \", least_selling_gadget)\n",
        "\n",
        "print(\"\\n\")\n",
        "\n",
        "# finding item that has produced highest\n",
        "most_produced_index = np.argmax(production)\n",
        "\n",
        "most_produced_item = gadgets[most_produced_index]\n",
        "\n",
        "print(\"Item with Highest Production Units: \", most_produced_item)\n",
        "\n",
        "print(\"\\n\")\n",
        "\n",
        "# finding items that has least production rate\n",
        "least_produced_index = np.argmin(production)\n",
        "\n",
        "least_produced_item = gadgets[least_produced_index]\n",
        "\n",
        "print(\"Item wuth Least Production rate is: \", least_produced_item)\n",
        "\n",
        "\n"
      ],
      "metadata": {
        "colab": {
          "base_uri": "https://localhost:8080/"
        },
        "id": "3hWMIJbxuYM_",
        "outputId": "be41f53e-9a5c-43cb-9d27-3d1fe1f45cca"
      },
      "execution_count": 273,
      "outputs": [
        {
          "output_type": "stream",
          "name": "stdout",
          "text": [
            "Best Selling Gadget is:  smartphone\n",
            "\n",
            "\n",
            "Least Selling Gadget is:  fitness tracker\n",
            "\n",
            "\n",
            "Item with Highest Production Units:  laptop\n",
            "\n",
            "\n",
            "Item wuth Least Production rate is:  power bank\n"
          ]
        }
      ]
    },
    {
      "cell_type": "code",
      "source": [
        "# what is the ratio of sales and production for top 3 selling items.\n",
        "\n",
        "\"\"\"\n",
        "\n",
        "for a optimised ratio: sales < production\n",
        "\n",
        "\"\"\"\n",
        "\n",
        "# given an array, argsort will returns an array of indices that represent the order of elements when sorted in ascending order.\n",
        "\n",
        "top_3_selling_indices = np.argsort(sales)[-3:]\n",
        "\n",
        "sales_to_production_ratio_top3 = sales[top_3_selling_indices] / production[top_3_selling_indices]\n",
        "\n",
        "print(\"Sales to production ratio for top 3 Selling items are: \")\n",
        "\n",
        "for index in top_3_selling_indices:\n",
        "    print(f\"{gadget_list[index]} : {sales_to_production_ratio_top3[index]}\")"
      ],
      "metadata": {
        "colab": {
          "base_uri": "https://localhost:8080/"
        },
        "id": "x8E-Ye9evvSF",
        "outputId": "6007465d-1177-44c2-d7e0-8b57564af8b7"
      },
      "execution_count": 274,
      "outputs": [
        {
          "output_type": "stream",
          "name": "stdout",
          "text": [
            "Sales to production ratio for top 3 Selling items are: \n",
            "headphones : 1.3333333333333333\n",
            "laptop : 0.8753846153846154\n",
            "smartphone : 0.9379310344827586\n"
          ]
        }
      ]
    },
    {
      "cell_type": "code",
      "source": [
        "# now we want to have seperate lists for under procured and over procured goods lists.\n",
        "\n",
        "\"\"\"\n",
        "\n",
        "for this we need to check gadgets, where:\n",
        "    sales < production --> for over procured.\n",
        "    sales > production --> for under procured.\n",
        "\n",
        "\"\"\"\n",
        "\n"
      ],
      "metadata": {
        "colab": {
          "base_uri": "https://localhost:8080/",
          "height": 35
        },
        "id": "GBUqxctHyWJL",
        "outputId": "a97c84b5-6ee2-4d82-da33-7415fcc6ad00"
      },
      "execution_count": 275,
      "outputs": [
        {
          "output_type": "execute_result",
          "data": {
            "text/plain": [
              "'\\n\\nfor this we need to check gadgets, where:\\n    sales < production --> for over procured.\\n    sales > production --> for under procured.\\n\\n'"
            ],
            "application/vnd.google.colaboratory.intrinsic+json": {
              "type": "string"
            }
          },
          "metadata": {},
          "execution_count": 275
        }
      ]
    },
    {
      "cell_type": "code",
      "source": [
        "# example to undertsand how greater than and lesser than symbols works.\n",
        "\n",
        "a = np.array([1,32,4,5,6,2,34,25])\n",
        "\n",
        "b = np.array([2,2,0,51,4,0,54,26])\n",
        "\n",
        "print(a > b)"
      ],
      "metadata": {
        "colab": {
          "base_uri": "https://localhost:8080/"
        },
        "id": "xETplb4vydFz",
        "outputId": "f270de02-bab7-4104-b3d9-465c797895cc"
      },
      "execution_count": 276,
      "outputs": [
        {
          "output_type": "stream",
          "name": "stdout",
          "text": [
            "[False  True  True False  True  True False False]\n"
          ]
        }
      ]
    },
    {
      "cell_type": "markdown",
      "source": [
        "### we got boolean as an array for our output.\n",
        "\n",
        "observe:\n",
        "    elements which satisfied the condition are returned as \"TRUE\",\n",
        "    meanwhile others as \"FALSE\".\n",
        "\n",
        "This is called a MASKED Array\n",
        "\n"
      ],
      "metadata": {
        "id": "wGAuhMOvzXTY"
      }
    },
    {
      "cell_type": "code",
      "source": [
        "c = a[a > b]\n",
        "\n",
        "print(c)"
      ],
      "metadata": {
        "colab": {
          "base_uri": "https://localhost:8080/"
        },
        "id": "v1T8crOWz0Ix",
        "outputId": "cde1bec0-aec7-4c3e-c547-43ea07d27af3"
      },
      "execution_count": 277,
      "outputs": [
        {
          "output_type": "stream",
          "name": "stdout",
          "text": [
            "[32  4  6  2]\n"
          ]
        }
      ]
    },
    {
      "cell_type": "code",
      "source": [
        "# check for products that are under procured and over procured.\n",
        "\n",
        "\"\"\"\n",
        "\n",
        "if sales > production, then under procured\n",
        "\n",
        "if sales < production, then over procured.\n",
        "\n",
        "\"\"\"\n",
        "\n",
        "under_procured_gadgets = gadgets[sales > production]\n",
        "\n",
        "over_procured_gadgets = gadgets[sales < production]\n",
        "\n",
        "\n",
        "print(\"Over Procured Gadgets are: \", over_procured_gadgets)\n",
        "print(\"\\n\")\n",
        "print(\"Under Procured Gadgets are: \", under_procured_gadgets)"
      ],
      "metadata": {
        "colab": {
          "base_uri": "https://localhost:8080/"
        },
        "id": "H5jdX4yqz-fC",
        "outputId": "86865d81-00e4-43bc-b491-5aecb410f48e"
      },
      "execution_count": 278,
      "outputs": [
        {
          "output_type": "stream",
          "name": "stdout",
          "text": [
            "Over Procured Gadgets are:  ['laptop' 'headphones' 'tablet' 'camera' 'gaming console'\n",
            " 'Bluetooth speaker' 'fitness tracker']\n",
            "\n",
            "\n",
            "Under Procured Gadgets are:  ['smartphone' 'smartwatch' 'power bank']\n"
          ]
        }
      ]
    },
    {
      "cell_type": "code",
      "source": [
        "# Producing certain gadgets less in number makes sense, then how to boost the sales of under selling products\n",
        "\n",
        "\"\"\"\n",
        "\n",
        "1. Marketing push?\n",
        "2. Bundling offers?\n",
        "3. Special Promotions?\n",
        "\n",
        "but for which products?\n",
        "\n",
        "\"\"\"\n"
      ],
      "metadata": {
        "colab": {
          "base_uri": "https://localhost:8080/",
          "height": 35
        },
        "id": "Azd2JL261gWp",
        "outputId": "5fbefa6f-98f5-4a3e-ee4d-76d55d6bdbdf"
      },
      "execution_count": 279,
      "outputs": [
        {
          "output_type": "execute_result",
          "data": {
            "text/plain": [
              "'\\n\\n1. Marketing push?\\n2. Bundling offers?\\n3. Special Promotions?\\n\\nbut for which products?\\n\\n'"
            ],
            "application/vnd.google.colaboratory.intrinsic+json": {
              "type": "string"
            }
          },
          "metadata": {},
          "execution_count": 279
        }
      ]
    },
    {
      "cell_type": "markdown",
      "source": [
        "### We can plan to invest more on advertising for the least selling gadgets in the market in order to increase the sales of overall optimised prices at stores"
      ],
      "metadata": {
        "id": "-4cKK8gD2VPA"
      }
    },
    {
      "cell_type": "code",
      "source": [
        "# gadgets with lower sales for optimisation\n",
        "\n",
        "# NP.MEAN() is a statistical function used to get the average value for a given array\n",
        "lower_sales_gadgets = gadgets[sales < np.mean(sales)]\n",
        "\n",
        "print(lower_sales_gadgets)\n",
        "\n"
      ],
      "metadata": {
        "colab": {
          "base_uri": "https://localhost:8080/"
        },
        "id": "_DrgORJ82qPI",
        "outputId": "6d422a2d-37c3-4048-d167-5a6def45e477"
      },
      "execution_count": 280,
      "outputs": [
        {
          "output_type": "stream",
          "name": "stdout",
          "text": [
            "['power bank' 'gaming console' 'Bluetooth speaker' 'fitness tracker']\n"
          ]
        }
      ]
    },
    {
      "cell_type": "markdown",
      "source": [
        "### let's see about 2D Arrays"
      ],
      "metadata": {
        "id": "h_-T9ad23RDK"
      }
    },
    {
      "cell_type": "code",
      "source": [
        "# example:\n",
        "\n",
        "# this is list of tuples, comprising height (inches) and weight (pounds) for all players.\n",
        "\n",
        "players_List =  [(74, 180), (74, 215), (72, 210), (72, 210), (73, 188), (69, 176), (69, 209),\n",
        "           (71, 200), (76, 231), (71, 180), (73, 188), (73, 180), (74, 185), (74, 160),\n",
        "           (69, 180)]\n",
        "\n",
        "\n",
        "print(type(players_List))\n",
        "print(\"\\n\")\n",
        "print(players_List)\n",
        "print(\"\\n\")\n",
        "print(len(players_List))\n",
        "\n",
        "print(type(players_List[2]))"
      ],
      "metadata": {
        "colab": {
          "base_uri": "https://localhost:8080/"
        },
        "id": "NUtf-HNU26Ew",
        "outputId": "bb443dee-ecc0-4682-8d5f-6dcefbd1bb86"
      },
      "execution_count": 281,
      "outputs": [
        {
          "output_type": "stream",
          "name": "stdout",
          "text": [
            "<class 'list'>\n",
            "\n",
            "\n",
            "[(74, 180), (74, 215), (72, 210), (72, 210), (73, 188), (69, 176), (69, 209), (71, 200), (76, 231), (71, 180), (73, 188), (73, 180), (74, 185), (74, 160), (69, 180)]\n",
            "\n",
            "\n",
            "15\n",
            "<class 'tuple'>\n"
          ]
        }
      ]
    },
    {
      "cell_type": "code",
      "source": [
        "# creating numpy array for the given list\n",
        "\n",
        "players = np.array(players_List)\n",
        "\n",
        "print(players)\n",
        "print(\"\\n\")\n",
        "print(players.shape)\n",
        "print(\"\\n\")\n",
        "print(players.ndim)\n",
        "print(\"\\n\")\n",
        "print(players.dtype)"
      ],
      "metadata": {
        "colab": {
          "base_uri": "https://localhost:8080/"
        },
        "id": "s4kVmByM3bUw",
        "outputId": "cafb584d-6009-4d8a-f128-f202030b9fe2"
      },
      "execution_count": 282,
      "outputs": [
        {
          "output_type": "stream",
          "name": "stdout",
          "text": [
            "[[ 74 180]\n",
            " [ 74 215]\n",
            " [ 72 210]\n",
            " [ 72 210]\n",
            " [ 73 188]\n",
            " [ 69 176]\n",
            " [ 69 209]\n",
            " [ 71 200]\n",
            " [ 76 231]\n",
            " [ 71 180]\n",
            " [ 73 188]\n",
            " [ 73 180]\n",
            " [ 74 185]\n",
            " [ 74 160]\n",
            " [ 69 180]]\n",
            "\n",
            "\n",
            "(15, 2)\n",
            "\n",
            "\n",
            "2\n",
            "\n",
            "\n",
            "int64\n"
          ]
        }
      ]
    },
    {
      "cell_type": "code",
      "source": [
        "# accessing first players height and weight\n",
        "\n",
        "first_player_tuple = players[0]\n",
        "\n",
        "print(first_player_tuple)\n",
        "\n",
        "height = players[0][0]\n",
        "\n",
        "weight = players[0][1]\n",
        "\n",
        "print(height, weight)"
      ],
      "metadata": {
        "colab": {
          "base_uri": "https://localhost:8080/"
        },
        "id": "VDSDlfiL4Sft",
        "outputId": "77889199-049a-4996-d5f6-c9d86ea94b8b"
      },
      "execution_count": 283,
      "outputs": [
        {
          "output_type": "stream",
          "name": "stdout",
          "text": [
            "[ 74 180]\n",
            "74 180\n"
          ]
        }
      ]
    },
    {
      "cell_type": "code",
      "source": [
        "# accesing 2nd and 4th players info.\n",
        "\n",
        "second_person_height = players[1][0]\n",
        "second_person_weight = players[1][1]\n",
        "\n",
        "print(second_person_height, second_person_weight\n",
        "      )\n",
        "\n",
        "print(\"\\n\")\n",
        "\n",
        "fourth_person_height = players[3][0]\n",
        "fourth_Players_weight = players[3][1]\n",
        "\n",
        "print(fourth_person_height, fourth_Players_weight)"
      ],
      "metadata": {
        "colab": {
          "base_uri": "https://localhost:8080/"
        },
        "id": "9eA7PW8y4wyv",
        "outputId": "33b12413-8a79-4568-b243-8c01c5fe42db"
      },
      "execution_count": 284,
      "outputs": [
        {
          "output_type": "stream",
          "name": "stdout",
          "text": [
            "74 215\n",
            "\n",
            "\n",
            "72 210\n"
          ]
        }
      ]
    },
    {
      "cell_type": "code",
      "source": [
        "players[1:5]"
      ],
      "metadata": {
        "colab": {
          "base_uri": "https://localhost:8080/"
        },
        "id": "Tx3LplV851Nm",
        "outputId": "0a373078-ca84-44f9-9218-be409a3136fb"
      },
      "execution_count": 285,
      "outputs": [
        {
          "output_type": "execute_result",
          "data": {
            "text/plain": [
              "array([[ 74, 215],\n",
              "       [ 72, 210],\n",
              "       [ 72, 210],\n",
              "       [ 73, 188]])"
            ]
          },
          "metadata": {},
          "execution_count": 285
        }
      ]
    },
    {
      "cell_type": "code",
      "source": [
        "# how to  fetch players height only\n",
        "# this syntax means fetch all the values\n",
        "players[::]"
      ],
      "metadata": {
        "colab": {
          "base_uri": "https://localhost:8080/"
        },
        "id": "faFoIumZ58Cd",
        "outputId": "dfa1d95d-e1a2-4177-c087-3b44a6e6ba64"
      },
      "execution_count": 286,
      "outputs": [
        {
          "output_type": "execute_result",
          "data": {
            "text/plain": [
              "array([[ 74, 180],\n",
              "       [ 74, 215],\n",
              "       [ 72, 210],\n",
              "       [ 72, 210],\n",
              "       [ 73, 188],\n",
              "       [ 69, 176],\n",
              "       [ 69, 209],\n",
              "       [ 71, 200],\n",
              "       [ 76, 231],\n",
              "       [ 71, 180],\n",
              "       [ 73, 188],\n",
              "       [ 73, 180],\n",
              "       [ 74, 185],\n",
              "       [ 74, 160],\n",
              "       [ 69, 180]])"
            ]
          },
          "metadata": {},
          "execution_count": 286
        }
      ]
    },
    {
      "cell_type": "code",
      "source": [
        "# players[rows:columns]\n",
        "\n",
        "players[:,0]"
      ],
      "metadata": {
        "colab": {
          "base_uri": "https://localhost:8080/"
        },
        "id": "jKeuVj_p6G6W",
        "outputId": "41fd0c12-ce49-412f-fb65-0bb76a38c123"
      },
      "execution_count": 287,
      "outputs": [
        {
          "output_type": "execute_result",
          "data": {
            "text/plain": [
              "array([74, 74, 72, 72, 73, 69, 69, 71, 76, 71, 73, 73, 74, 74, 69])"
            ]
          },
          "metadata": {},
          "execution_count": 287
        }
      ]
    },
    {
      "cell_type": "code",
      "source": [
        "players[:,1]"
      ],
      "metadata": {
        "colab": {
          "base_uri": "https://localhost:8080/"
        },
        "id": "aGuyDXjh6OFd",
        "outputId": "c0a97843-3d0e-45fb-8b5c-87705ab8f9f2"
      },
      "execution_count": 288,
      "outputs": [
        {
          "output_type": "execute_result",
          "data": {
            "text/plain": [
              "array([180, 215, 210, 210, 188, 176, 209, 200, 231, 180, 188, 180, 185,\n",
              "       160, 180])"
            ]
          },
          "metadata": {},
          "execution_count": 288
        }
      ]
    },
    {
      "cell_type": "code",
      "source": [
        "players_height = players[:,0]\n",
        "\n",
        "players_weight = players[:,1]\n",
        "\n",
        "print(\"Players Heights are: \", players_height)\n",
        "print(\"\\n\")\n",
        "print(\"Players Weights are: \", players_weight)"
      ],
      "metadata": {
        "colab": {
          "base_uri": "https://localhost:8080/"
        },
        "id": "XSdsu_H26VKN",
        "outputId": "8af3a676-a944-4ba9-bb94-9e9eff3ec384"
      },
      "execution_count": 289,
      "outputs": [
        {
          "output_type": "stream",
          "name": "stdout",
          "text": [
            "Players Heights are:  [74 74 72 72 73 69 69 71 76 71 73 73 74 74 69]\n",
            "\n",
            "\n",
            "Players Weights are:  [180 215 210 210 188 176 209 200 231 180 188 180 185 160 180]\n"
          ]
        }
      ]
    },
    {
      "cell_type": "code",
      "source": [
        "# how to fetch only first 5 players weight\n",
        "\n",
        "players[0:5,1]"
      ],
      "metadata": {
        "colab": {
          "base_uri": "https://localhost:8080/"
        },
        "id": "6NMTeERF7a9d",
        "outputId": "0abc67d6-f6b6-42a0-a327-9a54d7f5fdd5"
      },
      "execution_count": 290,
      "outputs": [
        {
          "output_type": "execute_result",
          "data": {
            "text/plain": [
              "array([180, 215, 210, 210, 188])"
            ]
          },
          "metadata": {},
          "execution_count": 290
        }
      ]
    },
    {
      "cell_type": "code",
      "source": [
        "# height of 10th player\n",
        "players[9,0]"
      ],
      "metadata": {
        "colab": {
          "base_uri": "https://localhost:8080/"
        },
        "id": "97nK9n4e7lJ0",
        "outputId": "2928d62c-fdb0-4e44-e1f4-54b0ddd08dd7"
      },
      "execution_count": 291,
      "outputs": [
        {
          "output_type": "execute_result",
          "data": {
            "text/plain": [
              "71"
            ]
          },
          "metadata": {},
          "execution_count": 291
        }
      ]
    },
    {
      "cell_type": "code",
      "source": [
        "# converting heights to metres and weights to kgs\n",
        "\n",
        "players = players * [0.0254, 0.453592]"
      ],
      "metadata": {
        "id": "-S9rq7wE7wQM"
      },
      "execution_count": 292,
      "outputs": []
    },
    {
      "cell_type": "code",
      "source": [
        "players"
      ],
      "metadata": {
        "colab": {
          "base_uri": "https://localhost:8080/"
        },
        "id": "RxeZH_Hg7_QZ",
        "outputId": "81725b08-1e66-432f-c69f-1b13f58383dd"
      },
      "execution_count": 293,
      "outputs": [
        {
          "output_type": "execute_result",
          "data": {
            "text/plain": [
              "array([[  1.8796  ,  81.64656 ],\n",
              "       [  1.8796  ,  97.52228 ],\n",
              "       [  1.8288  ,  95.25432 ],\n",
              "       [  1.8288  ,  95.25432 ],\n",
              "       [  1.8542  ,  85.275296],\n",
              "       [  1.7526  ,  79.832192],\n",
              "       [  1.7526  ,  94.800728],\n",
              "       [  1.8034  ,  90.7184  ],\n",
              "       [  1.9304  , 104.779752],\n",
              "       [  1.8034  ,  81.64656 ],\n",
              "       [  1.8542  ,  85.275296],\n",
              "       [  1.8542  ,  81.64656 ],\n",
              "       [  1.8796  ,  83.91452 ],\n",
              "       [  1.8796  ,  72.57472 ],\n",
              "       [  1.7526  ,  81.64656 ]])"
            ]
          },
          "metadata": {},
          "execution_count": 293
        }
      ]
    },
    {
      "cell_type": "code",
      "source": [
        "# fetching height and weights of players, whose height is above 1.8 metres\n",
        "\n",
        "# by using masking concept we can achieve this\n",
        "\n",
        "height_in_mtrs = players[:,0]"
      ],
      "metadata": {
        "id": "TqHs8pKG8Anj"
      },
      "execution_count": 294,
      "outputs": []
    },
    {
      "cell_type": "code",
      "source": [
        "height_in_mtrs"
      ],
      "metadata": {
        "colab": {
          "base_uri": "https://localhost:8080/"
        },
        "id": "tP6fwmAV8ZtM",
        "outputId": "af2fb3ff-7200-46c3-fb7d-dd9eb8974cb2"
      },
      "execution_count": 295,
      "outputs": [
        {
          "output_type": "execute_result",
          "data": {
            "text/plain": [
              "array([1.8796, 1.8796, 1.8288, 1.8288, 1.8542, 1.7526, 1.7526, 1.8034,\n",
              "       1.9304, 1.8034, 1.8542, 1.8542, 1.8796, 1.8796, 1.7526])"
            ]
          },
          "metadata": {},
          "execution_count": 295
        }
      ]
    },
    {
      "cell_type": "code",
      "source": [
        "greater_height = height_in_mtrs[height_in_mtrs > 1.8]"
      ],
      "metadata": {
        "id": "N-cmbv7B8a9i"
      },
      "execution_count": 296,
      "outputs": []
    },
    {
      "cell_type": "code",
      "source": [
        "greater_height"
      ],
      "metadata": {
        "colab": {
          "base_uri": "https://localhost:8080/"
        },
        "id": "vO3LqGQb8l2K",
        "outputId": "592e54c2-ea5c-4c89-8842-15d8b97d2c3d"
      },
      "execution_count": 297,
      "outputs": [
        {
          "output_type": "execute_result",
          "data": {
            "text/plain": [
              "array([1.8796, 1.8796, 1.8288, 1.8288, 1.8542, 1.8034, 1.9304, 1.8034,\n",
              "       1.8542, 1.8542, 1.8796, 1.8796])"
            ]
          },
          "metadata": {},
          "execution_count": 297
        }
      ]
    },
    {
      "cell_type": "code",
      "source": [
        "print(len(height_in_mtrs))\n",
        "len(greater_height)"
      ],
      "metadata": {
        "colab": {
          "base_uri": "https://localhost:8080/"
        },
        "id": "f3QUiTNG8vsE",
        "outputId": "891e7cfa-1e80-4302-a63f-26cdbf562f04"
      },
      "execution_count": 298,
      "outputs": [
        {
          "output_type": "stream",
          "name": "stdout",
          "text": [
            "15\n"
          ]
        },
        {
          "output_type": "execute_result",
          "data": {
            "text/plain": [
              "12"
            ]
          },
          "metadata": {},
          "execution_count": 298
        }
      ]
    },
    {
      "cell_type": "code",
      "source": [
        "# find count of players whose weight is greater than or equal to 80 kgs\n",
        "\n",
        "weight_in_Kgs = players[:,1]"
      ],
      "metadata": {
        "id": "onIa76Fe83Xc"
      },
      "execution_count": 299,
      "outputs": []
    },
    {
      "cell_type": "code",
      "source": [
        "weight_in_Kgs"
      ],
      "metadata": {
        "colab": {
          "base_uri": "https://localhost:8080/"
        },
        "id": "UFHlLDg19G-D",
        "outputId": "c2b086ac-83c6-4678-ba4e-c12c79714138"
      },
      "execution_count": 300,
      "outputs": [
        {
          "output_type": "execute_result",
          "data": {
            "text/plain": [
              "array([ 81.64656 ,  97.52228 ,  95.25432 ,  95.25432 ,  85.275296,\n",
              "        79.832192,  94.800728,  90.7184  , 104.779752,  81.64656 ,\n",
              "        85.275296,  81.64656 ,  83.91452 ,  72.57472 ,  81.64656 ])"
            ]
          },
          "metadata": {},
          "execution_count": 300
        }
      ]
    },
    {
      "cell_type": "code",
      "source": [
        "greater_weight = weight_in_Kgs[weight_in_Kgs >= 80]"
      ],
      "metadata": {
        "id": "cRk3rkhe9IKC"
      },
      "execution_count": 301,
      "outputs": []
    },
    {
      "cell_type": "code",
      "source": [
        "greater_weight"
      ],
      "metadata": {
        "colab": {
          "base_uri": "https://localhost:8080/"
        },
        "id": "KZwV2llJ9O2r",
        "outputId": "468f6de4-38dd-40f6-95a4-55760c2e997f"
      },
      "execution_count": 302,
      "outputs": [
        {
          "output_type": "execute_result",
          "data": {
            "text/plain": [
              "array([ 81.64656 ,  97.52228 ,  95.25432 ,  95.25432 ,  85.275296,\n",
              "        94.800728,  90.7184  , 104.779752,  81.64656 ,  85.275296,\n",
              "        81.64656 ,  83.91452 ,  81.64656 ])"
            ]
          },
          "metadata": {},
          "execution_count": 302
        }
      ]
    },
    {
      "cell_type": "code",
      "source": [
        "print(len(weight_in_Kgs))\n",
        "len(greater_weight)"
      ],
      "metadata": {
        "colab": {
          "base_uri": "https://localhost:8080/"
        },
        "id": "j7GWb3Af9QBT",
        "outputId": "20bac9d7-4410-4a93-fa68-06af35272c9a"
      },
      "execution_count": 303,
      "outputs": [
        {
          "output_type": "stream",
          "name": "stdout",
          "text": [
            "15\n"
          ]
        },
        {
          "output_type": "execute_result",
          "data": {
            "text/plain": [
              "13"
            ]
          },
          "metadata": {},
          "execution_count": 303
        }
      ]
    },
    {
      "cell_type": "code",
      "source": [
        "# fetch player details whose weight is gretaer than 80 and height is greater than 1.8 metres\n",
        "\n",
        "filtered_players = players[(players[:, 0] > 1.80) & (players[:, 1] > 95)]"
      ],
      "metadata": {
        "id": "YnXqHvyL9UEN"
      },
      "execution_count": 304,
      "outputs": []
    },
    {
      "cell_type": "code",
      "source": [
        "filtered_players"
      ],
      "metadata": {
        "colab": {
          "base_uri": "https://localhost:8080/"
        },
        "id": "Y4sd8Y1p92YD",
        "outputId": "f57e6272-8dae-4643-ebcc-2d8608c4387a"
      },
      "execution_count": 305,
      "outputs": [
        {
          "output_type": "execute_result",
          "data": {
            "text/plain": [
              "array([[  1.8796  ,  97.52228 ],\n",
              "       [  1.8288  ,  95.25432 ],\n",
              "       [  1.8288  ,  95.25432 ],\n",
              "       [  1.9304  , 104.779752]])"
            ]
          },
          "metadata": {},
          "execution_count": 305
        }
      ]
    },
    {
      "cell_type": "code",
      "source": [
        "# other ways of creating numpy arrays\n",
        "\n",
        "np.zeros((5,6),dtype='int')"
      ],
      "metadata": {
        "colab": {
          "base_uri": "https://localhost:8080/"
        },
        "id": "OszuVruv-FXy",
        "outputId": "35859596-34fe-447b-e5d5-69f6e9bdfc2c"
      },
      "execution_count": 306,
      "outputs": [
        {
          "output_type": "execute_result",
          "data": {
            "text/plain": [
              "array([[0, 0, 0, 0, 0, 0],\n",
              "       [0, 0, 0, 0, 0, 0],\n",
              "       [0, 0, 0, 0, 0, 0],\n",
              "       [0, 0, 0, 0, 0, 0],\n",
              "       [0, 0, 0, 0, 0, 0]])"
            ]
          },
          "metadata": {},
          "execution_count": 306
        }
      ]
    },
    {
      "cell_type": "code",
      "source": [
        "np.ones((6,4),dtype='int')"
      ],
      "metadata": {
        "colab": {
          "base_uri": "https://localhost:8080/"
        },
        "id": "TFU0tlhx-oXS",
        "outputId": "b04db5d3-f87f-4974-8a4d-edefb5b166e1"
      },
      "execution_count": 307,
      "outputs": [
        {
          "output_type": "execute_result",
          "data": {
            "text/plain": [
              "array([[1, 1, 1, 1],\n",
              "       [1, 1, 1, 1],\n",
              "       [1, 1, 1, 1],\n",
              "       [1, 1, 1, 1],\n",
              "       [1, 1, 1, 1],\n",
              "       [1, 1, 1, 1]])"
            ]
          },
          "metadata": {},
          "execution_count": 307
        }
      ]
    },
    {
      "cell_type": "code",
      "source": [
        "np.ones(9, dtype='float')"
      ],
      "metadata": {
        "colab": {
          "base_uri": "https://localhost:8080/"
        },
        "id": "2UaTw2lM_r25",
        "outputId": "f13b4439-0bfe-4379-9045-265bb7fa7662"
      },
      "execution_count": 308,
      "outputs": [
        {
          "output_type": "execute_result",
          "data": {
            "text/plain": [
              "array([1., 1., 1., 1., 1., 1., 1., 1., 1.])"
            ]
          },
          "metadata": {},
          "execution_count": 308
        }
      ]
    },
    {
      "cell_type": "code",
      "source": [
        "# creating an array of a defined shape, with only a specific value\n",
        "\n",
        "np.full([15,6],9)"
      ],
      "metadata": {
        "colab": {
          "base_uri": "https://localhost:8080/"
        },
        "id": "0o6tIyr4_yPJ",
        "outputId": "4ebf82d8-356b-4428-fc1f-abf7f6b3e66f"
      },
      "execution_count": 309,
      "outputs": [
        {
          "output_type": "execute_result",
          "data": {
            "text/plain": [
              "array([[9, 9, 9, 9, 9, 9],\n",
              "       [9, 9, 9, 9, 9, 9],\n",
              "       [9, 9, 9, 9, 9, 9],\n",
              "       [9, 9, 9, 9, 9, 9],\n",
              "       [9, 9, 9, 9, 9, 9],\n",
              "       [9, 9, 9, 9, 9, 9],\n",
              "       [9, 9, 9, 9, 9, 9],\n",
              "       [9, 9, 9, 9, 9, 9],\n",
              "       [9, 9, 9, 9, 9, 9],\n",
              "       [9, 9, 9, 9, 9, 9],\n",
              "       [9, 9, 9, 9, 9, 9],\n",
              "       [9, 9, 9, 9, 9, 9],\n",
              "       [9, 9, 9, 9, 9, 9],\n",
              "       [9, 9, 9, 9, 9, 9],\n",
              "       [9, 9, 9, 9, 9, 9]])"
            ]
          },
          "metadata": {},
          "execution_count": 309
        }
      ]
    },
    {
      "cell_type": "code",
      "source": [
        "# creating an array with increments of fixed step size.\n",
        "\n",
        "\"\"\"\n",
        "\n",
        "np.arange(start, stop, step)\n",
        "\n",
        "this can take float values as well by adjusting the step size.\n",
        "\n",
        "\"\"\"\n",
        "\n",
        "np.arange(0,15,2)"
      ],
      "metadata": {
        "colab": {
          "base_uri": "https://localhost:8080/"
        },
        "id": "gTiRpFnEAB8x",
        "outputId": "4975cace-1e2a-4dac-c761-3f8462f011d5"
      },
      "execution_count": 310,
      "outputs": [
        {
          "output_type": "execute_result",
          "data": {
            "text/plain": [
              "array([ 0,  2,  4,  6,  8, 10, 12, 14])"
            ]
          },
          "metadata": {},
          "execution_count": 310
        }
      ]
    },
    {
      "cell_type": "code",
      "source": [
        "np.arange(5,25,2.5)"
      ],
      "metadata": {
        "colab": {
          "base_uri": "https://localhost:8080/"
        },
        "id": "AORbvR_LAcdP",
        "outputId": "97646be3-b7c9-4d81-9748-d43476051f3c"
      },
      "execution_count": 311,
      "outputs": [
        {
          "output_type": "execute_result",
          "data": {
            "text/plain": [
              "array([ 5. ,  7.5, 10. , 12.5, 15. , 17.5, 20. , 22.5])"
            ]
          },
          "metadata": {},
          "execution_count": 311
        }
      ]
    },
    {
      "cell_type": "code",
      "source": [
        "# create evenly spaced numbers over a specific interval.\n",
        "\n",
        "\"\"\"\n",
        "\n",
        "np.linspace(start, stop, num) over a specific interval.\n",
        "\n",
        "\n",
        "\"\"\"\n",
        "\n",
        "np.linspace(1,2,3)\n"
      ],
      "metadata": {
        "colab": {
          "base_uri": "https://localhost:8080/"
        },
        "id": "oNC4ZDM5AfhA",
        "outputId": "c27875db-79c3-4e4c-8815-ecd9228193c6"
      },
      "execution_count": 312,
      "outputs": [
        {
          "output_type": "execute_result",
          "data": {
            "text/plain": [
              "array([1. , 1.5, 2. ])"
            ]
          },
          "metadata": {},
          "execution_count": 312
        }
      ]
    },
    {
      "cell_type": "code",
      "source": [
        "np.linspace(1,15,5)"
      ],
      "metadata": {
        "colab": {
          "base_uri": "https://localhost:8080/"
        },
        "id": "kHagxP2bAzlo",
        "outputId": "b514ff51-ac38-4efc-9007-0f5bf3a1bff4"
      },
      "execution_count": 313,
      "outputs": [
        {
          "output_type": "execute_result",
          "data": {
            "text/plain": [
              "array([ 1. ,  4.5,  8. , 11.5, 15. ])"
            ]
          },
          "metadata": {},
          "execution_count": 313
        }
      ]
    },
    {
      "cell_type": "code",
      "source": [
        "# example\n",
        "\n",
        "a = [[1,2,3,4],[5,6,7,8],[9,10,11,12],[91,100,110,120],[34,56,33,22],[1,5,6,78]]\n",
        "\n",
        "a = np.array(a)"
      ],
      "metadata": {
        "id": "FYq41oIaA41g"
      },
      "execution_count": 314,
      "outputs": []
    },
    {
      "cell_type": "code",
      "source": [
        "print(a)\n",
        "print(\"\\n\"\n",
        ")\n",
        "print(a.ndim)\n",
        "print(\"\\n\")\n",
        "print(a.shape)"
      ],
      "metadata": {
        "colab": {
          "base_uri": "https://localhost:8080/"
        },
        "id": "EVRaiXiKBDmQ",
        "outputId": "c09c616d-196c-4ed7-fed8-9c889621cb4e"
      },
      "execution_count": 315,
      "outputs": [
        {
          "output_type": "stream",
          "name": "stdout",
          "text": [
            "[[  1   2   3   4]\n",
            " [  5   6   7   8]\n",
            " [  9  10  11  12]\n",
            " [ 91 100 110 120]\n",
            " [ 34  56  33  22]\n",
            " [  1   5   6  78]]\n",
            "\n",
            "\n",
            "2\n",
            "\n",
            "\n",
            "(6, 4)\n"
          ]
        }
      ]
    },
    {
      "cell_type": "code",
      "source": [
        "# printing all rows for column 1\n",
        "a[:,0]"
      ],
      "metadata": {
        "colab": {
          "base_uri": "https://localhost:8080/"
        },
        "id": "C5Ow2WLNBMMQ",
        "outputId": "5f6ff0d8-30da-43af-a012-4fa95384d794"
      },
      "execution_count": 316,
      "outputs": [
        {
          "output_type": "execute_result",
          "data": {
            "text/plain": [
              "array([ 1,  5,  9, 91, 34,  1])"
            ]
          },
          "metadata": {},
          "execution_count": 316
        }
      ]
    },
    {
      "cell_type": "code",
      "source": [
        "# printing all columns for row 1\n",
        "a[0,:]"
      ],
      "metadata": {
        "colab": {
          "base_uri": "https://localhost:8080/"
        },
        "id": "iXBG_snnBYZQ",
        "outputId": "a0b0a883-5131-4815-effd-a6daa9c99550"
      },
      "execution_count": 317,
      "outputs": [
        {
          "output_type": "execute_result",
          "data": {
            "text/plain": [
              "array([1, 2, 3, 4])"
            ]
          },
          "metadata": {},
          "execution_count": 317
        }
      ]
    },
    {
      "cell_type": "code",
      "source": [
        "# printing subsection from row 3 to row 5\n",
        "\n",
        "a[2:6,1:]"
      ],
      "metadata": {
        "colab": {
          "base_uri": "https://localhost:8080/"
        },
        "id": "Jh07J34hBr1g",
        "outputId": "a2d5adb2-ab43-416f-b8f6-6eec1f9c94ea"
      },
      "execution_count": 318,
      "outputs": [
        {
          "output_type": "execute_result",
          "data": {
            "text/plain": [
              "array([[ 10,  11,  12],\n",
              "       [100, 110, 120],\n",
              "       [ 56,  33,  22],\n",
              "       [  5,   6,  78]])"
            ]
          },
          "metadata": {},
          "execution_count": 318
        }
      ]
    },
    {
      "cell_type": "markdown",
      "source": [
        "### sales are surging, we want to ensure that increased demand is met. so we have decided to increase the production of all sales by 20%"
      ],
      "metadata": {
        "id": "7qFb4mFKRR6C"
      }
    },
    {
      "cell_type": "code",
      "source": [
        "sales"
      ],
      "metadata": {
        "colab": {
          "base_uri": "https://localhost:8080/"
        },
        "id": "x4U0z5e9B54g",
        "outputId": "6a98390d-acc2-48fb-8bf1-5f9cfbb571d9"
      },
      "execution_count": 319,
      "outputs": [
        {
          "output_type": "execute_result",
          "data": {
            "text/plain": [
              "array([600, 569, 544, 520, 490, 446, 420, 300, 275, 100])"
            ]
          },
          "metadata": {},
          "execution_count": 319
        }
      ]
    },
    {
      "cell_type": "code",
      "source": [
        "production"
      ],
      "metadata": {
        "colab": {
          "base_uri": "https://localhost:8080/"
        },
        "id": "I6gedpKqRiBd",
        "outputId": "72a7b7ef-7001-4924-dea2-8d232b40c53d"
      },
      "execution_count": 320,
      "outputs": [
        {
          "output_type": "execute_result",
          "data": {
            "text/plain": [
              "array([450, 650, 580, 480, 500, 460, 300, 500, 590, 450])"
            ]
          },
          "metadata": {},
          "execution_count": 320
        }
      ]
    },
    {
      "cell_type": "code",
      "source": [
        "production = production.astype(float)\n",
        "\n",
        "production *= 1.2"
      ],
      "metadata": {
        "id": "pov_mZefRlA1"
      },
      "execution_count": 321,
      "outputs": []
    },
    {
      "cell_type": "code",
      "source": [
        "production"
      ],
      "metadata": {
        "colab": {
          "base_uri": "https://localhost:8080/"
        },
        "id": "mkCRzLU1SPqc",
        "outputId": "5d249f78-6247-4e6c-9d0b-dab61e8555e3"
      },
      "execution_count": 322,
      "outputs": [
        {
          "output_type": "execute_result",
          "data": {
            "text/plain": [
              "array([540., 780., 696., 576., 600., 552., 360., 600., 708., 540.])"
            ]
          },
          "metadata": {},
          "execution_count": 322
        }
      ]
    },
    {
      "cell_type": "code",
      "source": [
        "# it is not possible to produce goods in decimal points, instead it should be an integer\n",
        "\n",
        "production = production.astype(int)\n",
        "\n",
        "production"
      ],
      "metadata": {
        "colab": {
          "base_uri": "https://localhost:8080/"
        },
        "id": "tlqmmLIJSQ1k",
        "outputId": "adeb695b-0686-4e42-9dfd-f531baecff15"
      },
      "execution_count": 323,
      "outputs": [
        {
          "output_type": "execute_result",
          "data": {
            "text/plain": [
              "array([540, 780, 696, 576, 600, 552, 360, 600, 708, 540])"
            ]
          },
          "metadata": {},
          "execution_count": 323
        }
      ]
    },
    {
      "cell_type": "code",
      "source": [
        "# we have recieved a new shipment of gadgets and updated your inventory\n",
        "\n",
        "# to ensure accuracy in inventory, you have to check if the new production list matches the original one.\n",
        "\n",
        "\n",
        "\"\"\"\n",
        "\n",
        "element wise comparision must be done\n",
        "\n",
        "np.array_equal() helps to achieve this.\n",
        "\n",
        "\"\"\"\n",
        "\n",
        "a1 = np.array([1,2,6])\n",
        "\n",
        "b1 = np.array([5,6,9])\n",
        "\n",
        "print(all(a1==b1))\n",
        "\n",
        "print(any(a1==b1))"
      ],
      "metadata": {
        "colab": {
          "base_uri": "https://localhost:8080/"
        },
        "id": "wZotqf9gSe6E",
        "outputId": "8b394a3f-1457-4898-a845-a07bae6de17b"
      },
      "execution_count": 324,
      "outputs": [
        {
          "output_type": "stream",
          "name": "stdout",
          "text": [
            "False\n",
            "False\n"
          ]
        }
      ]
    },
    {
      "cell_type": "code",
      "source": [
        "np.array_equal(a1,b1)"
      ],
      "metadata": {
        "colab": {
          "base_uri": "https://localhost:8080/"
        },
        "id": "98m8MZwhTU1E",
        "outputId": "c34b1deb-b0e5-4276-ddd8-d56306326290"
      },
      "execution_count": 325,
      "outputs": [
        {
          "output_type": "execute_result",
          "data": {
            "text/plain": [
              "False"
            ]
          },
          "metadata": {},
          "execution_count": 325
        }
      ]
    },
    {
      "cell_type": "code",
      "source": [
        "new_production_list = [648, 936, 835, 691, 720, 662, 432, 720, 849, 648] # New list\n",
        "\n",
        "new_production = np.array(new_production_list)\n",
        "\n",
        "print(np.array_equal(production, new_production))"
      ],
      "metadata": {
        "colab": {
          "base_uri": "https://localhost:8080/"
        },
        "id": "SE-GvtgiTcOD",
        "outputId": "163d0869-ae6a-422d-954f-892b92103452"
      },
      "execution_count": 326,
      "outputs": [
        {
          "output_type": "stream",
          "name": "stdout",
          "text": [
            "False\n"
          ]
        }
      ]
    },
    {
      "cell_type": "code",
      "source": [
        "# calculating available stock for each gadget\n",
        "\n",
        "available_stock = production - sales\n",
        "\n",
        "print(available_stock)"
      ],
      "metadata": {
        "colab": {
          "base_uri": "https://localhost:8080/"
        },
        "id": "wRBuMKW9To2T",
        "outputId": "2471c6a1-c34a-4820-ef98-2d3a38819697"
      },
      "execution_count": 327,
      "outputs": [
        {
          "output_type": "stream",
          "name": "stdout",
          "text": [
            "[-60 211 152  56 110 106 -60 300 433 440]\n"
          ]
        }
      ]
    },
    {
      "cell_type": "markdown",
      "source": [
        "## MATRIX MULTIPLICATION"
      ],
      "metadata": {
        "id": "F69wRR1RT-Dw"
      }
    },
    {
      "cell_type": "code",
      "source": [
        "x = [[1,2],[3,4]]\n",
        "\n",
        "y = [[1,3],[1,5]]\n",
        "\n",
        "z = np.dot(x,y)"
      ],
      "metadata": {
        "id": "HpMK7kNoT3vj"
      },
      "execution_count": 328,
      "outputs": []
    },
    {
      "cell_type": "code",
      "source": [
        "z"
      ],
      "metadata": {
        "colab": {
          "base_uri": "https://localhost:8080/"
        },
        "id": "kaGdOos7UJ7L",
        "outputId": "6144e9b6-727b-4c20-ac89-154dc1df47b6"
      },
      "execution_count": 329,
      "outputs": [
        {
          "output_type": "execute_result",
          "data": {
            "text/plain": [
              "array([[ 3, 13],\n",
              "       [ 7, 29]])"
            ]
          },
          "metadata": {},
          "execution_count": 329
        }
      ]
    },
    {
      "cell_type": "code",
      "source": [
        "# dot product on one dimensional array\n",
        "\n",
        "a3 = np.array([1,5,9])\n",
        "\n",
        "b3 = np.array([2,4,6])\n",
        "\n",
        "c3 = np.dot(a3,b3)"
      ],
      "metadata": {
        "id": "87SnPQihULRx"
      },
      "execution_count": 330,
      "outputs": []
    },
    {
      "cell_type": "code",
      "source": [
        "c3"
      ],
      "metadata": {
        "colab": {
          "base_uri": "https://localhost:8080/"
        },
        "id": "S1_Am4XVUbF6",
        "outputId": "766dc644-c48d-4b4c-da90-136c98f40b91"
      },
      "execution_count": 331,
      "outputs": [
        {
          "output_type": "execute_result",
          "data": {
            "text/plain": [
              "76"
            ]
          },
          "metadata": {},
          "execution_count": 331
        }
      ]
    },
    {
      "cell_type": "code",
      "source": [
        "# now we have market factors, which affect the sales\n",
        "\n",
        "market_factors = np.array([[0.5], [0.8], [0.6], [0.7], [0.9], [0.4], [0.3], [0.5], [0.7], [0.6]])\n",
        "\n",
        "weighted_sales = np.dot(sales, market_factors)\n",
        "\n",
        "weighted_sales"
      ],
      "metadata": {
        "colab": {
          "base_uri": "https://localhost:8080/"
        },
        "id": "ZxG2eBTiUcAr",
        "outputId": "7a59f3b6-4911-40e2-cf30-0456fe51e448"
      },
      "execution_count": 332,
      "outputs": [
        {
          "output_type": "execute_result",
          "data": {
            "text/plain": [
              "array([2593.5])"
            ]
          },
          "metadata": {},
          "execution_count": 332
        }
      ]
    },
    {
      "cell_type": "markdown",
      "source": [
        "### to evaluate store's performance, we want to calculate mean, variance, std .deviation of sales data. providinf statistical overview for sales trends."
      ],
      "metadata": {
        "id": "C17iIMdYU96a"
      }
    },
    {
      "cell_type": "code",
      "source": [
        "# this can be achieved by numpy statistical operators\n",
        "\n",
        "print(np.mean(sales))\n",
        "\n",
        "print(np.var(sales))\n",
        "\n",
        "print(np.std(sales))\n",
        "\n",
        "print(np.cumsum(sales))\n",
        "\n"
      ],
      "metadata": {
        "colab": {
          "base_uri": "https://localhost:8080/"
        },
        "id": "1zLqRCznU0ZT",
        "outputId": "f06f2e12-e774-48c4-b7d0-a93f9152e496"
      },
      "execution_count": 333,
      "outputs": [
        {
          "output_type": "stream",
          "name": "stdout",
          "text": [
            "426.4\n",
            "22296.840000000004\n",
            "149.32126439325378\n",
            "[ 600 1169 1713 2233 2723 3169 3589 3889 4164 4264]\n"
          ]
        }
      ]
    },
    {
      "cell_type": "code",
      "source": [
        "# how to perform statistical operators for a 2D Array\n",
        "\n",
        "\"\"\"\n",
        "\n",
        "we have two axis in a 2D array, axis = 0 represents columns\n",
        "\n",
        "and axis=1 represents rows.\n",
        "\n",
        "\"\"\"\n",
        "\n",
        "# ex:\n",
        "\n",
        "mat = np.array([[1,2,3,4],[5,6,7,8]])\n",
        "\n",
        "print(mat)"
      ],
      "metadata": {
        "colab": {
          "base_uri": "https://localhost:8080/"
        },
        "id": "TQ_114PbVZdA",
        "outputId": "8c205902-83be-4ccb-b0e6-0192bc1d91cc"
      },
      "execution_count": 334,
      "outputs": [
        {
          "output_type": "stream",
          "name": "stdout",
          "text": [
            "[[1 2 3 4]\n",
            " [5 6 7 8]]\n"
          ]
        }
      ]
    },
    {
      "cell_type": "code",
      "source": [
        "# calculating mean values for all columns\n",
        "mat = mat.astype(float)\n",
        "np.mean(mat, axis=0)"
      ],
      "metadata": {
        "colab": {
          "base_uri": "https://localhost:8080/"
        },
        "id": "J7E7aenqWLPC",
        "outputId": "d6339794-50e8-40db-858a-735ce2c487c0"
      },
      "execution_count": 335,
      "outputs": [
        {
          "output_type": "execute_result",
          "data": {
            "text/plain": [
              "array([3., 4., 5., 6.])"
            ]
          },
          "metadata": {},
          "execution_count": 335
        }
      ]
    },
    {
      "cell_type": "code",
      "source": [
        "# calculating mean values across rows\n",
        "\n",
        "np.mean(mat, axis=1)"
      ],
      "metadata": {
        "colab": {
          "base_uri": "https://localhost:8080/"
        },
        "id": "MSla70BKWahh",
        "outputId": "d3b64de4-b190-4411-cb04-ea5de010e265"
      },
      "execution_count": 336,
      "outputs": [
        {
          "output_type": "execute_result",
          "data": {
            "text/plain": [
              "array([2.5, 6.5])"
            ]
          },
          "metadata": {},
          "execution_count": 336
        }
      ]
    },
    {
      "cell_type": "code",
      "source": [
        "marks = np.array([40,51,62,73,82,92])\n",
        "\n",
        "names = np.array([\"ram\",\"shyam\",\"mohan\",\"vijay\",\"aman\",\"vishal\"])\n",
        "\n",
        "students_scored_odd_number_marks = names[marks % 2 != 0]"
      ],
      "metadata": {
        "id": "pMxYcnpOWo9B"
      },
      "execution_count": 337,
      "outputs": []
    },
    {
      "cell_type": "code",
      "source": [
        "students_scored_odd_number_marks"
      ],
      "metadata": {
        "colab": {
          "base_uri": "https://localhost:8080/"
        },
        "id": "W9cMLRvtW_LJ",
        "outputId": "f8f35281-732b-498f-c403-e05644729bf9"
      },
      "execution_count": 338,
      "outputs": [
        {
          "output_type": "execute_result",
          "data": {
            "text/plain": [
              "array(['shyam', 'vijay'], dtype='<U6')"
            ]
          },
          "metadata": {},
          "execution_count": 338
        }
      ]
    },
    {
      "cell_type": "code",
      "source": [
        "# to plan for future discounts, we have to sort sales data in ascending order.\n",
        "\n",
        "\"\"\"\n",
        "\n",
        "this helps in identifying which gadgets might benifit most from promotional pricing.\n",
        "\n",
        "np.sort() returns array with values in ascending order\n",
        "\n",
        "\n",
        "\"\"\"\n",
        "\n",
        "sorted_sales = np.sort(sales)\n",
        "\n",
        "sorted_sales"
      ],
      "metadata": {
        "colab": {
          "base_uri": "https://localhost:8080/"
        },
        "id": "DyEWwMeQXAf4",
        "outputId": "461c2a09-33fd-4a0e-f687-419dfb69d48b"
      },
      "execution_count": 339,
      "outputs": [
        {
          "output_type": "execute_result",
          "data": {
            "text/plain": [
              "array([100, 275, 300, 420, 446, 490, 520, 544, 569, 600])"
            ]
          },
          "metadata": {},
          "execution_count": 339
        }
      ]
    },
    {
      "cell_type": "code",
      "source": [
        "mat"
      ],
      "metadata": {
        "colab": {
          "base_uri": "https://localhost:8080/"
        },
        "id": "yl4bQNIXXcAf",
        "outputId": "f958949a-16f1-4ea9-cf17-04108c4464c4"
      },
      "execution_count": 340,
      "outputs": [
        {
          "output_type": "execute_result",
          "data": {
            "text/plain": [
              "array([[1., 2., 3., 4.],\n",
              "       [5., 6., 7., 8.]])"
            ]
          },
          "metadata": {},
          "execution_count": 340
        }
      ]
    },
    {
      "cell_type": "code",
      "source": [
        "np.sort(mat,axis=0)"
      ],
      "metadata": {
        "colab": {
          "base_uri": "https://localhost:8080/"
        },
        "id": "h5uMp1kxXnuf",
        "outputId": "47b5cc04-6af5-4849-d7ed-bc4aec484f15"
      },
      "execution_count": 341,
      "outputs": [
        {
          "output_type": "execute_result",
          "data": {
            "text/plain": [
              "array([[1., 2., 3., 4.],\n",
              "       [5., 6., 7., 8.]])"
            ]
          },
          "metadata": {},
          "execution_count": 341
        }
      ]
    },
    {
      "cell_type": "code",
      "source": [
        "# if we want to sort, but in descending order\n",
        "\n",
        "a4 = [1,0,4,5,6]\n",
        "\n",
        "b4 = sorted(a4,reverse=True)\n",
        "\n",
        "print(b4)"
      ],
      "metadata": {
        "colab": {
          "base_uri": "https://localhost:8080/"
        },
        "id": "uJ05h3-TXrZP",
        "outputId": "6543a919-1c91-4073-86c8-261c077402ae"
      },
      "execution_count": 342,
      "outputs": [
        {
          "output_type": "stream",
          "name": "stdout",
          "text": [
            "[6, 5, 4, 1, 0]\n"
          ]
        }
      ]
    },
    {
      "cell_type": "markdown",
      "source": [
        "## Reshaping the arrays"
      ],
      "metadata": {
        "id": "lmWoED2FYQIs"
      }
    },
    {
      "cell_type": "code",
      "source": [
        "print(sales )\n",
        "\n",
        "print(sales.shape)"
      ],
      "metadata": {
        "colab": {
          "base_uri": "https://localhost:8080/"
        },
        "id": "NbqJxNywYFBg",
        "outputId": "bf97c759-4f7f-4386-a970-197ca5abc18f"
      },
      "execution_count": 343,
      "outputs": [
        {
          "output_type": "stream",
          "name": "stdout",
          "text": [
            "[600 569 544 520 490 446 420 300 275 100]\n",
            "(10,)\n"
          ]
        }
      ]
    },
    {
      "cell_type": "code",
      "source": [
        "reshaped_sales = sales.reshape(5,2)\n",
        "\n",
        "reshaped_sales"
      ],
      "metadata": {
        "colab": {
          "base_uri": "https://localhost:8080/"
        },
        "id": "fxLagPGcYYPP",
        "outputId": "aa5b5330-e53a-4725-e7a1-66ff7585c0b6"
      },
      "execution_count": 344,
      "outputs": [
        {
          "output_type": "execute_result",
          "data": {
            "text/plain": [
              "array([[600, 569],\n",
              "       [544, 520],\n",
              "       [490, 446],\n",
              "       [420, 300],\n",
              "       [275, 100]])"
            ]
          },
          "metadata": {},
          "execution_count": 344
        }
      ]
    },
    {
      "cell_type": "code",
      "source": [
        "reshaped_sales1 = sales.reshape(3,4)"
      ],
      "metadata": {
        "colab": {
          "base_uri": "https://localhost:8080/",
          "height": 141
        },
        "id": "ds8huiA4YjGY",
        "outputId": "c7e0a34d-83b3-4a2a-85ed-9fb4c5b12238"
      },
      "execution_count": 345,
      "outputs": [
        {
          "output_type": "error",
          "ename": "ValueError",
          "evalue": "cannot reshape array of size 10 into shape (3,4)",
          "traceback": [
            "\u001b[0;31m---------------------------------------------------------------------------\u001b[0m",
            "\u001b[0;31mValueError\u001b[0m                                Traceback (most recent call last)",
            "\u001b[0;32m<ipython-input-345-f2626f54b798>\u001b[0m in \u001b[0;36m<cell line: 0>\u001b[0;34m()\u001b[0m\n\u001b[0;32m----> 1\u001b[0;31m \u001b[0mreshaped_sales1\u001b[0m \u001b[0;34m=\u001b[0m \u001b[0msales\u001b[0m\u001b[0;34m.\u001b[0m\u001b[0mreshape\u001b[0m\u001b[0;34m(\u001b[0m\u001b[0;36m3\u001b[0m\u001b[0;34m,\u001b[0m\u001b[0;36m4\u001b[0m\u001b[0;34m)\u001b[0m\u001b[0;34m\u001b[0m\u001b[0;34m\u001b[0m\u001b[0m\n\u001b[0m",
            "\u001b[0;31mValueError\u001b[0m: cannot reshape array of size 10 into shape (3,4)"
          ]
        }
      ]
    },
    {
      "cell_type": "markdown",
      "source": [
        "## shape must be choosen accordingly, or else it wil throw an error like this"
      ],
      "metadata": {
        "id": "hTvXoXE1Yweo"
      }
    },
    {
      "cell_type": "code",
      "source": [
        "reshaped_sales2 = sales.reshape(2,5)\n",
        "\n",
        "reshaped_sales2"
      ],
      "metadata": {
        "id": "BNlhbzwbYoVH"
      },
      "execution_count": null,
      "outputs": []
    },
    {
      "cell_type": "markdown",
      "source": [],
      "metadata": {
        "id": "TXQy78m-pngb"
      }
    },
    {
      "cell_type": "code",
      "source": [],
      "metadata": {
        "id": "E1L1hMDzYuiA"
      },
      "execution_count": 345,
      "outputs": []
    },
    {
      "cell_type": "markdown",
      "source": [
        "### RESIZE"
      ],
      "metadata": {
        "id": "4S8sW2cpY9If"
      }
    },
    {
      "cell_type": "code",
      "source": [
        "# Numpy also has resize function, similar to reshape() function\n",
        "\n",
        "\"\"\"\n",
        "\n",
        "the only difference being resize() function changes the original array instead of creating a new copy.\n",
        "\n",
        "\n",
        "\"\"\"\n"
      ],
      "metadata": {
        "colab": {
          "base_uri": "https://localhost:8080/",
          "height": 35
        },
        "id": "cxRCpCYYY_Dl",
        "outputId": "9b2a6463-be78-416f-e164-c0ac15f5f5ae"
      },
      "execution_count": 346,
      "outputs": [
        {
          "output_type": "execute_result",
          "data": {
            "text/plain": [
              "'\\n\\nthe only difference being resize() function changes the original array instead of creating a new copy.\\n\\n\\n'"
            ],
            "application/vnd.google.colaboratory.intrinsic+json": {
              "type": "string"
            }
          },
          "metadata": {},
          "execution_count": 346
        }
      ]
    },
    {
      "cell_type": "code",
      "source": [
        "# TRANSPOSE\n",
        "\n",
        "a5 = np.array([[9,5,7],[6,3,10]])\n",
        "a5"
      ],
      "metadata": {
        "colab": {
          "base_uri": "https://localhost:8080/"
        },
        "id": "sY0RYmaMZZTX",
        "outputId": "ae4941bb-3bc3-494e-dc54-bde0a59f47d1"
      },
      "execution_count": 347,
      "outputs": [
        {
          "output_type": "execute_result",
          "data": {
            "text/plain": [
              "array([[ 9,  5,  7],\n",
              "       [ 6,  3, 10]])"
            ]
          },
          "metadata": {},
          "execution_count": 347
        }
      ]
    },
    {
      "cell_type": "code",
      "source": [
        "print(a5.shape)\n"
      ],
      "metadata": {
        "colab": {
          "base_uri": "https://localhost:8080/"
        },
        "id": "CliUb6phZllX",
        "outputId": "d650b00c-f44d-41bb-9885-b2b036ab9646"
      },
      "execution_count": 348,
      "outputs": [
        {
          "output_type": "stream",
          "name": "stdout",
          "text": [
            "(2, 3)\n"
          ]
        }
      ]
    },
    {
      "cell_type": "code",
      "source": [
        "print(a5.ndim)"
      ],
      "metadata": {
        "colab": {
          "base_uri": "https://localhost:8080/"
        },
        "id": "a3IqX4nIZoq3",
        "outputId": "37e54e12-6344-4048-b2dd-0789dcbe679d"
      },
      "execution_count": 349,
      "outputs": [
        {
          "output_type": "stream",
          "name": "stdout",
          "text": [
            "2\n"
          ]
        }
      ]
    },
    {
      "cell_type": "code",
      "source": [
        "b5 = a5.T\n",
        "\n",
        "print(b5)\n",
        "print(\"\\n\")\n",
        "print(b5.shape)\n",
        "print(\"\\n\")\n",
        "\n",
        "print(b5.ndim)"
      ],
      "metadata": {
        "colab": {
          "base_uri": "https://localhost:8080/"
        },
        "id": "KsfrNKCFZrCm",
        "outputId": "f6f21038-2030-4bb3-ef49-7038741ab079"
      },
      "execution_count": 350,
      "outputs": [
        {
          "output_type": "stream",
          "name": "stdout",
          "text": [
            "[[ 9  6]\n",
            " [ 5  3]\n",
            " [ 7 10]]\n",
            "\n",
            "\n",
            "(3, 2)\n",
            "\n",
            "\n",
            "2\n"
          ]
        }
      ]
    },
    {
      "cell_type": "code",
      "source": [
        "transposed_sales = reshaped_sales.T\n",
        "\n",
        "print(reshaped_sales.shape)\n",
        "\n",
        "print(transposed_sales.shape)"
      ],
      "metadata": {
        "colab": {
          "base_uri": "https://localhost:8080/"
        },
        "id": "waKK6YdwZ97Q",
        "outputId": "5596b606-4bfd-4b9b-ba15-1589a97ba2e4"
      },
      "execution_count": 351,
      "outputs": [
        {
          "output_type": "stream",
          "name": "stdout",
          "text": [
            "(5, 2)\n",
            "(2, 5)\n"
          ]
        }
      ]
    },
    {
      "cell_type": "code",
      "source": [
        "reshaped_sales"
      ],
      "metadata": {
        "colab": {
          "base_uri": "https://localhost:8080/"
        },
        "id": "1mXvyk7aaLXr",
        "outputId": "b05f3ae0-8460-4287-a1f9-2b10bf9afbc2"
      },
      "execution_count": 352,
      "outputs": [
        {
          "output_type": "execute_result",
          "data": {
            "text/plain": [
              "array([[600, 569],\n",
              "       [544, 520],\n",
              "       [490, 446],\n",
              "       [420, 300],\n",
              "       [275, 100]])"
            ]
          },
          "metadata": {},
          "execution_count": 352
        }
      ]
    },
    {
      "cell_type": "code",
      "source": [
        "transposed_sales"
      ],
      "metadata": {
        "colab": {
          "base_uri": "https://localhost:8080/"
        },
        "id": "f3P4aIxoZ0iv",
        "outputId": "f74f4aaf-cd5f-4c27-cf57-18bc157b4cdb"
      },
      "execution_count": 353,
      "outputs": [
        {
          "output_type": "execute_result",
          "data": {
            "text/plain": [
              "array([[600, 544, 490, 420, 275],\n",
              "       [569, 520, 446, 300, 100]])"
            ]
          },
          "metadata": {},
          "execution_count": 353
        }
      ]
    },
    {
      "cell_type": "code",
      "source": [
        "# after the analysis, we want to flatten the matrix back to 1D AArray for reporting.\n",
        "\n",
        "\"\"\"\n",
        "\n",
        "with the aid of Flatten function, this can be done.\n",
        "\n",
        "Flatten function converts a multi dimensional array into a 1D array.\n",
        "\n",
        "the original array does not change, because the flatten function makes a deep copy. instead of over writing.\n",
        "\n",
        "\"\"\"\n",
        "\n",
        "a6 = np.array([[1,2,3],[4,5,6],[7,8,9]])\n",
        "\n",
        "a6"
      ],
      "metadata": {
        "colab": {
          "base_uri": "https://localhost:8080/"
        },
        "id": "_e7kCxvdaKbH",
        "outputId": "438fa73a-540f-4d86-d6e2-bbd6afe774dd"
      },
      "execution_count": 354,
      "outputs": [
        {
          "output_type": "execute_result",
          "data": {
            "text/plain": [
              "array([[1, 2, 3],\n",
              "       [4, 5, 6],\n",
              "       [7, 8, 9]])"
            ]
          },
          "metadata": {},
          "execution_count": 354
        }
      ]
    },
    {
      "cell_type": "code",
      "source": [
        "flattened_a6 = a6.flatten()\n",
        "\n",
        "print(a6.shape)\n",
        "\n",
        "print(flattened_a6.shape)"
      ],
      "metadata": {
        "colab": {
          "base_uri": "https://localhost:8080/"
        },
        "id": "yty77oRMa71G",
        "outputId": "5d2b1d40-c4f2-40e9-ba54-5cea176b85ea"
      },
      "execution_count": 355,
      "outputs": [
        {
          "output_type": "stream",
          "name": "stdout",
          "text": [
            "(3, 3)\n",
            "(9,)\n"
          ]
        }
      ]
    },
    {
      "cell_type": "code",
      "source": [
        "flattened_sales = transposed_sales.flatten()\n",
        "\n",
        "flattened_sales"
      ],
      "metadata": {
        "colab": {
          "base_uri": "https://localhost:8080/"
        },
        "id": "JRxEQmj0bJ0O",
        "outputId": "87daafd5-8b0d-4b71-d09c-a2f1ec26073a"
      },
      "execution_count": 356,
      "outputs": [
        {
          "output_type": "execute_result",
          "data": {
            "text/plain": [
              "array([600, 544, 490, 420, 275, 569, 520, 446, 300, 100])"
            ]
          },
          "metadata": {},
          "execution_count": 356
        }
      ]
    },
    {
      "cell_type": "code",
      "source": [
        "flattened_sales.shape"
      ],
      "metadata": {
        "colab": {
          "base_uri": "https://localhost:8080/"
        },
        "id": "SHKLZ5SWbRw2",
        "outputId": "fdaa3118-f791-4c8f-879e-bcc102e54573"
      },
      "execution_count": 357,
      "outputs": [
        {
          "output_type": "execute_result",
          "data": {
            "text/plain": [
              "(10,)"
            ]
          },
          "metadata": {},
          "execution_count": 357
        }
      ]
    },
    {
      "cell_type": "code",
      "source": [
        "# RAVEL FUNCTION\n",
        "\n",
        "\"\"\"\n",
        "\n",
        "Numpy also has ravel() function which is similar to flatten function.\n",
        "\n",
        "the only difference being, ravel() function changes the original array because it makes a shallow copy.\n",
        "\n",
        "whereas flatten() makes a deep copy.\n",
        "\n",
        "\n",
        "\"\"\"\n",
        "\n"
      ],
      "metadata": {
        "colab": {
          "base_uri": "https://localhost:8080/",
          "height": 53
        },
        "id": "ecTRIkCebTsV",
        "outputId": "7a214c91-3c50-4904-e841-88b19acb9a9f"
      },
      "execution_count": 358,
      "outputs": [
        {
          "output_type": "execute_result",
          "data": {
            "text/plain": [
              "'\\n\\nNumpy also has ravel() function which is similar to flatten function.\\n\\nthe only difference being, ravel() function changes the original array because it makes a shallow copy.\\n\\nwhereas flatten() makes a deep copy.\\n\\n\\n'"
            ],
            "application/vnd.google.colaboratory.intrinsic+json": {
              "type": "string"
            }
          },
          "metadata": {},
          "execution_count": 358
        }
      ]
    },
    {
      "cell_type": "code",
      "source": [
        "# combine sales and production data into a single array for comparision\n",
        "\n",
        "\"\"\"\n",
        "\n",
        "in the last step you bring togther sales and production data t make comprehensive and comparitive analyses for future strategy formulation.\n",
        "\n",
        "This can be solved using vstack function in numpy.\n",
        "\n",
        "similarly, hstack() function returns an array, where arrays provided as arguments are stacked horizontaly beside each other., by stacking\n",
        "this way number of rows stay same, while the number of columns increases.\n",
        "\n",
        "\n",
        "\"\"\"\n",
        "\n"
      ],
      "metadata": {
        "colab": {
          "base_uri": "https://localhost:8080/",
          "height": 70
        },
        "id": "psIpR8Y9bycE",
        "outputId": "003889fc-342b-43fb-f059-f27d1c09472b"
      },
      "execution_count": 359,
      "outputs": [
        {
          "output_type": "execute_result",
          "data": {
            "text/plain": [
              "'\\n\\nin the last step you bring togther sales and production data t make comprehensive and comparitive analyses for future strategy formulation.\\n\\nThis can be solved using vstack function in numpy.\\n\\nsimilarly, hstack() function returns an array, where arrays provided as arguments are stacked horizontaly beside each other., by stacking \\nthis way number of rows stay same, while the number of columns increases.\\n\\n\\n'"
            ],
            "application/vnd.google.colaboratory.intrinsic+json": {
              "type": "string"
            }
          },
          "metadata": {},
          "execution_count": 359
        }
      ]
    },
    {
      "cell_type": "code",
      "source": [
        "a7 = np.array([[1,2,3],[4,5,6]])\n",
        "\n",
        "b7 = np.array([[7,8,9],[0,0,1]])\n",
        "\n",
        "print(\"a7 array is\")\n",
        "print(a7)\n",
        "print(\" \")\n",
        "print(\"b7 array is\")\n",
        "print(b7)"
      ],
      "metadata": {
        "colab": {
          "base_uri": "https://localhost:8080/"
        },
        "id": "3v3Cb3k7cxY-",
        "outputId": "ee155ddf-74e7-4f04-d5e7-2f3d2a356a4f"
      },
      "execution_count": 360,
      "outputs": [
        {
          "output_type": "stream",
          "name": "stdout",
          "text": [
            "a7 array is\n",
            "[[1 2 3]\n",
            " [4 5 6]]\n",
            " \n",
            "b7 array is\n",
            "[[7 8 9]\n",
            " [0 0 1]]\n"
          ]
        }
      ]
    },
    {
      "cell_type": "code",
      "source": [
        "c7 = np.vstack([a7,b7])"
      ],
      "metadata": {
        "id": "rR9tuWj_c3ve"
      },
      "execution_count": 361,
      "outputs": []
    },
    {
      "cell_type": "code",
      "source": [
        "c7"
      ],
      "metadata": {
        "colab": {
          "base_uri": "https://localhost:8080/"
        },
        "id": "UJfYsi0lc9Rc",
        "outputId": "395eeb79-9a6b-4171-8cd8-2f4991ac6b1c"
      },
      "execution_count": 362,
      "outputs": [
        {
          "output_type": "execute_result",
          "data": {
            "text/plain": [
              "array([[1, 2, 3],\n",
              "       [4, 5, 6],\n",
              "       [7, 8, 9],\n",
              "       [0, 0, 1]])"
            ]
          },
          "metadata": {},
          "execution_count": 362
        }
      ]
    },
    {
      "cell_type": "code",
      "source": [
        "combined_data_vertical = np.vstack([sales, production])\n",
        "\n",
        "combined_data_vertical"
      ],
      "metadata": {
        "colab": {
          "base_uri": "https://localhost:8080/"
        },
        "id": "PPhSIFQRdBMd",
        "outputId": "4654653b-2841-4938-d52d-de77cccaf286"
      },
      "execution_count": 363,
      "outputs": [
        {
          "output_type": "execute_result",
          "data": {
            "text/plain": [
              "array([[600, 569, 544, 520, 490, 446, 420, 300, 275, 100],\n",
              "       [540, 780, 696, 576, 600, 552, 360, 600, 708, 540]])"
            ]
          },
          "metadata": {},
          "execution_count": 363
        }
      ]
    },
    {
      "cell_type": "code",
      "source": [
        "# splitting array\n",
        "\n",
        "a8 = np.array([1,2,3,4,5,6])\n",
        "\n",
        "np.split(a8,2)"
      ],
      "metadata": {
        "colab": {
          "base_uri": "https://localhost:8080/"
        },
        "id": "8VPeT2z-dMIt",
        "outputId": "dd923dbd-bded-4b17-8c5d-dd8f443fcb37"
      },
      "execution_count": 364,
      "outputs": [
        {
          "output_type": "execute_result",
          "data": {
            "text/plain": [
              "[array([1, 2, 3]), array([4, 5, 6])]"
            ]
          },
          "metadata": {},
          "execution_count": 364
        }
      ]
    },
    {
      "cell_type": "code",
      "source": [
        "a9 = np.array([1,2,3,4,5,6])\n",
        "\n",
        "np.split(a9,4)"
      ],
      "metadata": {
        "colab": {
          "base_uri": "https://localhost:8080/",
          "height": 297
        },
        "id": "pMlVtWfLdaBq",
        "outputId": "473a8d32-09cf-4099-d193-1f41e6fdc41d"
      },
      "execution_count": 365,
      "outputs": [
        {
          "output_type": "error",
          "ename": "ValueError",
          "evalue": "array split does not result in an equal division",
          "traceback": [
            "\u001b[0;31m---------------------------------------------------------------------------\u001b[0m",
            "\u001b[0;31mValueError\u001b[0m                                Traceback (most recent call last)",
            "\u001b[0;32m<ipython-input-365-21e1dfa28131>\u001b[0m in \u001b[0;36m<cell line: 0>\u001b[0;34m()\u001b[0m\n\u001b[1;32m      1\u001b[0m \u001b[0ma9\u001b[0m \u001b[0;34m=\u001b[0m \u001b[0mnp\u001b[0m\u001b[0;34m.\u001b[0m\u001b[0marray\u001b[0m\u001b[0;34m(\u001b[0m\u001b[0;34m[\u001b[0m\u001b[0;36m1\u001b[0m\u001b[0;34m,\u001b[0m\u001b[0;36m2\u001b[0m\u001b[0;34m,\u001b[0m\u001b[0;36m3\u001b[0m\u001b[0;34m,\u001b[0m\u001b[0;36m4\u001b[0m\u001b[0;34m,\u001b[0m\u001b[0;36m5\u001b[0m\u001b[0;34m,\u001b[0m\u001b[0;36m6\u001b[0m\u001b[0;34m]\u001b[0m\u001b[0;34m)\u001b[0m\u001b[0;34m\u001b[0m\u001b[0;34m\u001b[0m\u001b[0m\n\u001b[1;32m      2\u001b[0m \u001b[0;34m\u001b[0m\u001b[0m\n\u001b[0;32m----> 3\u001b[0;31m \u001b[0mnp\u001b[0m\u001b[0;34m.\u001b[0m\u001b[0msplit\u001b[0m\u001b[0;34m(\u001b[0m\u001b[0ma9\u001b[0m\u001b[0;34m,\u001b[0m\u001b[0;36m4\u001b[0m\u001b[0;34m)\u001b[0m\u001b[0;34m\u001b[0m\u001b[0;34m\u001b[0m\u001b[0m\n\u001b[0m",
            "\u001b[0;32m/usr/local/lib/python3.11/dist-packages/numpy/lib/shape_base.py\u001b[0m in \u001b[0;36msplit\u001b[0;34m(ary, indices_or_sections, axis)\u001b[0m\n\u001b[1;32m    862\u001b[0m         \u001b[0mN\u001b[0m \u001b[0;34m=\u001b[0m \u001b[0mary\u001b[0m\u001b[0;34m.\u001b[0m\u001b[0mshape\u001b[0m\u001b[0;34m[\u001b[0m\u001b[0maxis\u001b[0m\u001b[0;34m]\u001b[0m\u001b[0;34m\u001b[0m\u001b[0;34m\u001b[0m\u001b[0m\n\u001b[1;32m    863\u001b[0m         \u001b[0;32mif\u001b[0m \u001b[0mN\u001b[0m \u001b[0;34m%\u001b[0m \u001b[0msections\u001b[0m\u001b[0;34m:\u001b[0m\u001b[0;34m\u001b[0m\u001b[0;34m\u001b[0m\u001b[0m\n\u001b[0;32m--> 864\u001b[0;31m             raise ValueError(\n\u001b[0m\u001b[1;32m    865\u001b[0m                 'array split does not result in an equal division') from None\n\u001b[1;32m    866\u001b[0m     \u001b[0;32mreturn\u001b[0m \u001b[0marray_split\u001b[0m\u001b[0;34m(\u001b[0m\u001b[0mary\u001b[0m\u001b[0;34m,\u001b[0m \u001b[0mindices_or_sections\u001b[0m\u001b[0;34m,\u001b[0m \u001b[0maxis\u001b[0m\u001b[0;34m)\u001b[0m\u001b[0;34m\u001b[0m\u001b[0;34m\u001b[0m\u001b[0m\n",
            "\u001b[0;31mValueError\u001b[0m: array split does not result in an equal division"
          ]
        }
      ]
    },
    {
      "cell_type": "code",
      "source": [
        "a10 = np.array([1,2,3,4,5,6])\n",
        "\n",
        "np.split(a10,6)"
      ],
      "metadata": {
        "colab": {
          "base_uri": "https://localhost:8080/"
        },
        "id": "Y_AeOcIhddbK",
        "outputId": "f877ae6e-b1a9-4501-d15c-592532cde71f"
      },
      "execution_count": 377,
      "outputs": [
        {
          "output_type": "execute_result",
          "data": {
            "text/plain": [
              "[array([1]), array([2]), array([3]), array([4]), array([5]), array([6])]"
            ]
          },
          "metadata": {},
          "execution_count": 377
        }
      ]
    },
    {
      "cell_type": "code",
      "source": [
        "x2 = np.arange(16.0)\n",
        "\n",
        "np.split(x2, np.array([3,6,9]))"
      ],
      "metadata": {
        "colab": {
          "base_uri": "https://localhost:8080/"
        },
        "id": "OoLhOkhodklc",
        "outputId": "56c007b0-003e-4ffc-83c3-f93558c34944"
      },
      "execution_count": 378,
      "outputs": [
        {
          "output_type": "execute_result",
          "data": {
            "text/plain": [
              "[array([0., 1., 2.]),\n",
              " array([3., 4., 5.]),\n",
              " array([6., 7., 8.]),\n",
              " array([ 9., 10., 11., 12., 13., 14., 15.])]"
            ]
          },
          "metadata": {},
          "execution_count": 378
        }
      ]
    },
    {
      "cell_type": "code",
      "source": [
        "# how to split array vertically..?\n",
        "\n",
        "a11 = np.array([[1,2,3],[4,5,6],[0,1,3],[4,1,3]])\n",
        "\n",
        "print(a11)"
      ],
      "metadata": {
        "colab": {
          "base_uri": "https://localhost:8080/"
        },
        "id": "dVdy8Ic3dvub",
        "outputId": "4bda40f8-60d2-46aa-e9c4-a67aef9600a4"
      },
      "execution_count": 379,
      "outputs": [
        {
          "output_type": "stream",
          "name": "stdout",
          "text": [
            "[[1 2 3]\n",
            " [4 5 6]\n",
            " [0 1 3]\n",
            " [4 1 3]]\n"
          ]
        }
      ]
    },
    {
      "cell_type": "code",
      "source": [
        "b11 = np.vsplit(a11, 2)"
      ],
      "metadata": {
        "id": "OAUmste9eLi7"
      },
      "execution_count": 380,
      "outputs": []
    },
    {
      "cell_type": "code",
      "source": [
        "b11"
      ],
      "metadata": {
        "colab": {
          "base_uri": "https://localhost:8080/"
        },
        "id": "gPSU1dwveQzE",
        "outputId": "5f85190f-ccd4-45c3-aaf1-9ff85250899b"
      },
      "execution_count": 381,
      "outputs": [
        {
          "output_type": "execute_result",
          "data": {
            "text/plain": [
              "[array([[1, 2, 3],\n",
              "        [4, 5, 6]]),\n",
              " array([[0, 1, 3],\n",
              "        [4, 1, 3]])]"
            ]
          },
          "metadata": {},
          "execution_count": 381
        }
      ]
    },
    {
      "cell_type": "code",
      "source": [
        "\"\"\"\n",
        "\n",
        "for vsplit to work, array must be atleast 2 dimensional.\n",
        "\n",
        "the number of rows must be divisible by the number of splits you want to perform.\n",
        "\n",
        "\"\"\""
      ],
      "metadata": {
        "colab": {
          "base_uri": "https://localhost:8080/",
          "height": 35
        },
        "id": "s5HClRuheRsB",
        "outputId": "5885ed05-41e2-4f11-d87f-ed88b762fef2"
      },
      "execution_count": 382,
      "outputs": [
        {
          "output_type": "execute_result",
          "data": {
            "text/plain": [
              "'\\n\\nfor vsplit to work, array must be atleast 2 dimensional.\\n\\nthe number of rows must be divisible by the number of splits you want to perform.\\n\\n'"
            ],
            "application/vnd.google.colaboratory.intrinsic+json": {
              "type": "string"
            }
          },
          "metadata": {},
          "execution_count": 382
        }
      ]
    },
    {
      "cell_type": "code",
      "source": [
        "x3 = np.arange(16)"
      ],
      "metadata": {
        "id": "rXUxYUaBenJJ"
      },
      "execution_count": 383,
      "outputs": []
    },
    {
      "cell_type": "code",
      "source": [
        "x3"
      ],
      "metadata": {
        "colab": {
          "base_uri": "https://localhost:8080/"
        },
        "id": "UmgbyjjuermB",
        "outputId": "447f1cc8-9069-4b4a-e0e7-64f600daec20"
      },
      "execution_count": 384,
      "outputs": [
        {
          "output_type": "execute_result",
          "data": {
            "text/plain": [
              "array([ 0,  1,  2,  3,  4,  5,  6,  7,  8,  9, 10, 11, 12, 13, 14, 15])"
            ]
          },
          "metadata": {},
          "execution_count": 384
        }
      ]
    },
    {
      "cell_type": "code",
      "source": [
        "x3.reshape(4,4)"
      ],
      "metadata": {
        "colab": {
          "base_uri": "https://localhost:8080/"
        },
        "id": "XypHlSaqet0L",
        "outputId": "956502f5-8b2e-459f-c7a0-df3058f566c7"
      },
      "execution_count": 385,
      "outputs": [
        {
          "output_type": "execute_result",
          "data": {
            "text/plain": [
              "array([[ 0,  1,  2,  3],\n",
              "       [ 4,  5,  6,  7],\n",
              "       [ 8,  9, 10, 11],\n",
              "       [12, 13, 14, 15]])"
            ]
          },
          "metadata": {},
          "execution_count": 385
        }
      ]
    },
    {
      "cell_type": "code",
      "source": [
        "# CONCATENATE\n",
        "\n",
        "\"\"\"\n",
        "\n",
        "concatenate function in numpy joins a sequence of arrays along an existing axis.\n",
        "\n",
        "\"\"\"\n"
      ],
      "metadata": {
        "colab": {
          "base_uri": "https://localhost:8080/",
          "height": 35
        },
        "id": "u84JNIvsexsk",
        "outputId": "7adde350-8641-4ca3-e88b-d7b1abdc4403"
      },
      "execution_count": 386,
      "outputs": [
        {
          "output_type": "execute_result",
          "data": {
            "text/plain": [
              "'\\n\\nconcatenate function in numpy joins a sequence of arrays along an existing axis.\\n\\n'"
            ],
            "application/vnd.google.colaboratory.intrinsic+json": {
              "type": "string"
            }
          },
          "metadata": {},
          "execution_count": 386
        }
      ]
    },
    {
      "cell_type": "code",
      "source": [
        "a12 = np.array([[1,2,4],[4,5,6]])\n",
        "\n",
        "b12 = np.array([[0,1,2],[3,4,6]])\n",
        "\n",
        "print(a12)\n",
        "print(\" \")\n",
        "print(b12)\n"
      ],
      "metadata": {
        "colab": {
          "base_uri": "https://localhost:8080/"
        },
        "id": "jfLIZiYfe98b",
        "outputId": "bfc3aa1c-c97c-4e2b-d208-80ce10c7580a"
      },
      "execution_count": 387,
      "outputs": [
        {
          "output_type": "stream",
          "name": "stdout",
          "text": [
            "[[1 2 4]\n",
            " [4 5 6]]\n",
            " \n",
            "[[0 1 2]\n",
            " [3 4 6]]\n"
          ]
        }
      ]
    },
    {
      "cell_type": "code",
      "source": [
        "c12 = np.concatenate((a12, b12))"
      ],
      "metadata": {
        "id": "lE4Xa6yxfa1t"
      },
      "execution_count": 388,
      "outputs": []
    },
    {
      "cell_type": "code",
      "source": [
        "c12"
      ],
      "metadata": {
        "colab": {
          "base_uri": "https://localhost:8080/"
        },
        "id": "kMLBqKZSfhgR",
        "outputId": "d344c47e-c4e4-4126-ff66-4fba2f162e62"
      },
      "execution_count": 389,
      "outputs": [
        {
          "output_type": "execute_result",
          "data": {
            "text/plain": [
              "array([[1, 2, 4],\n",
              "       [4, 5, 6],\n",
              "       [0, 1, 2],\n",
              "       [3, 4, 6]])"
            ]
          },
          "metadata": {},
          "execution_count": 389
        }
      ]
    },
    {
      "cell_type": "code",
      "source": [
        "c12 = np.concatenate((a12,b12),axis=0)\n",
        "c12"
      ],
      "metadata": {
        "colab": {
          "base_uri": "https://localhost:8080/"
        },
        "id": "KOx3XjD3fi-j",
        "outputId": "14fdda7e-4d47-40e9-b074-89e658e3a642"
      },
      "execution_count": 390,
      "outputs": [
        {
          "output_type": "execute_result",
          "data": {
            "text/plain": [
              "array([[1, 2, 4],\n",
              "       [4, 5, 6],\n",
              "       [0, 1, 2],\n",
              "       [3, 4, 6]])"
            ]
          },
          "metadata": {},
          "execution_count": 390
        }
      ]
    },
    {
      "cell_type": "code",
      "source": [
        "c12 = np.concatenate((a12,b12),axis=1)\n",
        "\n",
        "c12\n"
      ],
      "metadata": {
        "colab": {
          "base_uri": "https://localhost:8080/"
        },
        "id": "AJ7cal76fsGB",
        "outputId": "73fd0429-fbc4-4578-82b3-8ce2365640f0"
      },
      "execution_count": 391,
      "outputs": [
        {
          "output_type": "execute_result",
          "data": {
            "text/plain": [
              "array([[1, 2, 4, 0, 1, 2],\n",
              "       [4, 5, 6, 3, 4, 6]])"
            ]
          },
          "metadata": {},
          "execution_count": 391
        }
      ]
    },
    {
      "cell_type": "code",
      "source": [
        "# TRACE\n",
        "\n",
        "\"\"\"\n",
        "\n",
        "trace function computes the sum of diagonal elements in a square matrix.\n",
        "\n",
        "\"\"\"\n"
      ],
      "metadata": {
        "colab": {
          "base_uri": "https://localhost:8080/",
          "height": 35
        },
        "id": "_i-118nPfwuK",
        "outputId": "bbfdcbb7-a6f3-49b1-92b5-14c42dedcc87"
      },
      "execution_count": 392,
      "outputs": [
        {
          "output_type": "execute_result",
          "data": {
            "text/plain": [
              "'\\n\\ntrace function computes the sum of diagonal elements in a square matrix.\\n\\n'"
            ],
            "application/vnd.google.colaboratory.intrinsic+json": {
              "type": "string"
            }
          },
          "metadata": {},
          "execution_count": 392
        }
      ]
    },
    {
      "cell_type": "code",
      "source": [
        "a13 = np.array([[1,2,3],[4,5,6],[0,1,3]])\n",
        "print(a13)"
      ],
      "metadata": {
        "colab": {
          "base_uri": "https://localhost:8080/"
        },
        "id": "r-mxecq8f2dC",
        "outputId": "15dcba52-b8da-4255-844e-aa233bec0d01"
      },
      "execution_count": 393,
      "outputs": [
        {
          "output_type": "stream",
          "name": "stdout",
          "text": [
            "[[1 2 3]\n",
            " [4 5 6]\n",
            " [0 1 3]]\n"
          ]
        }
      ]
    },
    {
      "cell_type": "code",
      "source": [
        "a13_trace = np.trace(a13)\n",
        "\n",
        "a13_trace"
      ],
      "metadata": {
        "colab": {
          "base_uri": "https://localhost:8080/"
        },
        "id": "5Yi6Vm-ggIW5",
        "outputId": "bea6451d-dd17-4b80-833b-512e908102ab"
      },
      "execution_count": 394,
      "outputs": [
        {
          "output_type": "execute_result",
          "data": {
            "text/plain": [
              "9"
            ]
          },
          "metadata": {},
          "execution_count": 394
        }
      ]
    },
    {
      "cell_type": "code",
      "source": [
        "# calculating trace for secondary diagonal\n",
        "\n",
        "a14_trace = np.trace(a13[::-1])\n",
        "\n",
        "a14_trace"
      ],
      "metadata": {
        "colab": {
          "base_uri": "https://localhost:8080/"
        },
        "id": "mRJLVNr8gO4j",
        "outputId": "c6c2bfed-356d-4bd7-b47a-53686bdb2b97"
      },
      "execution_count": 395,
      "outputs": [
        {
          "output_type": "execute_result",
          "data": {
            "text/plain": [
              "8"
            ]
          },
          "metadata": {},
          "execution_count": 395
        }
      ]
    },
    {
      "cell_type": "markdown",
      "source": [
        "# RANDOM"
      ],
      "metadata": {
        "id": "CUhKtqY0gkA0"
      }
    },
    {
      "cell_type": "code",
      "source": [
        "\"\"\"\n",
        "\n",
        "random function in numpy generates random numbers.\n",
        "\n",
        "\"\"\""
      ],
      "metadata": {
        "colab": {
          "base_uri": "https://localhost:8080/",
          "height": 35
        },
        "id": "izxQR9jwghsr",
        "outputId": "18df4fa3-1732-4d07-a9f1-f9c967eb7e4a"
      },
      "execution_count": 396,
      "outputs": [
        {
          "output_type": "execute_result",
          "data": {
            "text/plain": [
              "'\\n\\nrandom function in numpy generates random numbers.\\n\\n'"
            ],
            "application/vnd.google.colaboratory.intrinsic+json": {
              "type": "string"
            }
          },
          "metadata": {},
          "execution_count": 396
        }
      ]
    },
    {
      "cell_type": "code",
      "source": [
        "np.random.randint(6)"
      ],
      "metadata": {
        "colab": {
          "base_uri": "https://localhost:8080/"
        },
        "id": "G9DG2fnNgujZ",
        "outputId": "09726622-b242-4c65-f0f9-2d99101750c1"
      },
      "execution_count": 397,
      "outputs": [
        {
          "output_type": "execute_result",
          "data": {
            "text/plain": [
              "4"
            ]
          },
          "metadata": {},
          "execution_count": 397
        }
      ]
    },
    {
      "cell_type": "code",
      "source": [
        "np.random.randint(100,size=(5))"
      ],
      "metadata": {
        "colab": {
          "base_uri": "https://localhost:8080/"
        },
        "id": "XVYvby3ngyej",
        "outputId": "d6fc3882-84bf-405b-b012-36105d8fcd61"
      },
      "execution_count": 398,
      "outputs": [
        {
          "output_type": "execute_result",
          "data": {
            "text/plain": [
              "array([91, 62, 61, 99, 74])"
            ]
          },
          "metadata": {},
          "execution_count": 398
        }
      ]
    },
    {
      "cell_type": "code",
      "source": [
        "np.random.randint(10,size=(10))"
      ],
      "metadata": {
        "colab": {
          "base_uri": "https://localhost:8080/"
        },
        "id": "Drkb06xyg9Yb",
        "outputId": "a02310a7-a0eb-4b13-e022-c11aaeebc17d"
      },
      "execution_count": 399,
      "outputs": [
        {
          "output_type": "execute_result",
          "data": {
            "text/plain": [
              "array([7, 1, 4, 7, 1, 9, 2, 2, 2, 3])"
            ]
          },
          "metadata": {},
          "execution_count": 399
        }
      ]
    },
    {
      "cell_type": "code",
      "source": [
        "np.random.randint(10,size=(3,3))"
      ],
      "metadata": {
        "colab": {
          "base_uri": "https://localhost:8080/"
        },
        "id": "zuNPwsOHhEKy",
        "outputId": "3d45f161-5107-4f89-d484-2a3c32ce00b2"
      },
      "execution_count": 400,
      "outputs": [
        {
          "output_type": "execute_result",
          "data": {
            "text/plain": [
              "array([[2, 8, 9],\n",
              "       [9, 2, 7],\n",
              "       [8, 2, 2]])"
            ]
          },
          "metadata": {},
          "execution_count": 400
        }
      ]
    },
    {
      "cell_type": "code",
      "source": [
        "np.random.randint(10,size=(5,4))"
      ],
      "metadata": {
        "colab": {
          "base_uri": "https://localhost:8080/"
        },
        "id": "c9GoIQ4bhIG6",
        "outputId": "45b55aa4-595a-4efc-b5b5-4f1c93d2fc6e"
      },
      "execution_count": 401,
      "outputs": [
        {
          "output_type": "execute_result",
          "data": {
            "text/plain": [
              "array([[4, 6, 5, 8],\n",
              "       [0, 9, 5, 6],\n",
              "       [2, 4, 0, 2],\n",
              "       [0, 1, 8, 2],\n",
              "       [2, 9, 4, 5]])"
            ]
          },
          "metadata": {},
          "execution_count": 401
        }
      ]
    },
    {
      "cell_type": "code",
      "source": [
        "# prints random number betwen 0 and 1\n",
        "np.random.rand()"
      ],
      "metadata": {
        "colab": {
          "base_uri": "https://localhost:8080/"
        },
        "id": "FgOzZzBLhKzx",
        "outputId": "b9d0c12d-68dd-4ff7-8ccd-c5d243f03135"
      },
      "execution_count": 402,
      "outputs": [
        {
          "output_type": "execute_result",
          "data": {
            "text/plain": [
              "0.375295363834814"
            ]
          },
          "metadata": {},
          "execution_count": 402
        }
      ]
    },
    {
      "cell_type": "code",
      "source": [
        "np.random.rand(3,4)"
      ],
      "metadata": {
        "colab": {
          "base_uri": "https://localhost:8080/"
        },
        "id": "3_a3WGiUhOZi",
        "outputId": "4bc569c0-623f-4e00-bd09-123a6e05cfad"
      },
      "execution_count": 403,
      "outputs": [
        {
          "output_type": "execute_result",
          "data": {
            "text/plain": [
              "array([[0.74533037, 0.8224802 , 0.10037594, 0.00709342],\n",
              "       [0.04697152, 0.73133398, 0.59474972, 0.85495919],\n",
              "       [0.38008746, 0.9128762 , 0.17336551, 0.0502582 ]])"
            ]
          },
          "metadata": {},
          "execution_count": 403
        }
      ]
    },
    {
      "cell_type": "code",
      "source": [
        "np.random.choice([11,5,4,8,69])"
      ],
      "metadata": {
        "colab": {
          "base_uri": "https://localhost:8080/"
        },
        "id": "iYoE7wxfhZZh",
        "outputId": "4e39fd9c-848f-4881-9d70-aff78100990f"
      },
      "execution_count": 404,
      "outputs": [
        {
          "output_type": "execute_result",
          "data": {
            "text/plain": [
              "4"
            ]
          },
          "metadata": {},
          "execution_count": 404
        }
      ]
    },
    {
      "cell_type": "code",
      "source": [
        "np.random.choice([3,5,6,78,8],size=(3,5))"
      ],
      "metadata": {
        "colab": {
          "base_uri": "https://localhost:8080/"
        },
        "id": "uNO2QEDXhkS_",
        "outputId": "717a12ca-ffdb-4994-e414-f09b88541590"
      },
      "execution_count": 405,
      "outputs": [
        {
          "output_type": "execute_result",
          "data": {
            "text/plain": [
              "array([[ 5,  6,  8, 78,  6],\n",
              "       [ 6, 78, 78,  8,  8],\n",
              "       [ 3,  3,  6,  8,  6]])"
            ]
          },
          "metadata": {},
          "execution_count": 405
        }
      ]
    },
    {
      "cell_type": "markdown",
      "source": [
        "## WHERE"
      ],
      "metadata": {
        "id": "2Hik43mMhoGQ"
      }
    },
    {
      "cell_type": "code",
      "source": [
        "\"\"\"\n",
        "\n",
        "The np.where function in NumPy is a versatile tool used for array manipulation. It can act as a conditional selector,\n",
        "a means to find indices where conditions are true, or as a way to replace elements based on a condition.\n",
        "\n",
        "\"\"\""
      ],
      "metadata": {
        "colab": {
          "base_uri": "https://localhost:8080/",
          "height": 53
        },
        "id": "KyUWU7hhhmy4",
        "outputId": "cf38bf40-48ba-4292-efe3-4996b986a5f6"
      },
      "execution_count": 406,
      "outputs": [
        {
          "output_type": "execute_result",
          "data": {
            "text/plain": [
              "'\\n\\nThe np.where function in NumPy is a versatile tool used for array manipulation. It can act as a conditional selector, \\na means to find indices where conditions are true, or as a way to replace elements based on a condition.\\n\\n'"
            ],
            "application/vnd.google.colaboratory.intrinsic+json": {
              "type": "string"
            }
          },
          "metadata": {},
          "execution_count": 406
        }
      ]
    },
    {
      "cell_type": "code",
      "source": [
        "a15 = np.random.rand(2,3)\n",
        "\n",
        "print(a15)"
      ],
      "metadata": {
        "colab": {
          "base_uri": "https://localhost:8080/"
        },
        "id": "MuY4GhSahvDa",
        "outputId": "e2da1d52-04bc-493b-9eff-d85b058f9947"
      },
      "execution_count": 407,
      "outputs": [
        {
          "output_type": "stream",
          "name": "stdout",
          "text": [
            "[[0.39199989 0.42101435 0.84756168]\n",
            " [0.65115536 0.93863021 0.91751409]]\n"
          ]
        }
      ]
    },
    {
      "cell_type": "code",
      "source": [
        "b15 = np.where( a15>0.5, a15, 0)\n",
        "\n",
        "print(b15)"
      ],
      "metadata": {
        "colab": {
          "base_uri": "https://localhost:8080/"
        },
        "id": "BFvYOMHLiAXB",
        "outputId": "2c14e865-5f3d-46cb-c9ed-f6cfb39fab76"
      },
      "execution_count": 408,
      "outputs": [
        {
          "output_type": "stream",
          "name": "stdout",
          "text": [
            "[[0.         0.         0.84756168]\n",
            " [0.65115536 0.93863021 0.91751409]]\n"
          ]
        }
      ]
    },
    {
      "cell_type": "code",
      "source": [
        "b15 = np.where( a15>0.5, a15*100, 1)\n",
        "\n",
        "print(b15)"
      ],
      "metadata": {
        "colab": {
          "base_uri": "https://localhost:8080/"
        },
        "id": "p-MTALV5iFlJ",
        "outputId": "41126607-ad67-4e55-9bfb-e03afe2f759b"
      },
      "execution_count": 409,
      "outputs": [
        {
          "output_type": "stream",
          "name": "stdout",
          "text": [
            "[[ 1.          1.         84.75616779]\n",
            " [65.11553645 93.86302092 91.75140911]]\n"
          ]
        }
      ]
    },
    {
      "cell_type": "code",
      "source": [
        "print(a15)"
      ],
      "metadata": {
        "colab": {
          "base_uri": "https://localhost:8080/"
        },
        "id": "Iu3FfGjoiKNP",
        "outputId": "d1a54e93-ddba-4ba3-bdb4-e1bd081adaa0"
      },
      "execution_count": 410,
      "outputs": [
        {
          "output_type": "stream",
          "name": "stdout",
          "text": [
            "[[0.39199989 0.42101435 0.84756168]\n",
            " [0.65115536 0.93863021 0.91751409]]\n"
          ]
        }
      ]
    },
    {
      "cell_type": "code",
      "source": [
        "b15 = np.where(a15>0.5)\n",
        "\n",
        "print(b15)"
      ],
      "metadata": {
        "colab": {
          "base_uri": "https://localhost:8080/"
        },
        "id": "qYNm6kByiN9e",
        "outputId": "53a890c3-42a9-4521-a308-73d101248491"
      },
      "execution_count": 411,
      "outputs": [
        {
          "output_type": "stream",
          "name": "stdout",
          "text": [
            "(array([0, 1, 1, 1]), array([2, 0, 1, 2]))\n"
          ]
        }
      ]
    },
    {
      "cell_type": "markdown",
      "source": [
        "### CASE STUDY"
      ],
      "metadata": {
        "id": "w5dhCywMiXEt"
      }
    },
    {
      "cell_type": "code",
      "source": [
        "# Customer data (height in inches, weight in pounds)\n",
        "customer_list = [(74, 180), (74, 215), (72, 210), (72, 210), (73, 188), (69, 176), (69, 209),\n",
        "                 (71, 200), (76, 231), (71, 180), (73, 188), (73, 180), (74, 185), (74, 160),\n",
        "                 (69, 180)]\n",
        "\n",
        "customer = np.array(customer_list)"
      ],
      "metadata": {
        "id": "cRe5BLXciRTI"
      },
      "execution_count": 412,
      "outputs": []
    },
    {
      "cell_type": "code",
      "source": [
        "customer"
      ],
      "metadata": {
        "colab": {
          "base_uri": "https://localhost:8080/"
        },
        "id": "Z8uo1TRqlvQX",
        "outputId": "c60caa33-a456-4684-a733-abeffa16ecf9"
      },
      "execution_count": 413,
      "outputs": [
        {
          "output_type": "execute_result",
          "data": {
            "text/plain": [
              "array([[ 74, 180],\n",
              "       [ 74, 215],\n",
              "       [ 72, 210],\n",
              "       [ 72, 210],\n",
              "       [ 73, 188],\n",
              "       [ 69, 176],\n",
              "       [ 69, 209],\n",
              "       [ 71, 200],\n",
              "       [ 76, 231],\n",
              "       [ 71, 180],\n",
              "       [ 73, 188],\n",
              "       [ 73, 180],\n",
              "       [ 74, 185],\n",
              "       [ 74, 160],\n",
              "       [ 69, 180]])"
            ]
          },
          "metadata": {},
          "execution_count": 413
        }
      ]
    },
    {
      "cell_type": "code",
      "source": [
        "customer.shape"
      ],
      "metadata": {
        "colab": {
          "base_uri": "https://localhost:8080/"
        },
        "id": "sePGitgnlwjd",
        "outputId": "fb23981a-038c-4664-f46e-28cf8a050235"
      },
      "execution_count": 414,
      "outputs": [
        {
          "output_type": "execute_result",
          "data": {
            "text/plain": [
              "(15, 2)"
            ]
          },
          "metadata": {},
          "execution_count": 414
        }
      ]
    },
    {
      "cell_type": "code",
      "source": [
        "cust_height = customer[:,0]\n",
        "\n",
        "cust_height"
      ],
      "metadata": {
        "colab": {
          "base_uri": "https://localhost:8080/"
        },
        "id": "WzJZbge2l0JF",
        "outputId": "dbc5a39b-39cb-4076-deba-3e1e19b1701b"
      },
      "execution_count": 415,
      "outputs": [
        {
          "output_type": "execute_result",
          "data": {
            "text/plain": [
              "array([74, 74, 72, 72, 73, 69, 69, 71, 76, 71, 73, 73, 74, 74, 69])"
            ]
          },
          "metadata": {},
          "execution_count": 415
        }
      ]
    },
    {
      "cell_type": "code",
      "source": [
        "# converting height to meter\n",
        "\n",
        "cust_height = cust_height * 0.0254\n",
        "\n",
        "cust_height"
      ],
      "metadata": {
        "colab": {
          "base_uri": "https://localhost:8080/"
        },
        "id": "r6nDK-zFmEJH",
        "outputId": "abd8e727-b07e-47e0-b253-f9fde7f11d8f"
      },
      "execution_count": 416,
      "outputs": [
        {
          "output_type": "execute_result",
          "data": {
            "text/plain": [
              "array([1.8796, 1.8796, 1.8288, 1.8288, 1.8542, 1.7526, 1.7526, 1.8034,\n",
              "       1.9304, 1.8034, 1.8542, 1.8542, 1.8796, 1.8796, 1.7526])"
            ]
          },
          "metadata": {},
          "execution_count": 416
        }
      ]
    },
    {
      "cell_type": "code",
      "source": [
        "cust_weight = customer[:,1]"
      ],
      "metadata": {
        "id": "NQ576bjrmSMu"
      },
      "execution_count": 417,
      "outputs": []
    },
    {
      "cell_type": "code",
      "source": [
        "cust_weight"
      ],
      "metadata": {
        "colab": {
          "base_uri": "https://localhost:8080/"
        },
        "id": "W94IAuEimXAu",
        "outputId": "6c831f53-a850-4730-cc9b-e326c692b5d5"
      },
      "execution_count": 418,
      "outputs": [
        {
          "output_type": "execute_result",
          "data": {
            "text/plain": [
              "array([180, 215, 210, 210, 188, 176, 209, 200, 231, 180, 188, 180, 185,\n",
              "       160, 180])"
            ]
          },
          "metadata": {},
          "execution_count": 418
        }
      ]
    },
    {
      "cell_type": "code",
      "source": [
        "cust_weight = cust_weight * 0.453592\n",
        "\n",
        "cust_weight"
      ],
      "metadata": {
        "colab": {
          "base_uri": "https://localhost:8080/"
        },
        "id": "cvu57dycmYJ2",
        "outputId": "4c68ef68-b982-4c72-e5fb-15385defd40b"
      },
      "execution_count": 419,
      "outputs": [
        {
          "output_type": "execute_result",
          "data": {
            "text/plain": [
              "array([ 81.64656 ,  97.52228 ,  95.25432 ,  95.25432 ,  85.275296,\n",
              "        79.832192,  94.800728,  90.7184  , 104.779752,  81.64656 ,\n",
              "        85.275296,  81.64656 ,  83.91452 ,  72.57472 ,  81.64656 ])"
            ]
          },
          "metadata": {},
          "execution_count": 419
        }
      ]
    },
    {
      "cell_type": "code",
      "source": [
        "bmi = cust_weight / cust_height**2"
      ],
      "metadata": {
        "id": "qiQaGeCsmdks"
      },
      "execution_count": 420,
      "outputs": []
    },
    {
      "cell_type": "code",
      "source": [
        "bmi"
      ],
      "metadata": {
        "colab": {
          "base_uri": "https://localhost:8080/"
        },
        "id": "kKecM2shmmFU",
        "outputId": "eab4f078-675c-45ed-a2a1-e88eae8e5113"
      },
      "execution_count": 421,
      "outputs": [
        {
          "output_type": "execute_result",
          "data": {
            "text/plain": [
              "array([23.11037639, 27.60406069, 28.48080465, 28.48080465, 24.80333518,\n",
              "       25.99036864, 30.86356276, 27.89402921, 28.11789135, 25.10462629,\n",
              "       24.80333518, 23.7478741 , 23.75233129, 20.54255679, 26.58105883])"
            ]
          },
          "metadata": {},
          "execution_count": 421
        }
      ]
    },
    {
      "cell_type": "code",
      "source": [
        "bmi.shape"
      ],
      "metadata": {
        "colab": {
          "base_uri": "https://localhost:8080/"
        },
        "id": "7xwLU6cHmmuW",
        "outputId": "cfa034c7-e961-4b58-8a80-2e87cd13594a"
      },
      "execution_count": 422,
      "outputs": [
        {
          "output_type": "execute_result",
          "data": {
            "text/plain": [
              "(15,)"
            ]
          },
          "metadata": {},
          "execution_count": 422
        }
      ]
    }
  ]
}