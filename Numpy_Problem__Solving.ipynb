{
  "nbformat": 4,
  "nbformat_minor": 0,
  "metadata": {
    "colab": {
      "provenance": []
    },
    "kernelspec": {
      "name": "python3",
      "display_name": "Python 3"
    },
    "language_info": {
      "name": "python"
    }
  },
  "cells": [
    {
      "cell_type": "code",
      "execution_count": 10,
      "metadata": {
        "id": "MuosPyI7RdKE"
      },
      "outputs": [],
      "source": [
        "import numpy as np"
      ]
    },
    {
      "cell_type": "markdown",
      "source": [
        "# CASE STUDY 1\n",
        "\n",
        "### Scenario Context: A Retail company wants to understand its customer's spending behaviours across different product categories. by analyzing patterns, the company aims to tailor its marketing strategies, offer personalized promotions.\n",
        "\n",
        "### objective: given a 2D Numpy array where rows represent customers and colums represent their spending in different categories, implement a function to find op \"N\" categories where each customer spends the most and return the average spending in those top categories"
      ],
      "metadata": {
        "id": "UwFI-kEMSYnU"
      }
    },
    {
      "cell_type": "code",
      "source": [
        "# in order to solve this problem ,lets try to build the logic first as per requirements.\n",
        "\n",
        "\"\"\"\n",
        "\n",
        "steps to be followed:\n",
        "\n",
        "    1. Input data: A 2D Numpy array where each row represents a customer and each column represent spendings in different categories.\n",
        "\n",
        "    2. Sorting: For each customer (ie. for each row), sort the categories by spending in descending order.\n",
        "\n",
        "    3. Top N Categories: select the top \"N\" categories with the highest spending for each customer.\n",
        "\n",
        "    4. Calculate Average Spending: compute the average spending in these top \"N\" Categories for each customer.\n",
        "\n",
        "    5. Output: return an array where each entry correspond to average spending in the top \"N\" categories for each customer.\n",
        "\n",
        "\n",
        "\"\"\""
      ],
      "metadata": {
        "colab": {
          "base_uri": "https://localhost:8080/",
          "height": 87
        },
        "id": "592znIeHRj6n",
        "outputId": "bccdae22-11e4-400f-ee91-57ac1de245d5"
      },
      "execution_count": 11,
      "outputs": [
        {
          "output_type": "execute_result",
          "data": {
            "text/plain": [
              "'\\n\\nsteps to be followed:\\n\\n    1. Input data: A 2D Numpy array where each row represents a customer and each column represent spendings in different categories.\\n\\n    2. Sorting: For each customer (ie. for each row), sort the categories by spending in descending order.\\n\\n    3. Top N Categories: select the top \"N\" categories with the highest spending for each customer.\\n\\n    4. Calculate Average Spending: compute the average spending in these top \"N\" Categories for each customer.\\n\\n    5. Output: return an array where each entry correspond to average spending in the top \"N\" categories for each customer.\\n\\n\\n'"
            ],
            "application/vnd.google.colaboratory.intrinsic+json": {
              "type": "string"
            }
          },
          "metadata": {},
          "execution_count": 11
        }
      ]
    },
    {
      "cell_type": "code",
      "source": [
        "# building the logic\n",
        "\n",
        "def top_categories_per_customer(purchase_data, N):\n",
        "    # assuming purchase data is shaped\n",
        "    top_categories = np.argsort(-purchase_data,axis=1)[:,:N]\n",
        "    average_spending = np.take_along_axis(purchase_data, top_categories, axis=1).mean(axis=1)\n",
        "    return average_spending\n",
        "\n",
        "purchase_data = np.random.rand(10,5)\n",
        "\n",
        "avg_spending = top_categories_per_customer(purchase_data, 3)\n",
        "print(avg_spending)"
      ],
      "metadata": {
        "colab": {
          "base_uri": "https://localhost:8080/"
        },
        "id": "WF5uG9X7U6mw",
        "outputId": "c178372e-6152-427f-b176-c5ffa2c667cc"
      },
      "execution_count": 12,
      "outputs": [
        {
          "output_type": "stream",
          "name": "stdout",
          "text": [
            "[0.72476085 0.83918727 0.72228281 0.45210702 0.58244723 0.66894926\n",
            " 0.82264583 0.79577138 0.75979932 0.64508241]\n"
          ]
        }
      ]
    },
    {
      "cell_type": "code",
      "source": [
        "purchase_data.shape"
      ],
      "metadata": {
        "colab": {
          "base_uri": "https://localhost:8080/"
        },
        "id": "FT2p16clV2w-",
        "outputId": "644930c2-687e-47ea-d3f4-139002a49730"
      },
      "execution_count": 13,
      "outputs": [
        {
          "output_type": "execute_result",
          "data": {
            "text/plain": [
              "(10, 5)"
            ]
          },
          "metadata": {},
          "execution_count": 13
        }
      ]
    },
    {
      "cell_type": "code",
      "source": [],
      "metadata": {
        "id": "5fnnWGrjWBhs"
      },
      "execution_count": 13,
      "outputs": []
    },
    {
      "cell_type": "markdown",
      "source": [
        "# CASE STUDY 2"
      ],
      "metadata": {
        "id": "7UhjBJmXO2Rq"
      }
    },
    {
      "cell_type": "markdown",
      "source": [
        "## Scenario Context: a company need to distrubute its overhead costs (like, rent,utilities,administrative expenses). across different departments. the goal is to allocate these costs based on each department's share of the total incurred costs to ensure fair distrubution and accurate finance reporting.\n",
        "\n",
        "## Objective: given a 2D Numpy array where rows represent different departments and columns represent various cost items, implement a function to allocate total overhead costs proportionally based on each department's share of total costs. return allocated costs for each department."
      ],
      "metadata": {
        "id": "4n6UofkkD4kx"
      }
    },
    {
      "cell_type": "code",
      "source": [
        "# in order to solve this problemfirst try to build logical approach as per the requirements.\n",
        "\n",
        "\"\"\"\n",
        "\n",
        "Input data: A 2D Numpy array where rows represent departments and columns represent varius cost items.\n",
        "\n",
        "Total cost calculation: calculate the total cost for each department by summing up cost items.\n",
        "\n",
        "Proportional Allocation: Determine each department's proportion over the total cost.\n",
        "\n",
        "Allocate Overhead: Multiply each departmnents proprtion by the tital overhead cost to get the allocated costs.\n",
        "\n",
        "Output: return an array of allocated overhead costs for each department.\n",
        "\n",
        "\"\"\"\n"
      ],
      "metadata": {
        "id": "Mg9HU_f4WHu9",
        "colab": {
          "base_uri": "https://localhost:8080/",
          "height": 87
        },
        "outputId": "2c3bdbf1-0d56-4601-b9dd-f52b843d48f5"
      },
      "execution_count": 14,
      "outputs": [
        {
          "output_type": "execute_result",
          "data": {
            "text/plain": [
              "\"\\n\\nInput data: A 2D Numpy array where rows represent departments and columns represent varius cost items.\\n\\nTotal cost calculation: calculate the total cost for each department by summing up cost items.\\n\\nProportional Allocation: Determine each department's proportion over the total cost. \\n\\nAllocate Overhead: Multiply each departmnents proprtion by the tital overhead cost to get the allocated costs.\\n\\nOutput: return an array of allocated overhead costs for each department.\\n\\n\""
            ],
            "application/vnd.google.colaboratory.intrinsic+json": {
              "type": "string"
            }
          },
          "metadata": {},
          "execution_count": 14
        }
      ]
    },
    {
      "cell_type": "code",
      "source": [
        "import numpy as np\n",
        "\n",
        "def allocate_costs(cost_data, total_overhead):\n",
        "    #assuming cost data is shaped (departments, cost items)\n",
        "    total_costs = cost_data.sum(axis=1)\n",
        "    allocation = (total_costs / total_costs.sum()) * total_overhead\n",
        "    return allocation\n",
        "\n",
        "cost_data = np.array([[1000,500],[1500,800]])\n",
        "#cost items for two departments\n",
        "allocated_costs = allocate_costs(cost_data, 3000)\n",
        "# total overhead cost to allocate\n",
        "print(allocate_costs)"
      ],
      "metadata": {
        "colab": {
          "base_uri": "https://localhost:8080/"
        },
        "id": "C_usOT1XF9ok",
        "outputId": "2c61ac60-fff3-4cdb-f83f-56c87885a65b"
      },
      "execution_count": 15,
      "outputs": [
        {
          "output_type": "stream",
          "name": "stdout",
          "text": [
            "<function allocate_costs at 0x7d37ef248e00>\n"
          ]
        }
      ]
    },
    {
      "cell_type": "markdown",
      "source": [
        "# CASE STUDY 3: SALES TREND ANALYSIS"
      ],
      "metadata": {
        "id": "cO97LyQaHFUK"
      }
    },
    {
      "cell_type": "markdown",
      "source": [
        "## Scenario Context: a retail chain wants to analyse the sales performance of its stores over the past year.understanding which store performs best can help with resource allocation, inventory management and targeted marketing strategies.\n",
        "\n",
        "## Objective: you have a 2D Numpy array where each represent daily sales data for different store over a year. implement a function to compute the monthly average sales for each store and identify the store with highest mnthly average sales"
      ],
      "metadata": {
        "id": "gfhF6g-eHLWr"
      }
    },
    {
      "cell_type": "code",
      "source": [
        "# in order to solve this first lets try to build ligical approach as per requirements.\n",
        "\n",
        "\"\"\"\n",
        "\n",
        "Input data : A 2D Numpy array where rows represent daily sales data and columns represent different stores.\n",
        "\n",
        "Reshape data:  reshapes data by group by months (assuming 30 days per month)\n",
        "\n",
        "Calculate Monthly sales: calculate the average of monthly sales across all months for each store.\n",
        "\n",
        "Identify top stores: find the store with highest average monthly sales.\n",
        "\n",
        "Output: return the average monthly sales for each store and the index of the store with the highest sales.\n",
        "\n",
        "\"\"\""
      ],
      "metadata": {
        "colab": {
          "base_uri": "https://localhost:8080/",
          "height": 87
        },
        "id": "-4axLlnyG6zN",
        "outputId": "db52e85f-0325-441b-a975-be67941b179b"
      },
      "execution_count": 16,
      "outputs": [
        {
          "output_type": "execute_result",
          "data": {
            "text/plain": [
              "'\\n\\nInput data : A 2D Numpy array where rows represent daily sales data and columns represent different stores.\\n\\nReshape data:  reshapes data by group by months (assuming 30 days per month)\\n\\nCalculate Monthly sales: calculate the average of monthly sales across all months for each store.\\n\\nIdentify top stores: find the store with highest average monthly sales.\\n\\nOutput: return the average monthly sales for each store and the index of the store with the highest sales.\\n\\n'"
            ],
            "application/vnd.google.colaboratory.intrinsic+json": {
              "type": "string"
            }
          },
          "metadata": {},
          "execution_count": 16
        }
      ]
    },
    {
      "cell_type": "code",
      "source": [
        "import numpy as np\n",
        "\n",
        "def average_monthly_sales(sales_data):\n",
        "    # asuuming data is shaped --> (days, stores)\n",
        "    days_Per_month = 30\n",
        "    months = sales_data.shape[0] // days_Per_month\n",
        "    monthly_sales = sales_data.reshape(-1, days_Per_month, sales_data.shape[1]).mean(axis=1)\n",
        "    avg_monthly_sales = monthly_sales.mean(axis=0)\n",
        "    store_with_highest_sales = np.argmax(avg_monthly_sales)\n",
        "    return avg_monthly_sales, store_with_highest_sales\n",
        "\n",
        "sales_data = np.random.rand(365,5)\n",
        "avg_sales, best_store = average_monthly_sales(sales_data)\n",
        "print(avg_sales)\n",
        "print(f\"stores with highest average monthly sales : Store{best_store}\")\n"
      ],
      "metadata": {
        "colab": {
          "base_uri": "https://localhost:8080/",
          "height": 332
        },
        "id": "CNjcqrwUJDwI",
        "outputId": "0dbf3760-4f1a-4e8b-9acc-a29364fe8e4f"
      },
      "execution_count": 17,
      "outputs": [
        {
          "output_type": "error",
          "ename": "ValueError",
          "evalue": "cannot reshape array of size 1825 into shape (30,5)",
          "traceback": [
            "\u001b[0;31m---------------------------------------------------------------------------\u001b[0m",
            "\u001b[0;31mValueError\u001b[0m                                Traceback (most recent call last)",
            "\u001b[0;32m<ipython-input-17-985a2b81e4c8>\u001b[0m in \u001b[0;36m<cell line: 0>\u001b[0;34m()\u001b[0m\n\u001b[1;32m     11\u001b[0m \u001b[0;34m\u001b[0m\u001b[0m\n\u001b[1;32m     12\u001b[0m \u001b[0msales_data\u001b[0m \u001b[0;34m=\u001b[0m \u001b[0mnp\u001b[0m\u001b[0;34m.\u001b[0m\u001b[0mrandom\u001b[0m\u001b[0;34m.\u001b[0m\u001b[0mrand\u001b[0m\u001b[0;34m(\u001b[0m\u001b[0;36m365\u001b[0m\u001b[0;34m,\u001b[0m\u001b[0;36m5\u001b[0m\u001b[0;34m)\u001b[0m\u001b[0;34m\u001b[0m\u001b[0;34m\u001b[0m\u001b[0m\n\u001b[0;32m---> 13\u001b[0;31m \u001b[0mavg_sales\u001b[0m\u001b[0;34m,\u001b[0m \u001b[0mbest_store\u001b[0m \u001b[0;34m=\u001b[0m \u001b[0maverage_monthly_sales\u001b[0m\u001b[0;34m(\u001b[0m\u001b[0msales_data\u001b[0m\u001b[0;34m)\u001b[0m\u001b[0;34m\u001b[0m\u001b[0;34m\u001b[0m\u001b[0m\n\u001b[0m\u001b[1;32m     14\u001b[0m \u001b[0mprint\u001b[0m\u001b[0;34m(\u001b[0m\u001b[0mavg_sales\u001b[0m\u001b[0;34m)\u001b[0m\u001b[0;34m\u001b[0m\u001b[0;34m\u001b[0m\u001b[0m\n\u001b[1;32m     15\u001b[0m \u001b[0mprint\u001b[0m\u001b[0;34m(\u001b[0m\u001b[0;34mf\"stores with highest average monthly sales : Store{best_store}\"\u001b[0m\u001b[0;34m)\u001b[0m\u001b[0;34m\u001b[0m\u001b[0;34m\u001b[0m\u001b[0m\n",
            "\u001b[0;32m<ipython-input-17-985a2b81e4c8>\u001b[0m in \u001b[0;36maverage_monthly_sales\u001b[0;34m(sales_data)\u001b[0m\n\u001b[1;32m      5\u001b[0m     \u001b[0mdays_Per_month\u001b[0m \u001b[0;34m=\u001b[0m \u001b[0;36m30\u001b[0m\u001b[0;34m\u001b[0m\u001b[0;34m\u001b[0m\u001b[0m\n\u001b[1;32m      6\u001b[0m     \u001b[0mmonths\u001b[0m \u001b[0;34m=\u001b[0m \u001b[0msales_data\u001b[0m\u001b[0;34m.\u001b[0m\u001b[0mshape\u001b[0m\u001b[0;34m[\u001b[0m\u001b[0;36m0\u001b[0m\u001b[0;34m]\u001b[0m \u001b[0;34m//\u001b[0m \u001b[0mdays_Per_month\u001b[0m\u001b[0;34m\u001b[0m\u001b[0;34m\u001b[0m\u001b[0m\n\u001b[0;32m----> 7\u001b[0;31m     \u001b[0mmonthly_sales\u001b[0m \u001b[0;34m=\u001b[0m \u001b[0msales_data\u001b[0m\u001b[0;34m.\u001b[0m\u001b[0mreshape\u001b[0m\u001b[0;34m(\u001b[0m\u001b[0;34m-\u001b[0m\u001b[0;36m1\u001b[0m\u001b[0;34m,\u001b[0m \u001b[0mdays_Per_month\u001b[0m\u001b[0;34m,\u001b[0m \u001b[0msales_data\u001b[0m\u001b[0;34m.\u001b[0m\u001b[0mshape\u001b[0m\u001b[0;34m[\u001b[0m\u001b[0;36m1\u001b[0m\u001b[0;34m]\u001b[0m\u001b[0;34m)\u001b[0m\u001b[0;34m.\u001b[0m\u001b[0mmean\u001b[0m\u001b[0;34m(\u001b[0m\u001b[0maxis\u001b[0m\u001b[0;34m=\u001b[0m\u001b[0;36m1\u001b[0m\u001b[0;34m)\u001b[0m\u001b[0;34m\u001b[0m\u001b[0;34m\u001b[0m\u001b[0m\n\u001b[0m\u001b[1;32m      8\u001b[0m     \u001b[0mavg_monthly_sales\u001b[0m \u001b[0;34m=\u001b[0m \u001b[0mmonthly_sales\u001b[0m\u001b[0;34m.\u001b[0m\u001b[0mmean\u001b[0m\u001b[0;34m(\u001b[0m\u001b[0maxis\u001b[0m\u001b[0;34m=\u001b[0m\u001b[0;36m0\u001b[0m\u001b[0;34m)\u001b[0m\u001b[0;34m\u001b[0m\u001b[0;34m\u001b[0m\u001b[0m\n\u001b[1;32m      9\u001b[0m     \u001b[0mstore_with_highest_sales\u001b[0m \u001b[0;34m=\u001b[0m \u001b[0mnp\u001b[0m\u001b[0;34m.\u001b[0m\u001b[0margmax\u001b[0m\u001b[0;34m(\u001b[0m\u001b[0mavg_monthly_sales\u001b[0m\u001b[0;34m)\u001b[0m\u001b[0;34m\u001b[0m\u001b[0;34m\u001b[0m\u001b[0m\n",
            "\u001b[0;31mValueError\u001b[0m: cannot reshape array of size 1825 into shape (30,5)"
          ]
        }
      ]
    },
    {
      "cell_type": "markdown",
      "source": [
        "# CASE STUDY 4: PROFITABILITY ANALYSIS"
      ],
      "metadata": {
        "id": "hCP-b_4OLAHQ"
      }
    },
    {
      "cell_type": "code",
      "source": [
        "import numpy as np\n",
        "\n",
        "def calculate_profit(product_data):\n",
        "    cost_column = 0\n",
        "    price_column = 1\n",
        "    units_sold_column = 2\n",
        "    total_profit = (product_data[:, price_column] - product_data[:, cost_column]) * product_data[:, units_sold_column]\n",
        "    product_with_highest_profit = np.argmax(total_profit)\n",
        "    return total_profit, product_with_highest_profit\n",
        "\n",
        "product_data = np.array([[100, 150, 10], [200, 250, 5]])\n",
        "# Cost, Price, Units Sold\n",
        "\n",
        "total_profit, highest_profit_product = calculate_profit(product_data)\n",
        "\n",
        "print(total_profit)\n",
        "print(f\"Product with highest total profit: Product {highest_profit_product}\")\n"
      ],
      "metadata": {
        "id": "sShUSvrkKX5E"
      },
      "execution_count": null,
      "outputs": []
    },
    {
      "cell_type": "code",
      "source": [
        "\n"
      ],
      "metadata": {
        "id": "z_yV2vIxLHPr"
      },
      "execution_count": null,
      "outputs": []
    },
    {
      "cell_type": "markdown",
      "source": [
        "# CASE STUDY 5: ADVANCED DATA OPERATIONS - Analyzing product sales data\n",
        "\n"
      ],
      "metadata": {
        "id": "-U9alAMFLTw5"
      }
    },
    {
      "cell_type": "code",
      "source": [
        "import numpy as np\n",
        "\n",
        "demand = np.array([\n",
        "    [100, 150, 200],\n",
        "    [80, 120, 100],\n",
        "    [50, 70, 60]\n",
        "])\n",
        "\n",
        "sales = np.array([\n",
        "    [100, 150, 200],\n",
        "    [70, 100, 90],\n",
        "    [25, 40, 30]\n",
        "])\n",
        "\n",
        "# Task 1: Product Sellout Status\n",
        "sellout_status = np.all(sales == demand, axis=1).astype(int)\n",
        "\n",
        "# Task 2: At Least One Unsatisfied Demand\n",
        "unsatisfied_demand_flag = np.any(sales < demand, axis=1).astype(int)\n",
        "\n",
        "# Task 3: Adjusted Sales Based on Condition\n",
        "adjusted_sales = np.where(sales < 0.5 * demand, sales * 1.2, sales)\n",
        "\n",
        "print(\"sellout_status:\", sellout_status)\n",
        "print(\"unsatisfied_demand_flag:\", unsatisfied_demand_flag)\n",
        "print(\"adjusted_sales:\")\n",
        "print(adjusted_sales)\n"
      ],
      "metadata": {
        "id": "iMyBIHQRLJ2a"
      },
      "execution_count": null,
      "outputs": []
    },
    {
      "cell_type": "code",
      "source": [],
      "metadata": {
        "id": "5D-lgfWQLty0"
      },
      "execution_count": null,
      "outputs": []
    }
  ]
}